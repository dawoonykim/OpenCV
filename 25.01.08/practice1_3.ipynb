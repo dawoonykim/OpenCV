{
 "cells": [
  {
   "cell_type": "code",
   "execution_count": 2,
   "metadata": {},
   "outputs": [],
   "source": [
    "import cv2\n",
    "\n",
    "face_cascade = cv2.CascadeClassifier(\n",
    "    \"../cascade/haarcascade_frontalface_default.xml\")\n",
    "eye_cascade = cv2.CascadeClassifier(\"../cascade/haarcascade_eye.xml\")\n",
    "\n",
    "family = \"../images/family.jpg\""
   ]
  },
  {
   "cell_type": "code",
   "execution_count": 8,
   "metadata": {},
   "outputs": [],
   "source": [
    "img = cv2.imread(family)\n",
    "coppied = cv2.resize(img, None, fx=0.8, fy=0.8)\n",
    "cv2.imshow(\"img\", coppied)\n",
    "\n",
    "cv2.waitKey(0)\n",
    "cv2.destroyAllWindows()"
   ]
  },
  {
   "cell_type": "code",
   "execution_count": 41,
   "metadata": {},
   "outputs": [],
   "source": [
    "img = cv2.imread(family)\n",
    "# coppied = cv2.resize(img, None, fx=0.8, fy=0.8)\n",
    "eye_images = [cv2.imread(\"../images/left_eye.jpg\"),\n",
    "              cv2.imread(\"../images/right_eye.jpg\")]\n",
    "\n",
    "gray = cv2.cvtColor(img, cv2.COLOR_BGR2GRAY)\n",
    "\n",
    "faces = face_cascade.detectMultiScale(\n",
    "    gray, scaleFactor=1.1, minNeighbors=10, minSize=(20, 20))\n",
    "\n",
    "for xf, yf, wf, hf in faces:\n",
    "    cropped = gray[yf:yf+hf, xf:xf+wf]\n",
    "    # cv2.rectangle(img, (xf, yf), (xf+wf, yf+hf),\n",
    "    # (125, 145, 47), 2, cv2.LINE_AA)\n",
    "    eyes = eye_cascade.detectMultiScale(\n",
    "        cropped, scaleFactor=1.1, minNeighbors=3, minSize=(10, 10))\n",
    "    for i, (xe, ye, we, he) in enumerate(eyes):\n",
    "        xe += xf\n",
    "        ye += yf\n",
    "        # print(i)\n",
    "        img[ye:ye+he, xe:xe+we] = cv2.resize(eye_images[i], (we, he))\n",
    "        # cv2.rectangle(img, (xe, ye), (xe+we, ye+he),\n",
    "        # (25, 145, 231), 2, cv2.LINE_AA)\n",
    "\n",
    "cv2.imshow(\"img\", img)\n",
    "\n",
    "cv2.waitKey(0)\n",
    "cv2.destroyAllWindows()"
   ]
  },
  {
   "cell_type": "markdown",
   "metadata": {},
   "source": [
    "# 영상(camera)"
   ]
  },
  {
   "cell_type": "code",
   "execution_count": 8,
   "metadata": {},
   "outputs": [
    {
     "ename": "",
     "evalue": "",
     "output_type": "error",
     "traceback": [
      "\u001b[1;31mThe Kernel crashed while executing code in the current cell or a previous cell. \n",
      "\u001b[1;31mPlease review the code in the cell(s) to identify a possible cause of the failure. \n",
      "\u001b[1;31mClick <a href='https://aka.ms/vscodeJupyterKernelCrash'>here</a> for more info. \n",
      "\u001b[1;31mView Jupyter <a href='command:jupyter.viewOutput'>log</a> for further details."
     ]
    }
   ],
   "source": [
    "cap = cv2.VideoCapture(0)\n",
    "eye_images = [cv2.imread(\"../images/left_eye.jpg\"),\n",
    "              cv2.imread(\"../images/right_eye.jpg\")]\n",
    "if not cap.isOpened():\n",
    "    exit()\n",
    "\n",
    "while True:\n",
    "\n",
    "    ret, frame = cap.read()\n",
    "\n",
    "    if not ret:\n",
    "        break\n",
    "    frame_flip = cv2.flip(frame, 1)\n",
    "    coppied = frame_flip.copy()\n",
    "    gray = cv2.cvtColor(coppied, cv2.COLOR_BGR2GRAY)\n",
    "    faces = face_cascade.detectMultiScale(\n",
    "        gray, scaleFactor=1.1, minNeighbors=5, minSize=(20, 20))\n",
    "\n",
    "    for xf, yf, wf, hf in faces:\n",
    "\n",
    "        cropped = gray[yf:yf+hf, xf:xf+wf]\n",
    "        # cv2.rectangle(coppied, (xf, yf), (xf+wf, yf+hf),\n",
    "        # (124, 14, 123), 2, cv2.LINE_AA)\n",
    "\n",
    "        eyes = eye_cascade.detectMultiScale(\n",
    "            cropped, scaleFactor=1.1, minNeighbors=10, minSize=(30, 30))\n",
    "\n",
    "        for i, (xe, ye, we, he) in enumerate(eyes):\n",
    "            xe += xf\n",
    "            ye += yf\n",
    "            coppied[ye:ye+he, xe:xe+we] = cv2.resize(eye_images[i], (we, he))\n",
    "            # cv2.rectangle(coppied, (xe, ye), (xe+we, ye+he),\n",
    "            # (52, 149, 254), 2, cv2.LINE_AA)\n",
    "    cv2.imshow(\"camera\", coppied)\n",
    "\n",
    "    if cv2.waitKey(1) != -1:\n",
    "        break\n",
    "cap.release()\n",
    "cv2.destroyAllWindows()"
   ]
  },
  {
   "cell_type": "markdown",
   "metadata": {},
   "source": [
    "# 영상(video)"
   ]
  },
  {
   "cell_type": "code",
   "execution_count": 7,
   "metadata": {},
   "outputs": [],
   "source": [
    "cap = cv2.VideoCapture(\"../videos/faces1.mp4\")\n",
    "eye_images = [cv2.imread(\"../images/left_eye.jpg\"),\n",
    "              cv2.imread(\"../images/right_eye.jpg\")]\n",
    "\n",
    "fps = cap.get(cv2.CAP_PROP_FPS)\n",
    "while cap.isOpened():\n",
    "\n",
    "    ret, frame = cap.read()\n",
    "\n",
    "    if not ret:\n",
    "        break\n",
    "    # frame_flip = cv2.flip(frame, 1)\n",
    "    # coppied = frame_flip.copy()\n",
    "    coppied = frame.copy()\n",
    "    gray = cv2.cvtColor(coppied, cv2.COLOR_BGR2GRAY)\n",
    "    faces = face_cascade.detectMultiScale(\n",
    "        gray, scaleFactor=1.1, minNeighbors=10, minSize=(20, 20))\n",
    "\n",
    "    for xf, yf, wf, hf in faces:\n",
    "\n",
    "        cropped = gray[yf:yf+hf, xf:xf+wf]\n",
    "        cv2.rectangle(coppied, (xf, yf), (xf+wf, yf+hf),\n",
    "                      (124, 14, 123), 2, cv2.LINE_AA)\n",
    "\n",
    "        eyes = eye_cascade.detectMultiScale(\n",
    "            cropped, scaleFactor=1.1, minNeighbors=10, minSize=(30, 30))\n",
    "\n",
    "        for i, (xe, ye, we, he) in enumerate(eyes):\n",
    "            xe += xf\n",
    "            ye += yf\n",
    "            # coppied[ye:ye+he, xe:xe+we] = cv2.resize(eye_images[i], (we, he))\n",
    "            cv2.rectangle(coppied, (xe, ye), (xe+we, ye+he),\n",
    "                          (52, 149, 254), 2, cv2.LINE_AA)\n",
    "    cv2.imshow(\"camera\", coppied)\n",
    "\n",
    "    if cv2.waitKey(int(10000/fps)) != -1:\n",
    "        break\n",
    "cap.release()\n",
    "cv2.destroyAllWindows()"
   ]
  }
 ],
 "metadata": {
  "kernelspec": {
   "display_name": "my_cv",
   "language": "python",
   "name": "python3"
  },
  "language_info": {
   "codemirror_mode": {
    "name": "ipython",
    "version": 3
   },
   "file_extension": ".py",
   "mimetype": "text/x-python",
   "name": "python",
   "nbconvert_exporter": "python",
   "pygments_lexer": "ipython3",
   "version": "3.13.0"
  }
 },
 "nbformat": 4,
 "nbformat_minor": 2
}
