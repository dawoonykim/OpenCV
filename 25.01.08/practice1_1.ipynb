{
 "cells": [
  {
   "cell_type": "code",
   "execution_count": 1,
   "metadata": {},
   "outputs": [],
   "source": [
    "import cv2\n",
    "import numpy as np"
   ]
  },
  {
   "cell_type": "code",
   "execution_count": 21,
   "metadata": {},
   "outputs": [],
   "source": [
    "minji = \"../images/newjeans.jpg\"\n",
    "\n",
    "face_cascade = cv2.CascadeClassifier(\n",
    "    \"../cascade/haarcascade_frontalface_default.xml\")\n",
    "\n",
    "eye_cascade = cv2.CascadeClassifier(\"../cascade/haarcascade_eye.xml\")"
   ]
  },
  {
   "cell_type": "code",
   "execution_count": null,
   "metadata": {},
   "outputs": [],
   "source": [
    "img = cv2.imread(minji)\n",
    "minji_resize = cv2.resize(img, None, fx=0.8, fy=0.8)\n",
    "coppied = minji_resize.copy()\n",
    "gray = cv2.cvtColor(coppied, cv2.COLOR_BGR2GRAY)\n",
    "\n",
    "faces = face_cascade.detectMultiScale(\n",
    "    coppied, scaleFactor=1.1, minNeighbors=5, minSize=(20, 20))\n",
    "\n",
    "for xf, yf, wf, hf in faces:\n",
    "    cv2.rectangle(coppied, (xf, yf), (xf+wf, yf+hf), (12, 54, 125), 2, cv2.LINE_AA)\n",
    "\n",
    "cv2.imshow(\"img\", coppied)\n",
    "\n",
    "cv2.waitKey(0)\n",
    "cv2.destroyAllWindows()"
   ]
  },
  {
   "cell_type": "code",
   "execution_count": 17,
   "metadata": {},
   "outputs": [],
   "source": [
    "img = cv2.imread(minji)\n",
    "minji_resize = cv2.resize(img, None, fx=0.8, fy=0.8)\n",
    "coppied = minji_resize.copy()\n",
    "gray = cv2.cvtColor(coppied, cv2.COLOR_BGR2GRAY)\n",
    "\n",
    "faces = face_cascade.detectMultiScale(\n",
    "    coppied, scaleFactor=1.1, minNeighbors=5, minSize=(20, 20))\n",
    "eyes = eye_cascade.detectMultiScale(\n",
    "    coppied, scaleFactor=1.1, minNeighbors=10, minSize=(10, 10),maxSize=(50,50))\n",
    "for (xf, yf, wf, hf), (xe, ye, we, he) in zip(faces, eyes):\n",
    "    cv2.rectangle(coppied, (xf, yf), (xf+wf, yf+hf),\n",
    "                  (12, 54, 125), 2, cv2.LINE_AA)\n",
    "    cv2.rectangle(coppied, (xe, ye), (xe+we, ye+he),\n",
    "                  (12, 54, 125), 2, cv2.LINE_AA)\n",
    "cv2.imshow(\"img\", coppied)\n",
    "\n",
    "cv2.waitKey(0)\n",
    "cv2.destroyAllWindows()"
   ]
  },
  {
   "cell_type": "code",
   "execution_count": 22,
   "metadata": {},
   "outputs": [],
   "source": [
    "import cv2\n",
    "\n",
    "# 이미지 읽기\n",
    "img = cv2.imread(minji)\n",
    "minji_resize = cv2.resize(img, None, fx=0.8, fy=0.8)\n",
    "coppied = minji_resize.copy()\n",
    "gray = cv2.cvtColor(coppied, cv2.COLOR_BGR2GRAY)\n",
    "\n",
    "# 얼굴 인식\n",
    "faces = face_cascade.detectMultiScale(\n",
    "    coppied, scaleFactor=1.1, minNeighbors=5, minSize=(20, 20))\n",
    "\n",
    "# 눈 인식\n",
    "for (xf, yf, wf, hf) in faces:\n",
    "    # 얼굴 영역 자르기\n",
    "    face_roi = gray[yf:yf+hf, xf:xf+wf]\n",
    "\n",
    "    # 자른 얼굴 영역에서 눈 인식\n",
    "    eyes = eye_cascade.detectMultiScale(\n",
    "        face_roi, scaleFactor=1.1, minNeighbors=10, minSize=(10, 10), maxSize=(50, 50))\n",
    "\n",
    "    # 눈 위치 계산 (원래 이미지 기준)\n",
    "    for (xe, ye, we, he) in eyes:\n",
    "        xe += xf\n",
    "        ye += yf\n",
    "        cv2.rectangle(coppied, (xe, ye), (xe+we, ye+he),\n",
    "                      (12, 54, 125), 2, cv2.LINE_AA)\n",
    "\n",
    "    # 얼굴 영역에 사각형 그리기\n",
    "    cv2.rectangle(coppied, (xf, yf), (xf+wf, yf+hf),\n",
    "                  (12, 54, 125), 2, cv2.LINE_AA)\n",
    "\n",
    "cv2.imshow(\"img\", coppied)\n",
    "cv2.waitKey(0)\n",
    "cv2.destroyAllWindows()"
   ]
  },
  {
   "cell_type": "code",
   "execution_count": null,
   "metadata": {},
   "outputs": [],
   "source": []
  }
 ],
 "metadata": {
  "kernelspec": {
   "display_name": "my_cv",
   "language": "python",
   "name": "python3"
  },
  "language_info": {
   "codemirror_mode": {
    "name": "ipython",
    "version": 3
   },
   "file_extension": ".py",
   "mimetype": "text/x-python",
   "name": "python",
   "nbconvert_exporter": "python",
   "pygments_lexer": "ipython3",
   "version": "3.13.0"
  }
 },
 "nbformat": 4,
 "nbformat_minor": 2
}
