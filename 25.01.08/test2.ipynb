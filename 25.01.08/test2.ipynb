{
 "cells": [
  {
   "cell_type": "markdown",
   "metadata": {},
   "source": [
    "# 실습 2 귀여운 눈 덮어 씌우기"
   ]
  },
  {
   "cell_type": "markdown",
   "metadata": {},
   "source": [
    "## 1. 원하는 사람 이미지에서 눈을 찾아서"
   ]
  },
  {
   "cell_type": "code",
   "execution_count": 7,
   "metadata": {},
   "outputs": [],
   "source": [
    "import cv2\n",
    "\n",
    "eye_cascade = cv2.CascadeClassifier(\"../cascade/haarcascade_eye.xml\")\n",
    "\n",
    "img = cv2.imread(\"../images/hao-peng.jpg\")\n",
    "coppied = cv2.resize(img, None, fx=0.7, fy=0.7)\n",
    "cv2.imshow(\"img\", coppied)\n",
    "cv2.waitKey(0)\n",
    "cv2.destroyAllWindows()"
   ]
  },
  {
   "cell_type": "code",
   "execution_count": null,
   "metadata": {},
   "outputs": [],
   "source": [
    "import cv2\n",
    "\n",
    "eye_cascade = cv2.CascadeClassifier(\"../cascade/haarcascade_eye.xml\")\n",
    "\n",
    "img = cv2.imread(\"../images/hao-peng.jpg\")\n",
    "coppied = cv2.resize(img, None, fx=0.7, fy=0.7)\n",
    "cv2.imshow(\"img\", coppied)\n",
    "cv2.waitKey(0)\n",
    "cv2.destroyAllWindows()"
   ]
  },
  {
   "cell_type": "code",
   "execution_count": 55,
   "metadata": {},
   "outputs": [],
   "source": [
    "import cv2\n",
    "\n",
    "eye_cascade = cv2.CascadeClassifier(\"../cascade/haarcascade_eye.xml\")\n",
    "\n",
    "img = cv2.imread(\"../images/hao-peng.jpg\")\n",
    "coppied = cv2.resize(img, None, fx=0.7, fy=0.7)\n",
    "gray = cv2.cvtColor(coppied, cv2.COLOR_BGR2GRAY)\n",
    "eyes = eye_cascade.detectMultiScale(\n",
    "    gray, scaleFactor=1.1, minNeighbors=5, minSize=(20, 20))\n",
    "\n",
    "for x,y,w,h in eyes:\n",
    "  cv2.rectangle(coppied,(x,y),(x+w,y+h),(125,45,87),2,cv2.LINE_AA)\n",
    "\n",
    "cv2.imshow(\"img\", coppied)\n",
    "cv2.waitKey(0)\n",
    "cv2.destroyAllWindows()"
   ]
  },
  {
   "cell_type": "code",
   "execution_count": 34,
   "metadata": {},
   "outputs": [],
   "source": [
    "import cv2\n",
    "\n",
    "eye_cascade = cv2.CascadeClassifier(\"../cascade/haarcascade_eye.xml\")\n",
    "\n",
    "img = cv2.imread(\"../images/hao-peng.jpg\")\n",
    "eye_img = cv2.imread(\"../images/left_eye.jpg\")\n",
    "\n",
    "gray = cv2.cvtColor(img, cv2.COLOR_BGR2GRAY)\n",
    "eyes = eye_cascade.detectMultiScale(\n",
    "    gray, scaleFactor=1.1, minNeighbors=10, minSize=(20, 20))\n",
    "\n",
    "for x, y, w, h in eyes:\n",
    "    cv2.rectangle(img, (x, y), (x+w, y+h), (255, 255, 255), 2, cv2.LINE_AA)\n",
    "    # coppied = cv2.resize(eye_img, (w, h))\n",
    "    # img[y:y+h, x:x+w] = coppied\n",
    "\n",
    "cv2.imshow(\"img\", img)\n",
    "cv2.waitKey(0)\n",
    "cv2.destroyAllWindows()"
   ]
  },
  {
   "cell_type": "markdown",
   "metadata": {},
   "source": [
    "## 2. 해당 영역에 귀여운 눈을 덮어 씌워보기"
   ]
  },
  {
   "cell_type": "code",
   "execution_count": 52,
   "metadata": {},
   "outputs": [],
   "source": [
    "import cv2\n",
    "\n",
    "eye_cascade = cv2.CascadeClassifier(\"../cascade/haarcascade_eye.xml\")\n",
    "\n",
    "img = cv2.imread(\"../images/hao-peng.jpg\")\n",
    "coppied = cv2.resize(img, None, fx=0.7, fy=0.7)\n",
    "leye_img = cv2.imread(\"../images/left_eye.jpg\")\n",
    "reye_img = cv2.imread(\"../images/right_eye.jpg\")\n",
    "gray = cv2.cvtColor(coppied, cv2.COLOR_BGR2GRAY)\n",
    "eyes = eye_cascade.detectMultiScale(\n",
    "    gray, scaleFactor=1.1, minNeighbors=5, minSize=(20, 20))\n",
    "\n",
    "for x, y, w, h in eyes:\n",
    "    # cv2.rectangle(coppied, (x, y), (x+w, y+h), (125, 45, 87), 2, cv2.LINE_AA)\n",
    "    # print((x+w)*(y+h))\n",
    "    leye_img_coppied = cv2.resize(leye_img, (w, h))\n",
    "    reye_img_coppied = cv2.resize(reye_img, (w, h))\n",
    "    if (x+w)*(y+h) > 90000:\n",
    "        coppied[y:y+h, x:x+w] = leye_img_coppied\n",
    "    else:\n",
    "        coppied[y:y+h, x:x+w] = reye_img_coppied\n",
    "\n",
    "cv2.imshow(\"img\", coppied)\n",
    "cv2.waitKey(0)\n",
    "cv2.destroyAllWindows()"
   ]
  },
  {
   "cell_type": "code",
   "execution_count": 54,
   "metadata": {},
   "outputs": [],
   "source": [
    "import cv2\n",
    "\n",
    "eye_cascade = cv2.CascadeClassifier(\"../cascade/haarcascade_eye.xml\")\n",
    "\n",
    "img = cv2.imread(\"../images/hao-peng.jpg\")\n",
    "coppied = cv2.resize(img, None, fx=0.7, fy=0.7)\n",
    "eye_images = [cv2.imread(\"../images/left_eye.jpg\"),\n",
    "              cv2.imread(\"../images/right_eye.jpg\")]\n",
    "gray = cv2.cvtColor(coppied, cv2.COLOR_BGR2GRAY)\n",
    "eyes = eye_cascade.detectMultiScale(\n",
    "    gray, scaleFactor=1.1, minNeighbors=5, minSize=(20, 20))\n",
    "\n",
    "# 눈 영역을 크기 순으로 정렬\n",
    "eyes = sorted(eyes, key=lambda x: x[2] * x[3])\n",
    "\n",
    "# 가장 큰 눈 영역에 첫 번째 눈 이미지, 나머지 눈 영역에 두 번째 눈 이미지 적용\n",
    "for i, (x, y, w, h) in enumerate(eyes):\n",
    "    eye_resized = cv2.resize(eye_images[i % len(eye_images)], (w, h))\n",
    "    coppied[y:y+h, x:x+w] = eye_resized\n",
    "\n",
    "cv2.imshow(\"img\", coppied)\n",
    "cv2.waitKey(0)\n",
    "cv2.destroyAllWindows()"
   ]
  },
  {
   "cell_type": "markdown",
   "metadata": {},
   "source": [
    "## 리더님 코드"
   ]
  },
  {
   "cell_type": "code",
   "execution_count": 65,
   "metadata": {},
   "outputs": [],
   "source": [
    "import cv2\n",
    "import numpy as np\n",
    "\n",
    "eye_cascade = cv2.CascadeClassifier(\"../cascade/haarcascade_eye.xml\")\n",
    "\n",
    "img = cv2.imread(\"../images/hao-peng.jpg\")\n",
    "coppied = cv2.resize(img, None, fx=0.7, fy=0.7)\n",
    "eye_images = [cv2.imread(\"../images/left_eye.jpg\"),\n",
    "              cv2.imread(\"../images/right_eye.jpg\")]\n",
    "gray = cv2.cvtColor(coppied, cv2.COLOR_BGR2GRAY)\n",
    "eyes = eye_cascade.detectMultiScale(\n",
    "    gray, scaleFactor=1.1, minNeighbors=5, minSize=(20, 20))\n",
    "\n",
    "indices = np.argsort(eyes[:, 0])\n",
    "sorted_eyes = eyes[indices]\n",
    "\n",
    "for i, (x, y, w, h) in enumerate(sorted_eyes):\n",
    "    # cv2.rectangle(coppied, (x, y), (x+w, y+h), (125, 45, 87), 2, cv2.LINE_AA)\n",
    "    \n",
    "    if i % 2 == 0:\n",
    "        eye = cv2.resize(eye_images[0], (w, h))\n",
    "    else:\n",
    "        eye = cv2.resize(eye_images[1], (w, h))\n",
    "    coppied[y:y+h, x:x+w] = eye\n",
    "\n",
    "cv2.imshow(\"img\", coppied)\n",
    "cv2.waitKey(0)\n",
    "cv2.destroyAllWindows()"
   ]
  },
  {
   "cell_type": "markdown",
   "metadata": {},
   "source": [
    "## 3. 빠른 성공 시 영상으로 도전"
   ]
  }
 ],
 "metadata": {
  "kernelspec": {
   "display_name": "my_cv",
   "language": "python",
   "name": "python3"
  },
  "language_info": {
   "codemirror_mode": {
    "name": "ipython",
    "version": 3
   },
   "file_extension": ".py",
   "mimetype": "text/x-python",
   "name": "python",
   "nbconvert_exporter": "python",
   "pygments_lexer": "ipython3",
   "version": "3.13.0"
  }
 },
 "nbformat": 4,
 "nbformat_minor": 2
}
