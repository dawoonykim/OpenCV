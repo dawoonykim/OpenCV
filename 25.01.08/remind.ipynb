{
 "cells": [
  {
   "cell_type": "code",
   "execution_count": 25,
   "metadata": {},
   "outputs": [],
   "source": [
    "import cv2\n",
    "\n",
    "horse=\"../images/horse.png\""
   ]
  },
  {
   "cell_type": "markdown",
   "metadata": {},
   "source": [
    "## 윤곽선 검출"
   ]
  },
  {
   "cell_type": "code",
   "execution_count": 4,
   "metadata": {},
   "outputs": [],
   "source": [
    "img = cv2.imread(horse)\n",
    "coppied = img.copy()\n",
    "gray = cv2.cvtColor(coppied, cv2.COLOR_BGR2GRAY)\n",
    "_, binary = cv2.threshold(gray, -1, 255, cv2.THRESH_BINARY | cv2.THRESH_OTSU)\n",
    "\n",
    "contours, hierachy = cv2.findContours(\n",
    "    binary, cv2.RETR_LIST, cv2.CHAIN_APPROX_NONE)\n",
    "\n",
    "cv2.drawContours(coppied, contours, -1, (125, 14, 58), 2, cv2.LINE_AA)\n",
    "\n",
    "cv2.imshow(\"img\", img)\n",
    "cv2.imshow(\"coppied\", coppied)\n",
    "cv2.waitKey(0)\n",
    "cv2.destroyAllWindows()"
   ]
  },
  {
   "cell_type": "markdown",
   "metadata": {},
   "source": [
    "## 상자 그리기"
   ]
  },
  {
   "cell_type": "code",
   "execution_count": 5,
   "metadata": {},
   "outputs": [],
   "source": [
    "img = cv2.imread(horse)\n",
    "coppied = img.copy()\n",
    "gray = cv2.cvtColor(coppied, cv2.COLOR_BGR2GRAY)\n",
    "_, binary = cv2.threshold(gray, -1, 255, cv2.THRESH_BINARY | cv2.THRESH_OTSU)\n",
    "\n",
    "contours, hierachy = cv2.findContours(\n",
    "    binary, cv2.RETR_LIST, cv2.CHAIN_APPROX_NONE)\n",
    "\n",
    "for contour in contours:\n",
    "    x, y, width, height = cv2.boundingRect(contour)\n",
    "\n",
    "    cv2.rectangle(coppied, (x, y), (x+width, y+height),\n",
    "                  (58, 123, 198), 2, cv2.LINE_AA)\n",
    "\n",
    "cv2.drawContours(coppied, contours, -1, (125, 14, 58), 2, cv2.LINE_AA)\n",
    "\n",
    "cv2.imshow(\"img\", img)\n",
    "cv2.imshow(\"coppied\", coppied)\n",
    "cv2.waitKey(0)\n",
    "cv2.destroyAllWindows()"
   ]
  },
  {
   "cell_type": "markdown",
   "metadata": {},
   "source": [
    "## 윤곽선 External"
   ]
  },
  {
   "cell_type": "code",
   "execution_count": 6,
   "metadata": {},
   "outputs": [],
   "source": [
    "img = cv2.imread(horse)\n",
    "coppied = img.copy()\n",
    "gray = cv2.cvtColor(coppied, cv2.COLOR_BGR2GRAY)\n",
    "_, binary = cv2.threshold(gray, -1, 255, cv2.THRESH_BINARY | cv2.THRESH_OTSU)\n",
    "\n",
    "contours, hierachy = cv2.findContours(\n",
    "    binary, cv2.RETR_EXTERNAL, cv2.CHAIN_APPROX_NONE)\n",
    "\n",
    "for contour in contours:\n",
    "    x, y, width, height = cv2.boundingRect(contour)\n",
    "\n",
    "    cv2.rectangle(coppied, (x, y), (x+width, y+height),\n",
    "                  (58, 123, 198), 2, cv2.LINE_AA)\n",
    "\n",
    "cv2.drawContours(coppied, contours, -1, (125, 14, 58), 2, cv2.LINE_AA)\n",
    "\n",
    "cv2.imshow(\"img\", img)\n",
    "cv2.imshow(\"coppied\", coppied)\n",
    "cv2.waitKey(0)\n",
    "cv2.destroyAllWindows()"
   ]
  },
  {
   "cell_type": "markdown",
   "metadata": {},
   "source": [
    "# 윤곽선 큰 것만 검출"
   ]
  },
  {
   "cell_type": "code",
   "execution_count": 24,
   "metadata": {},
   "outputs": [],
   "source": [
    "img = cv2.imread(\"../images/playing_cards.png\")\n",
    "coppied = img.copy()\n",
    "gray = cv2.cvtColor(coppied, cv2.COLOR_BGR2GRAY)\n",
    "_, binary = cv2.threshold(gray, -1, 255, cv2.THRESH_BINARY | cv2.THRESH_OTSU)\n",
    "\n",
    "contours, hierachy = cv2.findContours(\n",
    "    binary, cv2.RETR_EXTERNAL, cv2.CHAIN_APPROX_NONE)\n",
    "\n",
    "for contour in contours:\n",
    "    if cv2.contourArea(contour) > 2500:\n",
    "        x, y, width, height = cv2.boundingRect(contour)\n",
    "\n",
    "        cv2.rectangle(coppied, (x, y), (x+width, y+height),\n",
    "                      (58, 123, 198), 2, cv2.LINE_AA)\n",
    "\n",
    "cv2.drawContours(coppied, contours, -1, (125, 14, 58), 2, cv2.LINE_AA)\n",
    "\n",
    "cv2.imshow(\"img\", img)\n",
    "cv2.imshow(\"coppied\", coppied)\n",
    "cv2.waitKey(0)\n",
    "cv2.destroyAllWindows()"
   ]
  },
  {
   "cell_type": "markdown",
   "metadata": {},
   "source": [
    "## 얼굴 인식\n",
    "- 얼굴의 각 부분의 밝기 변화 차이로 얼굴을 인식"
   ]
  },
  {
   "cell_type": "code",
   "execution_count": 7,
   "metadata": {},
   "outputs": [],
   "source": [
    "face_cascade = cv2.CascadeClassifier(\n",
    "    \"../cascade/haarcascade_frontalface_default.xml\")\n",
    "\n",
    "img = cv2.imread(\"../images/newjeans.jpg\")\n",
    "\n",
    "faces = face_cascade.detectMultiScale(\n",
    "    img, scaleFactor=1.1, minNeighbors=5, minSize=(20, 20))\n",
    "\n",
    "for face in faces:\n",
    "    # face 객체에는 x, y, w, h 값이 들어있기 때문에 cv2.boundingRect를 사용해서 추출하는 것이 아니라 바로 face를 사용하면 됨\n",
    "    x, y, w, h = face\n",
    "    cv2.rectangle(img, (x, y), (x+w, y+h), (145, 255, 36), 2, cv2.LINE_AA)\n",
    "\n",
    "\n",
    "cv2.imshow(\"img\", img)\n",
    "cv2.waitKey(0)\n",
    "cv2.destroyAllWindows()"
   ]
  },
  {
   "cell_type": "code",
   "execution_count": 13,
   "metadata": {},
   "outputs": [],
   "source": [
    "face_cascade = cv2.CascadeClassifier(\n",
    "    \"../cascade/haarcascade_frontalface_default.xml\")\n",
    "\n",
    "img = cv2.imread(\"../images/newjeans.jpg\")\n",
    "\n",
    "faces = face_cascade.detectMultiScale(\n",
    "    img, scaleFactor=1.1, minNeighbors=5, minSize=(20, 20))\n",
    "\n",
    "for (x, y, w, h) in faces:\n",
    "\n",
    "    cv2.rectangle(img, (x, y), (x+w, y+h), (145, 255, 36), 2, cv2.LINE_AA)\n",
    "\n",
    "cv2.imshow(\"img\", img)\n",
    "cv2.waitKey(0)\n",
    "cv2.destroyAllWindows()"
   ]
  },
  {
   "cell_type": "markdown",
   "metadata": {},
   "source": [
    "## 영상으로 얼굴인식"
   ]
  },
  {
   "cell_type": "code",
   "execution_count": 30,
   "metadata": {},
   "outputs": [],
   "source": [
    "import cv2\n",
    "cap = cv2.VideoCapture(\"../videos/faces1.mp4\")\n",
    "face_cascade = cv2.CascadeClassifier(\n",
    "    \"../cascade/haarcascade_frontalface_default.xml\")\n",
    "\n",
    "fps = cap.get(cv2.CAP_PROP_FPS)\n",
    "\n",
    "\n",
    "while cap.isOpened():\n",
    "    ret, frame = cap.read()\n",
    "    faces = face_cascade.detectMultiScale(\n",
    "        frame, scaleFactor=1.1, minNeighbors=7, minSize=(50, 50))\n",
    "\n",
    "    for (x, y, w, h) in faces:\n",
    "        cv2.rectangle(frame, (x, y), (x+w, y+h), (125, 48, 78), 2, cv2.LINE_AA)\n",
    "\n",
    "    cv2.imshow(\"video\", frame)\n",
    "    # print(f\"Detected faces: {len(faces)}\")\n",
    "    if cv2.waitKey(int(1000/fps)) != -1:\n",
    "        break\n",
    "\n",
    "cv2.destroyAllWindows()"
   ]
  },
  {
   "cell_type": "code",
   "execution_count": null,
   "metadata": {},
   "outputs": [],
   "source": [
    "import cv2\n",
    "cap = cv2.VideoCapture(\"../videos/faces.mp4\")\n",
    "face_cascade = cv2.CascadeClassifier(\n",
    "    \"../cascade/haarcascade_frontalface_default.xml\")\n",
    "\n",
    "fps = cap.get(cv2.CAP_PROP_FPS)\n",
    "\n",
    "while cap.isOpened():\n",
    "    ret, frame = cap.read()\n",
    "\n",
    "    if (not ret) or (frame is None):\n",
    "        break\n",
    "    \n",
    "    gray = cv2.cvtColor(frame, cv2.COLOR_BGR2GRAY)\n",
    "    faces = face_cascade.detectMultiScale(\n",
    "        gray, scaleFactor=1.1, minNeighbors=7, minSize=(50, 50))\n",
    "\n",
    "    if len(faces):\n",
    "        for (x, y, w, h) in faces:\n",
    "            cv2.rectangle(frame, (x, y), (x+w, y+h),\n",
    "                          (125, 48, 78), 2, cv2.LINE_AA)\n",
    "\n",
    "    cv2.imshow(\"video\", frame)\n",
    "    # print(f\"Detected faces: {len(faces)}\")\n",
    "    if cv2.waitKey(int(1000/fps)) != -1:\n",
    "        break\n",
    "\n",
    "cap.release()\n",
    "cv2.destroyAllWindows()"
   ]
  },
  {
   "cell_type": "code",
   "execution_count": 5,
   "metadata": {},
   "outputs": [],
   "source": [
    "import cv2\n",
    "cap = cv2.VideoCapture(\"../videos/faces.mp4\")\n",
    "face_cascade = cv2.CascadeClassifier(\n",
    "    \"../cascade/haarcascade_frontalface_default.xml\")\n",
    "\n",
    "fps = cap.get(cv2.CAP_PROP_FPS)\n",
    "\n",
    "while cap.isOpened():\n",
    "    ret, frame = cap.read()\n",
    "\n",
    "    if not ret:\n",
    "        break\n",
    "\n",
    "    gray = cv2.cvtColor(frame, cv2.COLOR_BGR2GRAY)\n",
    "    faces = face_cascade.detectMultiScale(\n",
    "        gray, scaleFactor=1.1, minNeighbors=7, minSize=(50, 50))\n",
    "\n",
    "    if len(faces):\n",
    "        for (x, y, w, h) in faces:\n",
    "            cv2.rectangle(frame, (x, y), (x+w, y+h),\n",
    "                          (125, 48, 78), 2, cv2.LINE_AA)\n",
    "\n",
    "    cv2.imshow(\"video\", frame)\n",
    "    # print(f\"Detected faces: {len(faces)}\")\n",
    "    if cv2.waitKey(int(1000/fps)) != -1:\n",
    "        break\n",
    "\n",
    "cap.release()\n",
    "cv2.destroyAllWindows()"
   ]
  }
 ],
 "metadata": {
  "kernelspec": {
   "display_name": "my_cv",
   "language": "python",
   "name": "python3"
  },
  "language_info": {
   "codemirror_mode": {
    "name": "ipython",
    "version": 3
   },
   "file_extension": ".py",
   "mimetype": "text/x-python",
   "name": "python",
   "nbconvert_exporter": "python",
   "pygments_lexer": "ipython3",
   "version": "3.13.0"
  }
 },
 "nbformat": 4,
 "nbformat_minor": 2
}
