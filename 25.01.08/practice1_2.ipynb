{
 "cells": [
  {
   "cell_type": "code",
   "execution_count": 4,
   "metadata": {},
   "outputs": [],
   "source": [
    "import cv2\n",
    "\n",
    "face_cascade = cv2.CascadeClassifier(\n",
    "    \"../cascade/haarcascade_frontalface_default.xml\")\n",
    "eye_cascade = cv2.CascadeClassifier(\"../cascade/haarcascade_eye.xml\")"
   ]
  },
  {
   "cell_type": "markdown",
   "metadata": {},
   "source": [
    "# 캠 얼굴 및 눈 인식"
   ]
  },
  {
   "cell_type": "code",
   "execution_count": 9,
   "metadata": {},
   "outputs": [],
   "source": [
    "cap = cv2.VideoCapture(0)\n",
    "\n",
    "\n",
    "if not cap.isOpened():\n",
    "    exit()\n",
    "\n",
    "while True:\n",
    "    ret, frame = cap.read()\n",
    "\n",
    "    if not ret:\n",
    "        break\n",
    "    flip_frame = cv2.flip(frame, 1)\n",
    "    coppied = flip_frame.copy()\n",
    "    gray = cv2.cvtColor(coppied, cv2.COLOR_BGR2GRAY)\n",
    "\n",
    "    faces = face_cascade.detectMultiScale(\n",
    "        gray, scaleFactor=1.1, minNeighbors=5, minSize=(20, 20))\n",
    "\n",
    "    for xf, yf, wf, hf in faces:\n",
    "        cropped = gray[yf:yf+hf, xf:xf+wf]\n",
    "        cv2.rectangle(coppied, (xf, yf), (xf+wf, yf+hf),\n",
    "                      (125, 45, 210), 2, cv2.LINE_AA)\n",
    "        eyes = eye_cascade.detectMultiScale(\n",
    "            cropped, scaleFactor=1.1, minNeighbors=8, minSize=(30, 30), maxSize=(50, 50))\n",
    "        for xe, ye, we, he in eyes:\n",
    "            xe += xf\n",
    "            ye += yf\n",
    "            cv2.rectangle(coppied, (xe, ye), (xe+we, ye+he),\n",
    "                          (180, 125, 125), 2, cv2.LINE_AA)\n",
    "    cv2.imshow(\"img\", coppied)\n",
    "\n",
    "    if cv2.waitKey(1) != -1:\n",
    "        break\n",
    "\n",
    "cap.release()\n",
    "cv2.destroyAllWindows()"
   ]
  },
  {
   "cell_type": "markdown",
   "metadata": {},
   "source": [
    "# 캠 얼굴 및 눈 인식 + 글자 추가"
   ]
  },
  {
   "cell_type": "code",
   "execution_count": 12,
   "metadata": {},
   "outputs": [],
   "source": [
    "cap = cv2.VideoCapture(0)\n",
    "\n",
    "\n",
    "if not cap.isOpened():\n",
    "    exit()\n",
    "\n",
    "while True:\n",
    "    ret, frame = cap.read()\n",
    "\n",
    "    if not ret:\n",
    "        break\n",
    "    flip_frame = cv2.flip(frame, 1)\n",
    "    coppied = flip_frame.copy()\n",
    "    gray = cv2.cvtColor(coppied, cv2.COLOR_BGR2GRAY)\n",
    "\n",
    "    faces = face_cascade.detectMultiScale(\n",
    "        gray, scaleFactor=1.1, minNeighbors=5, minSize=(20, 20))\n",
    "\n",
    "    for xf, yf, wf, hf in faces:\n",
    "        cropped = gray[yf:yf+hf, xf:xf+wf]\n",
    "        cv2.rectangle(coppied, (xf, yf), (xf+wf, yf+hf),\n",
    "                      (125, 45, 210), 2, cv2.LINE_AA)\n",
    "        cv2.putText(coppied, \"face\", (xf, yf-10),\n",
    "                    cv2.FONT_HERSHEY_PLAIN, 1, (255, 255, 255), 1)\n",
    "        eyes = eye_cascade.detectMultiScale(\n",
    "            cropped, scaleFactor=1.1, minNeighbors=10, minSize=(30, 30), maxSize=(50, 50))\n",
    "        for xe, ye, we, he in eyes:\n",
    "            xe += xf\n",
    "            ye += yf\n",
    "            cv2.rectangle(coppied, (xe, ye), (xe+we, ye+he),\n",
    "                          (180, 125, 125), 2, cv2.LINE_AA)\n",
    "            cv2.putText(coppied, \"eye\", (xe, ye-10),\n",
    "                        cv2.FONT_HERSHEY_PLAIN, 1, (255, 255, 255))\n",
    "    cv2.imshow(\"img\", coppied)\n",
    "\n",
    "    if cv2.waitKey(1) != -1:\n",
    "        break\n",
    "\n",
    "cap.release()\n",
    "cv2.destroyAllWindows()"
   ]
  },
  {
   "cell_type": "markdown",
   "metadata": {},
   "source": [
    "# 캠 얼굴 및 눈 인식 + 글자 및 가중치 추가"
   ]
  },
  {
   "cell_type": "code",
   "execution_count": 16,
   "metadata": {},
   "outputs": [],
   "source": [
    "cap = cv2.VideoCapture(0)\n",
    "\n",
    "\n",
    "if not cap.isOpened():\n",
    "    exit()\n",
    "\n",
    "while True:\n",
    "    ret, frame = cap.read()\n",
    "\n",
    "    if not ret:\n",
    "        break\n",
    "    flip_frame = cv2.flip(frame, 1)\n",
    "    coppied = flip_frame.copy()\n",
    "    gray = cv2.cvtColor(coppied, cv2.COLOR_BGR2GRAY)\n",
    "\n",
    "    faces = face_cascade.detectMultiScale(\n",
    "        gray, scaleFactor=1.1, minNeighbors=5, minSize=(20, 20))\n",
    "    fobjects, fweights = face_cascade.detectMultiScale2(\n",
    "        gray, scaleFactor=1.1, minNeighbors=5, minSize=(20, 20))\n",
    "\n",
    "    for (xf, yf, wf, hf), fweight in zip(faces, fweights):\n",
    "        cropped = gray[yf:yf+hf, xf:xf+wf]\n",
    "        cv2.rectangle(coppied, (xf, yf), (xf+wf, yf+hf),\n",
    "                      (125, 45, 210), 2, cv2.LINE_AA)\n",
    "        cv2.putText(coppied, f\"face : {fweight}\", (xf, yf-10),\n",
    "                    cv2.FONT_HERSHEY_PLAIN, 1, (255, 255, 255), 1)\n",
    "        eyes = eye_cascade.detectMultiScale(\n",
    "            cropped, scaleFactor=1.1, minNeighbors=10, minSize=(40, 40), maxSize=(50, 50))\n",
    "        eobjects, eweights = eye_cascade.detectMultiScale2(\n",
    "            gray, scaleFactor=1.1, minNeighbors=10, minSize=(40, 40), maxSize=(50, 50))\n",
    "        for (xe, ye, we, he), eweight in zip(eyes, eweights):\n",
    "            xe += xf\n",
    "            ye += yf\n",
    "            cv2.rectangle(coppied, (xe, ye), (xe+we, ye+he),\n",
    "                          (180, 125, 125), 2, cv2.LINE_AA)\n",
    "            cv2.putText(coppied, f\"eye : {eweight}\", (xe, ye-10),\n",
    "                        cv2.FONT_HERSHEY_PLAIN, 1, (255, 255, 255))\n",
    "    cv2.imshow(\"img\", coppied)\n",
    "\n",
    "    if cv2.waitKey(1) != -1:\n",
    "        break\n",
    "\n",
    "cap.release()\n",
    "cv2.destroyAllWindows()"
   ]
  },
  {
   "cell_type": "code",
   "execution_count": null,
   "metadata": {},
   "outputs": [],
   "source": []
  }
 ],
 "metadata": {
  "kernelspec": {
   "display_name": "my_cv",
   "language": "python",
   "name": "python3"
  },
  "language_info": {
   "codemirror_mode": {
    "name": "ipython",
    "version": 3
   },
   "file_extension": ".py",
   "mimetype": "text/x-python",
   "name": "python",
   "nbconvert_exporter": "python",
   "pygments_lexer": "ipython3",
   "version": "3.13.0"
  }
 },
 "nbformat": 4,
 "nbformat_minor": 2
}
