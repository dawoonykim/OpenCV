{
 "cells": [
  {
   "cell_type": "markdown",
   "metadata": {},
   "source": [
    "# 14. YOLO\n",
    "* You Only Look Once\n",
    "* 딥러닝을 활용한 객체 탐지(Object Detection)알고리즘"
   ]
  },
  {
   "cell_type": "code",
   "execution_count": null,
   "metadata": {},
   "outputs": [],
   "source": [
    "# %pip install ultralytics"
   ]
  },
  {
   "cell_type": "code",
   "execution_count": 4,
   "metadata": {},
   "outputs": [],
   "source": [
    "from ultralytics import YOLO\n",
    "import cv2\n",
    "import numpy as np"
   ]
  },
  {
   "cell_type": "markdown",
   "metadata": {},
   "source": [
    "## YOLO 모델 불러오기"
   ]
  },
  {
   "cell_type": "code",
   "execution_count": null,
   "metadata": {},
   "outputs": [],
   "source": [
    "# YOLO 모델 불러오기\n",
    "model = YOLO(\"yolo11n.pt\")\n",
    "\n",
    "img = cv2.imread(\"../images/poodle_mini.jpg\")\n",
    "coppied = cv2.resize(img, None, fx=0.5, fy=0.5)\n",
    "# 신뢰도 0.5로 객체 탐지\n",
    "result = model.predict(source=coppied, conf=0.5)\n",
    "# print(result)\n",
    "\n",
    "# 탐지 결과를 이미지 위에 그림\n",
    "annotated_frame = result[0].plot()\n",
    "# print(annotated_frame)\n",
    "\n",
    "cv2.imshow(\"img\", annotated_frame)\n",
    "cv2.waitKey(0)\n",
    "cv2.destroyAllWindows()"
   ]
  },
  {
   "cell_type": "markdown",
   "metadata": {},
   "source": [
    "## 비디오"
   ]
  },
  {
   "cell_type": "code",
   "execution_count": null,
   "metadata": {},
   "outputs": [],
   "source": [
    "cap = cv2.VideoCapture(\"../videos/faces1.mp4\")\n",
    "model = YOLO(\"yolo11n.pt\")\n",
    "\n",
    "fps = cap.get(cv2.CAP_PROP_FPS)\n",
    "\n",
    "while cap.isOpened():\n",
    "    ret, frame = cap.read()\n",
    "\n",
    "    if not ret:\n",
    "        break\n",
    "\n",
    "    result = model.predict(frame, conf=0.7)\n",
    "    annotated_frame = result[0].plot()\n",
    "\n",
    "    cv2.imshow(\"video\", annotated_frame)\n",
    "\n",
    "    if cv2.waitKey(int(1000/fps)) != -1:\n",
    "        break\n",
    "cap.release()\n",
    "cv2.destroyAllWindows()"
   ]
  },
  {
   "cell_type": "code",
   "execution_count": null,
   "metadata": {},
   "outputs": [],
   "source": [
    "cap = cv2.VideoCapture(\"../videos/cars.mp4\")\n",
    "model = YOLO(\"yolo11n.pt\")\n",
    "\n",
    "fps = cap.get(cv2.CAP_PROP_FPS)\n",
    "\n",
    "while cap.isOpened():\n",
    "    ret, frame = cap.read()\n",
    "\n",
    "    if not ret:\n",
    "        break\n",
    "\n",
    "    result = model.predict(frame, conf=0.5)\n",
    "    annotated_frame = result[0].plot()\n",
    "\n",
    "    cv2.imshow(\"video\", annotated_frame)\n",
    "\n",
    "    if cv2.waitKey(int(100/fps)) != -1:\n",
    "        break\n",
    "cap.release()\n",
    "cv2.destroyAllWindows()"
   ]
  },
  {
   "cell_type": "code",
   "execution_count": null,
   "metadata": {},
   "outputs": [],
   "source": []
  }
 ],
 "metadata": {
  "kernelspec": {
   "display_name": "yolo",
   "language": "python",
   "name": "python3"
  },
  "language_info": {
   "codemirror_mode": {
    "name": "ipython",
    "version": 3
   },
   "file_extension": ".py",
   "mimetype": "text/x-python",
   "name": "python",
   "nbconvert_exporter": "python",
   "pygments_lexer": "ipython3",
   "version": "3.12.0"
  }
 },
 "nbformat": 4,
 "nbformat_minor": 2
}
