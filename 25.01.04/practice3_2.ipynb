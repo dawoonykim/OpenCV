{
 "cells": [
  {
   "cell_type": "code",
   "execution_count": 1,
   "metadata": {},
   "outputs": [],
   "source": [
    "import cv2\n",
    "import numpy as np"
   ]
  },
  {
   "cell_type": "code",
   "execution_count": 2,
   "metadata": {},
   "outputs": [],
   "source": [
    "book = \"./images/book.jpg\""
   ]
  },
  {
   "cell_type": "code",
   "execution_count": 6,
   "metadata": {},
   "outputs": [],
   "source": [
    "img = cv2.imread(book, cv2.IMREAD_GRAYSCALE)\n",
    "name = \"trackbar\"\n",
    "cv2.namedWindow(name)\n",
    "trackbar_name = \"blight\"\n",
    "\n",
    "cv2.createTrackbar(trackbar_name, name, 0, 255, lambda x: x)\n",
    "\n",
    "while True:\n",
    "\n",
    "    blight = cv2.getTrackbarPos(trackbar_name, name)\n",
    "    ret, binary = cv2.threshold(img, blight, 255, cv2.THRESH_BINARY)\n",
    "\n",
    "    cv2.imshow(\"img\", img)\n",
    "    cv2.imshow(name, binary)\n",
    "    if cv2.waitKey(1) != -1:\n",
    "        break\n",
    "cv2.destroyAllWindows()"
   ]
  }
 ],
 "metadata": {
  "kernelspec": {
   "display_name": "my_cv",
   "language": "python",
   "name": "python3"
  },
  "language_info": {
   "codemirror_mode": {
    "name": "ipython",
    "version": 3
   },
   "file_extension": ".py",
   "mimetype": "text/x-python",
   "name": "python",
   "nbconvert_exporter": "python",
   "pygments_lexer": "ipython3",
   "version": "3.13.0"
  }
 },
 "nbformat": 4,
 "nbformat_minor": 2
}
