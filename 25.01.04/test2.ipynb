{
 "cells": [
  {
   "cell_type": "markdown",
   "metadata": {},
   "source": [
    "# 실습 2-2. Threshold에 적용"
   ]
  },
  {
   "cell_type": "markdown",
   "metadata": {},
   "source": [
    "## 트랙바 실습한 것을 참고해서, threshold에 트랙바를 적용"
   ]
  },
  {
   "cell_type": "code",
   "execution_count": 1,
   "metadata": {},
   "outputs": [],
   "source": [
    "import cv2\n",
    "import numpy as numpy\n",
    "\n",
    "book=\"./images/book.jpg\""
   ]
  },
  {
   "cell_type": "code",
   "execution_count": 4,
   "metadata": {},
   "outputs": [],
   "source": [
    "img = cv2.imread(book, cv2.COLOR_BGR2BGRA)\n",
    "original = cv2.imread(book)\n",
    "\n",
    "name = \"Trackbar\"\n",
    "trackbar_name = \"change_blight\"\n",
    "cv2.namedWindow(name)\n",
    "cv2.createTrackbar(trackbar_name, name, 0, 255, lambda x: x)\n",
    "\n",
    "while True:\n",
    "    blight = cv2.getTrackbarPos(trackbar_name, name)\n",
    "    # binary 옵션 : cv2.THRESH_BINARY => 임계값보다 크면 흰색, 작으면 검은색\n",
    "    ret, binary = cv2.threshold(img, blight, 255, cv2.THRESH_BINARY)\n",
    "    # print(ret)\n",
    "    # print(binary)\n",
    "\n",
    "    cv2.imshow(\"img\", img)\n",
    "    cv2.imshow(name, binary)\n",
    "    cv2.imshow(\"original\", original)\n",
    "\n",
    "    if cv2.waitKey(1) == ord(\"q\"):\n",
    "        break\n",
    "cv2.destroyAllWindows()"
   ]
  },
  {
   "cell_type": "code",
   "execution_count": 3,
   "metadata": {},
   "outputs": [],
   "source": [
    "img = cv2.imread(book, cv2.IMREAD_GRAYSCALE)\n",
    "original = cv2.imread(book)\n",
    "\n",
    "name = \"Trackbar\"\n",
    "trackbar_name = \"blight\"\n",
    "cv2.namedWindow(name)\n",
    "cv2.createTrackbar(trackbar_name, name, 127, 255, lambda x: x)\n",
    "\n",
    "while True:\n",
    "    blight = cv2.getTrackbarPos(trackbar_name, name)\n",
    "    # binary 옵션 : cv2.THRESH_BINARY => 임계값보다 크면 흰색, 작으면 검은색\n",
    "    ret, binary = cv2.threshold(img, blight, 255, cv2.THRESH_BINARY)\n",
    "    # print(ret)\n",
    "    # print(binary)\n",
    "\n",
    "    cv2.imshow(\"img\", img)\n",
    "    cv2.imshow(name, binary)\n",
    "    cv2.imshow(\"original\", original)\n",
    "\n",
    "    if cv2.waitKey(1) == ord(\"q\"):\n",
    "        break\n",
    "cv2.destroyAllWindows()"
   ]
  },
  {
   "cell_type": "code",
   "execution_count": 6,
   "metadata": {},
   "outputs": [
    {
     "data": {
      "text/plain": [
       "6"
      ]
     },
     "execution_count": 6,
     "metadata": {},
     "output_type": "execute_result"
    }
   ],
   "source": [
    "cv2.IMREAD_GRAYSCALE\n",
    "cv2.COLOR_BGR2GRAY"
   ]
  },
  {
   "cell_type": "code",
   "execution_count": 11,
   "metadata": {},
   "outputs": [
    {
     "name": "stdout",
     "output_type": "stream",
     "text": [
      "(array([[211, 211, 211, ..., 190, 190, 190],\n",
      "       [208, 208, 208, ..., 191, 191, 190],\n",
      "       [205, 205, 205, ..., 191, 191, 191],\n",
      "       ...,\n",
      "       [117, 117, 117, ...,  42,  42,  42],\n",
      "       [117, 117, 117, ...,  42,  42,  42],\n",
      "       [117, 117, 117, ...,  42,  42,  42]], shape=(960, 640), dtype=uint8),)\n"
     ]
    }
   ],
   "source": [
    "img = cv2.imread(book, cv2.IMREAD_GRAYSCALE)\n",
    "\n",
    "# b,g,r=cv2.split(img)\n",
    "g = cv2.split(img)\n",
    "print(g)"
   ]
  },
  {
   "cell_type": "code",
   "execution_count": 9,
   "metadata": {},
   "outputs": [
    {
     "name": "stdout",
     "output_type": "stream",
     "text": [
      "[[215 215 215 ... 204 204 204]\n",
      " [212 212 212 ... 205 205 204]\n",
      " [210 210 210 ... 207 207 207]\n",
      " ...\n",
      " [ 37  37  37 ...  56  54  54]\n",
      " [ 35  35  37 ...  54  54  54]\n",
      " [ 35  35  37 ...  54  54  54]] [[210 210 210 ... 194 194 194]\n",
      " [207 207 207 ... 195 195 194]\n",
      " [205 205 205 ... 194 194 194]\n",
      " ...\n",
      " [115 115 115 ...  43  42  42]\n",
      " [115 115 115 ...  43  42  42]\n",
      " [115 115 115 ...  43  42  42]] [[211 211 211 ... 177 177 177]\n",
      " [208 208 208 ... 178 178 177]\n",
      " [204 204 204 ... 180 180 180]\n",
      " ...\n",
      " [152 152 152 ...  35  36  36]\n",
      " [152 152 152 ...  35  36  36]\n",
      " [152 152 152 ...  35  36  36]]\n"
     ]
    }
   ],
   "source": [
    "img = cv2.imread(book, cv2.COLOR_BGR2GRAY)\n",
    "\n",
    "b, g, r = cv2.split(img)\n",
    "\n",
    "print(b, g, r)"
   ]
  }
 ],
 "metadata": {
  "kernelspec": {
   "display_name": "my_cv",
   "language": "python",
   "name": "python3"
  },
  "language_info": {
   "codemirror_mode": {
    "name": "ipython",
    "version": 3
   },
   "file_extension": ".py",
   "mimetype": "text/x-python",
   "name": "python",
   "nbconvert_exporter": "python",
   "pygments_lexer": "ipython3",
   "version": "3.13.0"
  }
 },
 "nbformat": 4,
 "nbformat_minor": 2
}
