{
 "cells": [
  {
   "cell_type": "code",
   "execution_count": 1,
   "metadata": {},
   "outputs": [],
   "source": [
    "import cv2\n",
    "import numpy as np"
   ]
  },
  {
   "cell_type": "code",
   "execution_count": 3,
   "metadata": {},
   "outputs": [],
   "source": [
    "img = np.zeros((400, 600, 3), dtype=np.uint8)\n",
    "\n",
    "img[100:200, 300:400] = (255, 255, 255)\n",
    "cv2.imshow(\"img\", img)\n",
    "cv2.waitKey(0)\n",
    "cv2.destroyAllWindows()"
   ]
  },
  {
   "cell_type": "code",
   "execution_count": 5,
   "metadata": {},
   "outputs": [],
   "source": [
    "img = np.zeros((400, 600, 3), dtype=np.uint8)\n",
    "cv2.line(img, (100, 100), (300, 300), (255, 0, 0), 5, cv2.LINE_AA)\n",
    "cv2.circle(img, (200, 300), 50, (0, 255, 0), cv2.FILLED)\n",
    "cv2.rectangle(img, (150, 150), (250, 250), (0, 0, 255), 10)\n",
    "cv2.imshow(\"img\", img)\n",
    "cv2.waitKey(0)\n",
    "cv2.destroyAllWindows()"
   ]
  },
  {
   "cell_type": "code",
   "execution_count": 6,
   "metadata": {},
   "outputs": [],
   "source": [
    "img = np.zeros((400, 600, 3), dtype=np.uint8)\n",
    "\n",
    "cv2.putText(img, \"hello world\", (50, 50), cv2.FONT_HERSHEY_TRIPLEX |\n",
    "            cv2.FONT_ITALIC, 2, (255, 255, 0), 3)\n",
    "cv2.imshow(\"text\", img)\n",
    "cv2.waitKey(0)\n",
    "cv2.destroyAllWindows()"
   ]
  },
  {
   "cell_type": "code",
   "execution_count": 9,
   "metadata": {},
   "outputs": [],
   "source": [
    "img = cv2.imread(\"./images/poodle_mini1.png\")\n",
    "\n",
    "resize = cv2.resize(img, None, fx=1.5, fy=1.5)\n",
    "cv2.imshow(\"img\", img)\n",
    "cv2.imshow(\"resize\", resize)\n",
    "cv2.waitKey(0)\n",
    "cv2.destroyAllWindows()"
   ]
  },
  {
   "cell_type": "code",
   "execution_count": 11,
   "metadata": {},
   "outputs": [],
   "source": [
    "img = cv2.imread(\"./images/poodle_mini1.png\")\n",
    "height, width, _ = img.shape\n",
    "affine = cv2.getRotationMatrix2D((width/2, height/2), -60, 1)\n",
    "\n",
    "dst = cv2.warpAffine(img, affine, (width, height))\n",
    "cv2.imshow(\"rotate img\", dst)\n",
    "cv2.waitKey(0)\n",
    "cv2.destroyAllWindows()"
   ]
  }
 ],
 "metadata": {
  "kernelspec": {
   "display_name": "my_cv",
   "language": "python",
   "name": "python3"
  },
  "language_info": {
   "codemirror_mode": {
    "name": "ipython",
    "version": 3
   },
   "file_extension": ".py",
   "mimetype": "text/x-python",
   "name": "python",
   "nbconvert_exporter": "python",
   "pygments_lexer": "ipython3",
   "version": "3.13.0"
  }
 },
 "nbformat": 4,
 "nbformat_minor": 2
}
