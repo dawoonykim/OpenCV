{
 "cells": [
  {
   "cell_type": "markdown",
   "metadata": {},
   "source": [
    "# 06. 팽창과 침식"
   ]
  },
  {
   "cell_type": "code",
   "execution_count": 2,
   "metadata": {},
   "outputs": [],
   "source": [
    "import cv2\n",
    "import numpy as np"
   ]
  },
  {
   "cell_type": "code",
   "execution_count": 6,
   "metadata": {},
   "outputs": [],
   "source": [
    "dilate = \"./images/dilate.png\"\n",
    "erode = \"./images/erode.png\""
   ]
  },
  {
   "cell_type": "markdown",
   "metadata": {},
   "source": [
    "### 6-1. 팽창"
   ]
  },
  {
   "cell_type": "code",
   "execution_count": 7,
   "metadata": {},
   "outputs": [],
   "source": [
    "img = cv2.imread(dilate)\n",
    "\n",
    "kernel = np.ones((3, 3), dtype=np.uint8)  # 팽창을 진행할 기본 단위\n",
    "dilate_1 = cv2.dilate(img, kernel, iterations=1)  # iterations : 팽창을 진행할 횟수\n",
    "dilate_2 = cv2.dilate(img, kernel, iterations=2)\n",
    "dilate_3 = cv2.dilate(img, kernel, iterations=3)\n",
    "\n",
    "cv2.imshow(\"original img\", img)\n",
    "cv2.imshow(\"dilate_1\", dilate_1)\n",
    "cv2.imshow(\"dilate_2\", dilate_2)\n",
    "cv2.imshow(\"dilate_3\", dilate_3)\n",
    "\n",
    "cv2.waitKey(0)\n",
    "cv2.destroyAllWindows()"
   ]
  },
  {
   "cell_type": "markdown",
   "metadata": {},
   "source": [
    "### 6-2. 침식"
   ]
  },
  {
   "cell_type": "code",
   "execution_count": 10,
   "metadata": {},
   "outputs": [],
   "source": [
    "img = cv2.imread(erode)\n",
    "\n",
    "kernel = np.ones((3, 3), dtype=np.uint8)  # 침식을 진행할 기본 단위\n",
    "erode_1 = cv2.erode(img, kernel, iterations=1)  # iterations : 침식을 진행할 횟수\n",
    "erode_2 = cv2.erode(img, kernel, iterations=2)\n",
    "erode_3 = cv2.erode(img, kernel, iterations=3)\n",
    "\n",
    "cv2.imshow(\"original img\", img)\n",
    "cv2.imshow(\"erode_1\", erode_1)\n",
    "cv2.imshow(\"erode_2\", erode_2)\n",
    "cv2.imshow(\"erode_3\", erode_3)\n",
    "\n",
    "cv2.waitKey(0)\n",
    "cv2.destroyAllWindows()"
   ]
  },
  {
   "cell_type": "markdown",
   "metadata": {},
   "source": [
    "### 6-3. 열림\n",
    "- 침식 후 팽창"
   ]
  },
  {
   "cell_type": "code",
   "execution_count": 11,
   "metadata": {},
   "outputs": [],
   "source": [
    "img = cv2.imread(erode)\n",
    "\n",
    "kernel = np.ones((3, 3), dtype=np.uint8)  # 침식을 진행할 기본 단위\n",
    "erode_3 = cv2.erode(img, kernel, iterations=3)\n",
    "dilate_3 = cv2.dilate(erode_3, kernel, iterations=3)\n",
    "\n",
    "cv2.imshow(\"original img\", img)\n",
    "cv2.imshow(\"erode_3\", erode_3)\n",
    "cv2.imshow(\"dilate_3\", dilate_3)\n",
    "\n",
    "cv2.waitKey(0)\n",
    "cv2.destroyAllWindows()"
   ]
  },
  {
   "cell_type": "markdown",
   "metadata": {},
   "source": [
    "### 6-4. 닫힘\n",
    "- 팽창 후 침식"
   ]
  },
  {
   "cell_type": "code",
   "execution_count": 13,
   "metadata": {},
   "outputs": [],
   "source": [
    "img = cv2.imread(dilate)\n",
    "\n",
    "kernel = np.ones((3, 3), dtype=np.uint8)  # 침식을 진행할 기본 단위\n",
    "dilate_3 = cv2.dilate(img, kernel, iterations=3)\n",
    "erode_3 = cv2.erode(dilate_3, kernel, iterations=3)\n",
    "\n",
    "\n",
    "cv2.imshow(\"original img\", img)\n",
    "cv2.imshow(\"erode_3\", erode_3)\n",
    "cv2.imshow(\"dilate_3\", dilate_3)\n",
    "\n",
    "cv2.waitKey(0)\n",
    "cv2.destroyAllWindows()"
   ]
  }
 ],
 "metadata": {
  "kernelspec": {
   "display_name": "my_cv",
   "language": "python",
   "name": "python3"
  },
  "language_info": {
   "codemirror_mode": {
    "name": "ipython",
    "version": 3
   },
   "file_extension": ".py",
   "mimetype": "text/x-python",
   "name": "python",
   "nbconvert_exporter": "python",
   "pygments_lexer": "ipython3",
   "version": "3.13.0"
  }
 },
 "nbformat": 4,
 "nbformat_minor": 2
}
