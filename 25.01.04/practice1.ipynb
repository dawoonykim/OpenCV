{
 "cells": [
  {
   "cell_type": "code",
   "execution_count": 1,
   "metadata": {},
   "outputs": [],
   "source": [
    "import cv2\n",
    "import numpy as np"
   ]
  },
  {
   "cell_type": "code",
   "execution_count": 3,
   "metadata": {},
   "outputs": [],
   "source": [
    "dilate = \"./images/dilate.png\"\n",
    "erode = \"./images/erode.png\""
   ]
  },
  {
   "cell_type": "code",
   "execution_count": 5,
   "metadata": {},
   "outputs": [],
   "source": [
    "img = cv2.imread(dilate)\n",
    "kernel = np.ones((3, 3), dtype=np.uint8)\n",
    "dilate_1 = cv2.dilate(img, kernel, iterations=1)\n",
    "dilate_2 = cv2.dilate(img, kernel, iterations=2)\n",
    "dilate_3 = cv2.dilate(img, kernel, iterations=3)\n",
    "\n",
    "cv2.imshow(\"img\", img)\n",
    "cv2.imshow(\"dilate_1\", dilate_1)\n",
    "cv2.imshow(\"dilate_2\", dilate_2)\n",
    "cv2.imshow(\"dilate_3\", dilate_3)\n",
    "\n",
    "\n",
    "cv2.waitKey(0)\n",
    "cv2.destroyAllWindows()"
   ]
  },
  {
   "cell_type": "code",
   "execution_count": 6,
   "metadata": {},
   "outputs": [],
   "source": [
    "img = cv2.imread(erode)\n",
    "\n",
    "kernel = np.ones((3, 3), dtype=np.uint8)\n",
    "erode_1 = cv2.erode(img, kernel, iterations=1)\n",
    "erode_2 = cv2.erode(img, kernel, iterations=2)\n",
    "erode_3 = cv2.erode(img, kernel, iterations=3)\n",
    "\n",
    "cv2.imshow(\"img\", img)\n",
    "cv2.imshow(\"erode_1\", erode_1)\n",
    "cv2.imshow(\"erode_2\", erode_2)\n",
    "cv2.imshow(\"erode_3\", erode_3)\n",
    "\n",
    "cv2.waitKey(0)\n",
    "cv2.destroyAllWindows()"
   ]
  },
  {
   "cell_type": "code",
   "execution_count": null,
   "metadata": {},
   "outputs": [],
   "source": [
    "img = cv2.imread(erode)\n",
    "\n",
    "kernel = np.ones((3, 3), dtype=np.uint8)\n",
    "\n",
    "erode_3_1 = cv2.erode(img, kernel, iterations=3)\n",
    "dilate_3_1 = cv2.dilate(erode_3_1, kernel, iterations=3)\n",
    "\n",
    "cv2.imshow(\"img\", img)\n",
    "cv2.imshow(\"erode_3_1\", erode_3_1)\n",
    "cv2.imshow(\"dilate_3_1\", dilate_3_1)\n",
    "\n",
    "cv2.waitKey(0)\n",
    "cv2.destroyAllWindows()"
   ]
  },
  {
   "cell_type": "code",
   "execution_count": 11,
   "metadata": {},
   "outputs": [
    {
     "name": "stdout",
     "output_type": "stream",
     "text": [
      "[[1 1 1]\n",
      " [1 1 1]\n",
      " [1 1 1]]\n"
     ]
    }
   ],
   "source": [
    "img = cv2.imread(dilate)\n",
    "\n",
    "kernel = np.ones((3, 3), dtype=np.uint8)\n",
    "\n",
    "dilate_3_2 = cv2.dilate(img, kernel, iterations=3)\n",
    "erode_3_2 = cv2.erode(dilate_3_2, kernel, iterations=3)\n",
    "\n",
    "cv2.imshow(\"img\", img)\n",
    "cv2.imshow(\"dilate_3_2\", dilate_3_2)\n",
    "cv2.imshow(\"erode_3_2\", erode_3_2)\n",
    "\n",
    "cv2.waitKey(0)\n",
    "cv2.destroyAllWindows()"
   ]
  }
 ],
 "metadata": {
  "kernelspec": {
   "display_name": "my_cv",
   "language": "python",
   "name": "python3"
  },
  "language_info": {
   "codemirror_mode": {
    "name": "ipython",
    "version": 3
   },
   "file_extension": ".py",
   "mimetype": "text/x-python",
   "name": "python",
   "nbconvert_exporter": "python",
   "pygments_lexer": "ipython3",
   "version": "3.13.0"
  }
 },
 "nbformat": 4,
 "nbformat_minor": 2
}
