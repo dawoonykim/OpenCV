{
 "cells": [
  {
   "cell_type": "code",
   "execution_count": 2,
   "metadata": {},
   "outputs": [],
   "source": [
    "import cv2\n",
    "import numpy as np"
   ]
  },
  {
   "cell_type": "code",
   "execution_count": 7,
   "metadata": {},
   "outputs": [],
   "source": [
    "img = np.zeros((460, 640, 3), dtype=np.uint8)\n",
    "\n",
    "name = \"RGB\"\n",
    "cv2.namedWindow(name)\n",
    "cv2.createTrackbar(\"B\", name, 0, 255, lambda x: x)\n",
    "cv2.createTrackbar(\"G\", name, 0, 255, lambda x: x)\n",
    "cv2.createTrackbar(\"R\", name, 0, 255, lambda x: x)\n",
    "\n",
    "while True:\n",
    "    B = cv2.getTrackbarPos(\"B\", name)\n",
    "    G = cv2.getTrackbarPos(\"G\", name)\n",
    "    R = cv2.getTrackbarPos(\"R\", name)\n",
    "    \n",
    "    img[:, :] = (B, G, R)\n",
    "\n",
    "    cv2.imshow(name, img)\n",
    "\n",
    "    if cv2.waitKey(1) != -1:\n",
    "        break\n",
    "cv2.destroyAllWindows()"
   ]
  },
  {
   "cell_type": "code",
   "execution_count": 8,
   "metadata": {},
   "outputs": [],
   "source": [
    "img = np.zeros((460, 640, 3), dtype=np.uint8)\n",
    "\n",
    "name = \"RGB\"\n",
    "cv2.namedWindow(name)\n",
    "cv2.createTrackbar(\"B\", name, 0, 255, lambda x: x)\n",
    "cv2.createTrackbar(\"G\", name, 0, 255, lambda x: x)\n",
    "cv2.createTrackbar(\"R\", name, 0, 255, lambda x: x)\n",
    "cv2.createTrackbar(\"switch\", name, 0, 1, lambda x: x)\n",
    "\n",
    "while True:\n",
    "    B = cv2.getTrackbarPos(\"B\", name)\n",
    "    G = cv2.getTrackbarPos(\"G\", name)\n",
    "    R = cv2.getTrackbarPos(\"R\", name)\n",
    "    switch = cv2.getTrackbarPos(\"switch\", name)\n",
    "\n",
    "    if switch == 1:\n",
    "        img[:, :] = (B, G, R)\n",
    "\n",
    "    cv2.imshow(name, img)\n",
    "\n",
    "    if cv2.waitKey(1) != -1:\n",
    "        break\n",
    "cv2.destroyAllWindows()"
   ]
  }
 ],
 "metadata": {
  "kernelspec": {
   "display_name": "my_cv",
   "language": "python",
   "name": "python3"
  },
  "language_info": {
   "codemirror_mode": {
    "name": "ipython",
    "version": 3
   },
   "file_extension": ".py",
   "mimetype": "text/x-python",
   "name": "python",
   "nbconvert_exporter": "python",
   "pygments_lexer": "ipython3",
   "version": "3.13.0"
  }
 },
 "nbformat": 4,
 "nbformat_minor": 2
}
