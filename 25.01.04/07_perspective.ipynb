{
 "cells": [
  {
   "cell_type": "markdown",
   "metadata": {},
   "source": [
    "# 07. 원근 변환"
   ]
  },
  {
   "cell_type": "code",
   "execution_count": 2,
   "metadata": {},
   "outputs": [],
   "source": [
    "import cv2\n",
    "import numpy as np\n",
    "\n",
    "card = \"./images/card.jpg\""
   ]
  },
  {
   "cell_type": "code",
   "execution_count": 5,
   "metadata": {},
   "outputs": [
    {
     "name": "stdout",
     "output_type": "stream",
     "text": [
      "[[ 6.28270120e-01 -1.85565014e-01  1.45058823e+01]\n",
      " [ 1.20997970e-01  8.43346752e-01 -2.26647393e+02]\n",
      " [-2.25609902e-05  2.65181603e-04  1.00000000e+00]]\n"
     ]
    }
   ],
   "source": [
    "img = cv2.imread(card)\n",
    "\n",
    "width, height = 600, 350\n",
    "\n",
    "# 변형할 지점 선택 : 시계방항\n",
    "src = np.array(\n",
    "    [[[54, 261], [981, 128], [1213, 560], [194, 735]]], dtype=np.float32)\n",
    "\n",
    "# 결과물 출력할 형태 : 시계방향\n",
    "dst = np.array([[0, 0], [width, 0], [width, height],\n",
    "                [0, height]], dtype=np.float32)\n",
    "\n",
    "# 원근을 변형하기 위한 matrix 생성\n",
    "mat = cv2.getPerspectiveTransform(src, dst)\n",
    "print(mat)\n",
    "\n",
    "# img를 mat에 의해 변환\n",
    "result = cv2.warpPerspective(img, mat, (width, height))\n",
    "\n",
    "cv2.imshow(\"card img\", img)\n",
    "cv2.imshow(\"result\", result)\n",
    "cv2.waitKey(0)\n",
    "cv2.destroyAllWindows()"
   ]
  },
  {
   "cell_type": "code",
   "execution_count": null,
   "metadata": {},
   "outputs": [],
   "source": []
  }
 ],
 "metadata": {
  "kernelspec": {
   "display_name": "my_cv",
   "language": "python",
   "name": "python3"
  },
  "language_info": {
   "codemirror_mode": {
    "name": "ipython",
    "version": 3
   },
   "file_extension": ".py",
   "mimetype": "text/x-python",
   "name": "python",
   "nbconvert_exporter": "python",
   "pygments_lexer": "ipython3",
   "version": "3.13.0"
  }
 },
 "nbformat": 4,
 "nbformat_minor": 2
}
