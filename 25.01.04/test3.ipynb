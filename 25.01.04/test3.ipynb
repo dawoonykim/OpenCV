{
 "cells": [
  {
   "cell_type": "markdown",
   "metadata": {},
   "source": [
    "# 실습 2-1. 컬러 팔레트 만들기"
   ]
  },
  {
   "cell_type": "markdown",
   "metadata": {},
   "source": [
    "## 1. RGB값을 변경할 수 있는 트랙바를 만들고"
   ]
  },
  {
   "cell_type": "code",
   "execution_count": 2,
   "metadata": {},
   "outputs": [],
   "source": [
    "import cv2\n",
    "import numpy as np"
   ]
  },
  {
   "cell_type": "markdown",
   "metadata": {},
   "source": [
    "## 2. RGB값이 바뀜에 따라 배경색이 변하는 화면을 만들어보자"
   ]
  },
  {
   "cell_type": "code",
   "execution_count": null,
   "metadata": {},
   "outputs": [],
   "source": [
    "# img = np.zeros((480, 640, 3), dtype=np.uint8)\n",
    "# tractbar_name = \"Change\"\n",
    "# name = \"RGB\"\n",
    "# cv2.namedWindow(name)\n",
    "\n",
    "# cv2.createTrackbar(\n",
    "#     f\"{tractbar_name}_r\", name, 0, 255, lambda x: x)\n",
    "# cv2.createTrackbar(\n",
    "#     f\"{tractbar_name}_g\", name, 0, 255, lambda x: x)\n",
    "# cv2.createTrackbar(\n",
    "#     f\"{tractbar_name}_b\", name, 0, 255, lambda x: x)\n",
    "\n",
    "# while True:\n",
    "#     change_r = cv2.getTrackbarPos(f\"{tractbar_name}_r\", name)\n",
    "#     change_g = cv2.getTrackbarPos(f\"{tractbar_name}_g\", name)\n",
    "#     change_b = cv2.getTrackbarPos(f\"{tractbar_name}_b\", name)\n",
    "    \n",
    "#     img[:, :] = (change_b, change_g, change_r)\n",
    "#     cv2.imshow(name, img)\n",
    "\n",
    "#     if cv2.waitKey(1) == ord(\"q\"):\n",
    "#         break\n",
    "\n",
    "# cv2.destroyAllWindows()"
   ]
  },
  {
   "cell_type": "markdown",
   "metadata": {},
   "source": [
    "## 3. 기본 색상은 검은색으로 설정"
   ]
  },
  {
   "cell_type": "code",
   "execution_count": 3,
   "metadata": {},
   "outputs": [],
   "source": [
    "img = np.zeros((480, 640, 3), dtype=np.uint8)\n",
    "name = \"RGB\"\n",
    "\n",
    "cv2.namedWindow(name)\n",
    "cv2.createTrackbar(\"R\", name, 0, 255, lambda x: x)\n",
    "cv2.createTrackbar(\"G\", name, 0, 255, lambda x: x)\n",
    "cv2.createTrackbar(\"B\", name, 0, 255, lambda x: x)\n",
    "\n",
    "while True:\n",
    "    r = cv2.getTrackbarPos(\"R\", name)\n",
    "    g = cv2.getTrackbarPos(\"G\", name)\n",
    "    b = cv2.getTrackbarPos(\"B\", name)\n",
    "    img[0:640, 0:480] = (b, g, r)\n",
    "    cv2.imshow(name, img)\n",
    "    if cv2.waitKey(1) == ord(\"q\"):\n",
    "        break\n",
    "cv2.destroyAllWindows()"
   ]
  },
  {
   "cell_type": "markdown",
   "metadata": {},
   "source": [
    "## 4. 시간이 남는다면 트랙바의 작동을 제어할 수 있는 on / off 스위치도 추가로 작성해본다."
   ]
  },
  {
   "cell_type": "code",
   "execution_count": 12,
   "metadata": {},
   "outputs": [],
   "source": [
    "img = np.zeros((480, 640, 3), dtype=np.uint8)\n",
    "name = \"RGB\"\n",
    "\n",
    "cv2.namedWindow(name)\n",
    "cv2.createTrackbar(\"R\", name, 0, 255, lambda x: x)\n",
    "cv2.createTrackbar(\"G\", name, 0, 255, lambda x: x)\n",
    "cv2.createTrackbar(\"B\", name, 0, 255, lambda x: x)\n",
    "cv2.createTrackbar(\"on/off\", name, 0, 1, lambda x: x)\n",
    "\n",
    "while True:\n",
    "    r = cv2.getTrackbarPos(\"R\", name)\n",
    "    g = cv2.getTrackbarPos(\"G\", name)\n",
    "    b = cv2.getTrackbarPos(\"B\", name)\n",
    "    s = cv2.getTrackbarPos(\"on/off\", name)\n",
    "    if s != 1:\n",
    "        img[:, :] = (b, g, r)\n",
    "    cv2.imshow(name, img)\n",
    "    if cv2.waitKey(1) != -1:\n",
    "        break\n",
    "cv2.destroyAllWindows()"
   ]
  },
  {
   "cell_type": "code",
   "execution_count": 15,
   "metadata": {},
   "outputs": [],
   "source": [
    "img = np.zeros((480, 640, 3), dtype=np.uint8)\n",
    "name = \"RGB\"\n",
    "\n",
    "cv2.namedWindow(name)\n",
    "cv2.createTrackbar(\"R\", name, 0, 255, lambda x: x)\n",
    "cv2.createTrackbar(\"G\", name, 0, 255, lambda x: x)\n",
    "cv2.createTrackbar(\"B\", name, 0, 255, lambda x: x)\n",
    "cv2.createTrackbar(\"on/off\", name, 0, 1, lambda x: x)\n",
    "\n",
    "while True:\n",
    "    r = cv2.getTrackbarPos(\"R\", name)\n",
    "    g = cv2.getTrackbarPos(\"G\", name)\n",
    "    b = cv2.getTrackbarPos(\"B\", name)\n",
    "    s = cv2.getTrackbarPos(\"on/off\", name)\n",
    "    if s != 1:\n",
    "        img[:, :] = (b, g, r)\n",
    "    cv2.imshow(name, img)\n",
    "    if cv2.waitKey(1) != -1:\n",
    "        break\n",
    "cv2.destroyAllWindows()"
   ]
  }
 ],
 "metadata": {
  "kernelspec": {
   "display_name": "my_cv",
   "language": "python",
   "name": "python3"
  },
  "language_info": {
   "codemirror_mode": {
    "name": "ipython",
    "version": 3
   },
   "file_extension": ".py",
   "mimetype": "text/x-python",
   "name": "python",
   "nbconvert_exporter": "python",
   "pygments_lexer": "ipython3",
   "version": "3.13.0"
  }
 },
 "nbformat": 4,
 "nbformat_minor": 2
}
