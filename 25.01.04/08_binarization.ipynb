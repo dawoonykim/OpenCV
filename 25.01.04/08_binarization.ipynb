{
 "cells": [
  {
   "cell_type": "markdown",
   "metadata": {},
   "source": [
    "# 08. 이진화\n",
    "- 임계값(문턱값)을 기준으로 색상을 흰색과 검은색으로 나누는 것"
   ]
  },
  {
   "cell_type": "code",
   "execution_count": 2,
   "metadata": {},
   "outputs": [],
   "source": [
    "import cv2\n",
    "import numpy as np"
   ]
  },
  {
   "cell_type": "code",
   "execution_count": 3,
   "metadata": {},
   "outputs": [],
   "source": [
    "book = \"./images/book.jpg\""
   ]
  },
  {
   "cell_type": "markdown",
   "metadata": {},
   "source": [
    "## 8-1. 기본 이진화"
   ]
  },
  {
   "cell_type": "code",
   "execution_count": 13,
   "metadata": {},
   "outputs": [],
   "source": [
    "img = cv2.imread(book, cv2.COLOR_BGR2BGRA)\n",
    "\n",
    "\n",
    "# binary 옵션 : cv2.THRESH_BINARY => 임계값보다 크면 흰색, 작으면 검은색\n",
    "ret, binary = cv2.threshold(img, 127, 255, cv2.THRESH_BINARY)\n",
    "# print(ret)\n",
    "# print(binary)\n",
    "\n",
    "cv2.imshow(\"img\", img)\n",
    "cv2.imshow(\"binary\", binary)\n",
    "\n",
    "cv2.waitKey(0)\n",
    "cv2.destroyAllWindows()"
   ]
  },
  {
   "cell_type": "code",
   "execution_count": 22,
   "metadata": {},
   "outputs": [],
   "source": [
    "img = cv2.imread(book, cv2.IMREAD_GRAYSCALE)\n",
    "\n",
    "\n",
    "# binary 옵션 : cv2.THRESH_BINARY => 임계값보다 크면 흰색, 작으면 검은색\n",
    "ret, binary = cv2.threshold(img, 127, 255, cv2.THRESH_BINARY)\n",
    "# print(ret)\n",
    "# print(binary)\n",
    "\n",
    "cv2.imshow(\"img\", img)\n",
    "cv2.imshow(\"binary\", binary)\n",
    "\n",
    "cv2.waitKey(0)\n",
    "cv2.destroyAllWindows()"
   ]
  },
  {
   "cell_type": "markdown",
   "metadata": {},
   "source": [
    "## 8-1-2. 트랙바로 이진화"
   ]
  },
  {
   "cell_type": "markdown",
   "metadata": {},
   "source": [
    "- 아핀 변환의 각도를 트랙바로 실시간 조정"
   ]
  },
  {
   "cell_type": "code",
   "execution_count": 21,
   "metadata": {},
   "outputs": [],
   "source": [
    "# def empty(): # 이렇게 빈 함수를 작성해서 람다식 대신에 넣어도 됨\n",
    "#   pass\n",
    "\n",
    "img = cv2.imread(\"./images/poodle_mini1.png\")\n",
    "name = \"Trackbar\"\n",
    "cv2.namedWindow(name)\n",
    "trackbar_name = \"Rotation\"\n",
    "cv2.createTrackbar(trackbar_name, name, 0, 360, lambda x: x)\n",
    "\n",
    "while True:\n",
    "    angle = cv2.getTrackbarPos(trackbar_name, name)\n",
    "\n",
    "    center = (img.shape[1]/2, img.shape[0]/2)\n",
    "    affine1 = cv2.getRotationMatrix2D(center, -angle, 1)\n",
    "    affine2 = cv2.getRotationMatrix2D(center, angle, 1)\n",
    "    # 이미지 사이즈가 가로 세로로 들어감\n",
    "    dst1 = cv2.warpAffine(img, affine1, (img.shape[1], img.shape[0]))\n",
    "    dst2 = cv2.warpAffine(img, affine2, (img.shape[1], img.shape[0]))\n",
    "    cv2.imshow(name, dst1)\n",
    "    # cv2.imshow(name, dst2)\n",
    "    cv2.imshow(\"original\", img)\n",
    "\n",
    "    if cv2.waitKey(1) == ord(\"q\"):\n",
    "        break\n",
    "cv2.destroyAllWindows()"
   ]
  },
  {
   "cell_type": "markdown",
   "metadata": {},
   "source": [
    "## 8-2. 적응형 이진화 (Adaptive threshold)\n",
    "- 블록마다 다른 임계값을 적용"
   ]
  },
  {
   "cell_type": "code",
   "execution_count": 14,
   "metadata": {},
   "outputs": [],
   "source": [
    "img = cv2.imread(book, cv2.IMREAD_GRAYSCALE)\n",
    "# img1 = cv2.imread(book, cv2.COLOR_BGR2GRAY)\n",
    "name = \"Adaptive\"\n",
    "cv2.namedWindow(name)\n",
    "cv2.createTrackbar(\"block_size\", name, 25, 100, lambda x: x)  # 블록 사이즈의 경우 1보다 큰 홀수만 가능\n",
    "cv2.createTrackbar(\"C\", name, 1, 10, lambda x: x) # 일반적으로 양수를 사용\n",
    "\n",
    "while True:\n",
    "    blocksize = cv2.getTrackbarPos(\"block_size\", name)\n",
    "    C = cv2.getTrackbarPos(\"C\", name)\n",
    "\n",
    "    if blocksize <= 1:\n",
    "        blocksize = 3\n",
    "    if blocksize % 2 == 0:\n",
    "        blocksize += 1\n",
    "    binary = cv2.adaptiveThreshold(\n",
    "        img, 255, cv2.ADAPTIVE_THRESH_MEAN_C, cv2.THRESH_BINARY, blocksize, C)\n",
    "    cv2.imshow(name, binary)\n",
    "    if cv2.waitKey(1) == ord(\"q\"):\n",
    "        break\n",
    "cv2.destroyAllWindows()"
   ]
  },
  {
   "cell_type": "code",
   "execution_count": null,
   "metadata": {},
   "outputs": [],
   "source": []
  }
 ],
 "metadata": {
  "kernelspec": {
   "display_name": "my_cv",
   "language": "python",
   "name": "python3"
  },
  "language_info": {
   "codemirror_mode": {
    "name": "ipython",
    "version": 3
   },
   "file_extension": ".py",
   "mimetype": "text/x-python",
   "name": "python",
   "nbconvert_exporter": "python",
   "pygments_lexer": "ipython3",
   "version": "3.13.0"
  }
 },
 "nbformat": 4,
 "nbformat_minor": 2
}
