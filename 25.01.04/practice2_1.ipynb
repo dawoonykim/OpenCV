{
 "cells": [
  {
   "cell_type": "code",
   "execution_count": 1,
   "metadata": {},
   "outputs": [],
   "source": [
    "import cv2\n",
    "import numpy as np"
   ]
  },
  {
   "cell_type": "code",
   "execution_count": 2,
   "metadata": {},
   "outputs": [],
   "source": [
    "card = \"./images/card.jpg\""
   ]
  },
  {
   "cell_type": "code",
   "execution_count": 5,
   "metadata": {},
   "outputs": [],
   "source": [
    "img = cv2.imread(card)\n",
    "\n",
    "width, height = 600, 350\n",
    "\n",
    "src = np.array([[63, 271], [977, 129], [1209, 552],\n",
    "               [197, 726]], dtype=np.float32)\n",
    "dst = np.array([[0, 0], [width, 0], [width, height],\n",
    "               [0, height]], dtype=np.float32)\n",
    "\n",
    "mat = cv2.getPerspectiveTransform(src, dst)\n",
    "\n",
    "result = cv2.warpPerspective(img, mat, (width, height))\n",
    "\n",
    "cv2.imshow(\"img\", img)\n",
    "cv2.imshow(\"result\", result)\n",
    "cv2.waitKey(0)\n",
    "cv2.destroyAllWindows()"
   ]
  }
 ],
 "metadata": {
  "kernelspec": {
   "display_name": "my_cv",
   "language": "python",
   "name": "python3"
  },
  "language_info": {
   "codemirror_mode": {
    "name": "ipython",
    "version": 3
   },
   "file_extension": ".py",
   "mimetype": "text/x-python",
   "name": "python",
   "nbconvert_exporter": "python",
   "pygments_lexer": "ipython3",
   "version": "3.13.0"
  }
 },
 "nbformat": 4,
 "nbformat_minor": 2
}
