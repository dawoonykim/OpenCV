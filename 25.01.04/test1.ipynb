{
 "cells": [
  {
   "cell_type": "markdown",
   "metadata": {},
   "source": [
    "# 실습 1. 이미지 원근 변환하기"
   ]
  },
  {
   "cell_type": "markdown",
   "metadata": {},
   "source": [
    "### 1. 기울어진 이미지 찾아서 다운로드"
   ]
  },
  {
   "cell_type": "code",
   "execution_count": 5,
   "metadata": {},
   "outputs": [],
   "source": [
    "import cv2\n",
    "import numpy as np\n",
    "\n",
    "sign = \"./images/sign.jpg\"\n",
    "ground=\"./images/ground.jpg\""
   ]
  },
  {
   "cell_type": "markdown",
   "metadata": {},
   "source": [
    "### 2. 학습한 원근 변환 방법을 바탕으로 이미지를 펼쳐보기"
   ]
  },
  {
   "cell_type": "code",
   "execution_count": 3,
   "metadata": {},
   "outputs": [],
   "source": [
    "img = cv2.imread(sign)\n",
    "\n",
    "width, height = 600, 400\n",
    "\n",
    "src = np.array([[210, 24], [422, 86], [354, 312],\n",
    "               [150, 384]], dtype=np.float32)\n",
    "\n",
    "dst = np.array([[0, 0], [width, 0], [width, height],\n",
    "               [0, height]], dtype=np.float32)\n",
    "\n",
    "mat = cv2.getPerspectiveTransform(src, dst)\n",
    "\n",
    "result = cv2.warpPerspective(img, mat, (width, height))\n",
    "\n",
    "cv2.imshow(\"original img\", img)\n",
    "cv2.imshow(\"result\", result)\n",
    "\n",
    "cv2.waitKey(0)\n",
    "cv2.destroyAllWindows()"
   ]
  },
  {
   "cell_type": "code",
   "execution_count": 10,
   "metadata": {},
   "outputs": [],
   "source": [
    "img = cv2.imread(ground)\n",
    "\n",
    "width, height = 400, 600\n",
    "\n",
    "src = np.array([[59, 94], [165, 65], [321, 139],\n",
    "               [230, 182]], dtype=np.float32)\n",
    "\n",
    "dst = np.array([[0, 0], [width, 0], [width, height],\n",
    "               [0, height]], dtype=np.float32)\n",
    "\n",
    "mat = cv2.getPerspectiveTransform(src, dst)\n",
    "\n",
    "result = cv2.warpPerspective(img, mat, (width, height))\n",
    "\n",
    "result_resize = cv2.resize(result, None, fx=0.3, fy=0.3)\n",
    "\n",
    "cv2.imshow(\"original img\", img)\n",
    "cv2.imshow(\"result\", result)\n",
    "cv2.imshow(\"resize_result\", result_resize)\n",
    "\n",
    "cv2.waitKey(0)\n",
    "cv2.destroyAllWindows()"
   ]
  }
 ],
 "metadata": {
  "kernelspec": {
   "display_name": "my_cv",
   "language": "python",
   "name": "python3"
  },
  "language_info": {
   "codemirror_mode": {
    "name": "ipython",
    "version": 3
   },
   "file_extension": ".py",
   "mimetype": "text/x-python",
   "name": "python",
   "nbconvert_exporter": "python",
   "pygments_lexer": "ipython3",
   "version": "3.13.0"
  }
 },
 "nbformat": 4,
 "nbformat_minor": 2
}
