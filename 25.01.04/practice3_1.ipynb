{
 "cells": [
  {
   "cell_type": "code",
   "execution_count": 1,
   "metadata": {},
   "outputs": [],
   "source": [
    "import cv2\n",
    "import numpy as np"
   ]
  },
  {
   "cell_type": "code",
   "execution_count": 2,
   "metadata": {},
   "outputs": [],
   "source": [
    "book = \"./images/book.jpg\""
   ]
  },
  {
   "cell_type": "code",
   "execution_count": 10,
   "metadata": {},
   "outputs": [
    {
     "name": "stdout",
     "output_type": "stream",
     "text": [
      "0\n"
     ]
    }
   ],
   "source": [
    "img = cv2.imread(book, cv2.IMREAD_GRAYSCALE)\n",
    "print(cv2.IMREAD_GRAYSCALE)\n",
    "\n",
    "ret, binary = cv2.threshold(img, 127, 255, cv2.THRESH_BINARY)\n",
    "\n",
    "cv2.imshow(\"img\", img)\n",
    "cv2.imshow(\"binary\", binary)\n",
    "\n",
    "cv2.waitKey(0)\n",
    "cv2.destroyAllWindows()"
   ]
  },
  {
   "cell_type": "code",
   "execution_count": 9,
   "metadata": {},
   "outputs": [
    {
     "name": "stdout",
     "output_type": "stream",
     "text": [
      "0\n"
     ]
    }
   ],
   "source": [
    "img = cv2.imread(book, cv2.COLOR_BGR2BGRA) \n",
    "print(cv2.COLOR_BGR2BGRA)\n",
    "ret, binary = cv2.threshold(img, 127, 255, cv2.THRESH_BINARY)\n",
    "\n",
    "cv2.imshow(\"img\", img)\n",
    "cv2.imshow(\"binary\", binary)\n",
    "cv2.waitKey(0)\n",
    "cv2.destroyAllWindows()"
   ]
  },
  {
   "cell_type": "code",
   "execution_count": 18,
   "metadata": {},
   "outputs": [],
   "source": [
    "img = cv2.imread(\"./images/poodle_mini1.png\")\n",
    "\n",
    "name = \"affine trackbar\"\n",
    "cv2.namedWindow(name)\n",
    "trackbar_name = \"Rotation\"\n",
    "\n",
    "cv2.createTrackbar(trackbar_name, name, 0, 360, lambda x: x)\n",
    "\n",
    "while True:\n",
    "    angle = cv2.getTrackbarPos(trackbar_name, name)\n",
    "    height, width, _ = img.shape\n",
    "    center = (height/2, width/2)\n",
    "    affine1 = cv2.getRotationMatrix2D(center, -angle, 1)\n",
    "    affine2 = cv2.getRotationMatrix2D(center, angle, 1)\n",
    "\n",
    "    dst1 = cv2.warpAffine(img, affine1, (width, height))\n",
    "    dst2 = cv2.warpAffine(img, affine2, (width, height))\n",
    "\n",
    "    cv2.imshow(name, dst1)\n",
    "    cv2.imshow(name, dst2)\n",
    "    cv2.imshow(\"original\", img)\n",
    "\n",
    "    if cv2.waitKey(1) != -1:\n",
    "        break\n",
    "cv2.destroyAllWindows()"
   ]
  },
  {
   "cell_type": "code",
   "execution_count": 20,
   "metadata": {},
   "outputs": [],
   "source": [
    "img = cv2.imread(book, cv2.IMREAD_GRAYSCALE)\n",
    "\n",
    "name = \"Adaptive\"\n",
    "cv2.namedWindow(name)\n",
    "cv2.createTrackbar(\"block_size\", name, 25, 100, lambda x: x)\n",
    "cv2.createTrackbar(\"C\", name, 1, 10, lambda x: x)\n",
    "\n",
    "while True:\n",
    "    block_size = cv2.getTrackbarPos(\"block_size\", name)\n",
    "    C = cv2.getTrackbarPos(\"C\", name)\n",
    "\n",
    "    if block_size <= 1:\n",
    "        block_size = 3\n",
    "    if block_size % 2 == 0:\n",
    "        block_size += 1\n",
    "\n",
    "    binary = cv2.adaptiveThreshold(\n",
    "        img, 255, cv2.ADAPTIVE_THRESH_MEAN_C, cv2.THRESH_BINARY, block_size, C)\n",
    "\n",
    "    cv2.imshow(name, binary)\n",
    "\n",
    "    if cv2.waitKey(1) != -1:\n",
    "        break\n",
    "cv2.destroyAllWindows()"
   ]
  },
  {
   "cell_type": "code",
   "execution_count": 22,
   "metadata": {},
   "outputs": [],
   "source": [
    "img = cv2.imread(book, cv2.COLOR_BGR2BGRA)\n",
    "\n",
    "name = \"Adaptive\"\n",
    "cv2.namedWindow(name)\n",
    "cv2.createTrackbar(\"block_size\", name, 25, 100, lambda x: x)\n",
    "cv2.createTrackbar(\"C\", name, 1, 10, lambda x: x)\n",
    "\n",
    "while True:\n",
    "    block_size = cv2.getTrackbarPos(\"block_size\", name)\n",
    "    C = cv2.getTrackbarPos(\"C\", name)\n",
    "\n",
    "    if block_size <= 1:\n",
    "        block_size = 3\n",
    "    if block_size % 2 == 0:\n",
    "        block_size += 1\n",
    "\n",
    "    binary = cv2.adaptiveThreshold(\n",
    "        img, 255, cv2.ADAPTIVE_THRESH_MEAN_C, cv2.THRESH_BINARY, block_size, C)\n",
    "\n",
    "    cv2.imshow(name, binary)\n",
    "\n",
    "    if cv2.waitKey(1) != -1:\n",
    "        break\n",
    "cv2.destroyAllWindows()"
   ]
  },
  {
   "cell_type": "code",
   "execution_count": 5,
   "metadata": {},
   "outputs": [],
   "source": [
    "img = cv2.imread(book, cv2.IMREAD_GRAYSCALE)\n",
    "\n",
    "name = \"adaptive\"\n",
    "cv2.namedWindow(name)\n",
    "cv2.createTrackbar(\"block size\", name, 0, 255, lambda x: x)\n",
    "cv2.createTrackbar(\"C\", name, 0, 20, lambda x: x)\n",
    "\n",
    "while True:\n",
    "    block_size = cv2.getTrackbarPos(\"block size\", name)\n",
    "    C = cv2.getTrackbarPos(\"C\", name)\n",
    "\n",
    "    if block_size <= 1:\n",
    "        block_size = 3\n",
    "    if block_size % 2 == 0:\n",
    "        block_size += 1\n",
    "\n",
    "    binary = cv2.adaptiveThreshold(\n",
    "        img, 255, cv2.ADAPTIVE_THRESH_MEAN_C, cv2.THRESH_BINARY, block_size, C)\n",
    "\n",
    "    cv2.imshow(name, binary)\n",
    "\n",
    "    if cv2.waitKey(1) != -1:\n",
    "        break\n",
    "cv2.destroyAllWindows()"
   ]
  }
 ],
 "metadata": {
  "kernelspec": {
   "display_name": "my_cv",
   "language": "python",
   "name": "python3"
  },
  "language_info": {
   "codemirror_mode": {
    "name": "ipython",
    "version": 3
   },
   "file_extension": ".py",
   "mimetype": "text/x-python",
   "name": "python",
   "nbconvert_exporter": "python",
   "pygments_lexer": "ipython3",
   "version": "3.13.0"
  }
 },
 "nbformat": 4,
 "nbformat_minor": 2
}
