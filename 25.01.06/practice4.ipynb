{
 "cells": [
  {
   "cell_type": "code",
   "execution_count": 1,
   "metadata": {},
   "outputs": [],
   "source": [
    "import cv2"
   ]
  },
  {
   "cell_type": "code",
   "execution_count": 2,
   "metadata": {},
   "outputs": [],
   "source": [
    "mountain = \"../images/mountain.jpg\""
   ]
  },
  {
   "cell_type": "code",
   "execution_count": 4,
   "metadata": {},
   "outputs": [],
   "source": [
    "img = cv2.imread(mountain)\n",
    "\n",
    "canny = cv2.Canny(img, 50, 150)\n",
    "cv2.imshow(\"img\", img)\n",
    "cv2.imshow(\"canny\", canny)\n",
    "cv2.waitKey(0)\n",
    "cv2.destroyAllWindows()"
   ]
  },
  {
   "cell_type": "code",
   "execution_count": 6,
   "metadata": {},
   "outputs": [],
   "source": [
    "img = cv2.imread(mountain)\n",
    "\n",
    "name = \"Canny\"\n",
    "cv2.namedWindow(name)\n",
    "cv2.createTrackbar(\"weak\", name, 50, 255, lambda x: x)\n",
    "cv2.createTrackbar(\"strong\", name, 150, 255, lambda x: x)\n",
    "\n",
    "while True:\n",
    "    weak = cv2.getTrackbarPos(\"weak\", name)\n",
    "    strong = cv2.getTrackbarPos(\"strong\", name)\n",
    "\n",
    "    canny = cv2.Canny(img, weak, strong)\n",
    "    cv2.imshow(\"img\", img)\n",
    "    cv2.imshow(name, canny)\n",
    "\n",
    "    if cv2.waitKey(1) != -1:\n",
    "        break\n",
    "cv2.destroyAllWindows()"
   ]
  },
  {
   "cell_type": "code",
   "execution_count": 11,
   "metadata": {},
   "outputs": [],
   "source": [
    "img = cv2.imread(\"../images/horse.png\")\n",
    "resize_img = cv2.resize(img, None, fx=0.5, fy=0.5)\n",
    "\n",
    "blurred = cv2.GaussianBlur(resize_img, (3, 3), 3)\n",
    "canny_img = cv2.Canny(resize_img, 50, 150)\n",
    "blurred_img = cv2.Canny(blurred, 50, 150)\n",
    "\n",
    "cv2.imshow(\"canny_img\", canny_img)\n",
    "cv2.imshow(\"blurred_img\", blurred_img)\n",
    "\n",
    "cv2.waitKey(0)\n",
    "cv2.destroyAllWindows()"
   ]
  },
  {
   "cell_type": "code",
   "execution_count": 16,
   "metadata": {},
   "outputs": [],
   "source": [
    "cap = cv2.VideoCapture(0)\n",
    "\n",
    "fps = cap.get(cv2.CAP_PROP_FPS)\n",
    "\n",
    "if not cap.isOpened():\n",
    "    exit()\n",
    "\n",
    "while True:\n",
    "    ret, frame = cap.read()\n",
    "    frame_flip = cv2.flip(frame, 1)\n",
    "\n",
    "\n",
    "    canny = cv2.Canny(frame_flip, 50, 150)\n",
    "    if not ret:\n",
    "        break\n",
    "\n",
    "    cv2.imshow(name, canny)\n",
    "\n",
    "    if cv2.waitKey(int(1000/fps)) != -1:\n",
    "        break\n",
    "\n",
    "cap.release()\n",
    "cv2.destroyAllWindows()"
   ]
  },
  {
   "cell_type": "code",
   "execution_count": null,
   "metadata": {},
   "outputs": [],
   "source": [
    "cap = cv2.VideoCapture(0)\n",
    "\n",
    "fps = cap.get(cv2.CAP_PROP_FPS)\n",
    "name = \"Video Canny\"\n",
    "cv2.namedWindow(name)\n",
    "cv2.createTrackbar(\"weak\", name, 50, 255, lambda x: x)\n",
    "cv2.createTrackbar(\"strong\", name, 150, 255, lambda x: x)\n",
    "\n",
    "if not cap.isOpened():\n",
    "    exit()\n",
    "\n",
    "while True:\n",
    "    ret, frame = cap.read()\n",
    "    frame_flip = cv2.flip(frame, 1)\n",
    "\n",
    "    weak = cv2.getTrackbarPos(\"weak\", name)\n",
    "    strong = cv2.getTrackbarPos(\"strong\", name)\n",
    "\n",
    "    canny = cv2.Canny(frame_flip, weak, strong)\n",
    "    if not ret:\n",
    "        break\n",
    "\n",
    "    cv2.imshow(name, canny)\n",
    "\n",
    "    if cv2.waitKey(int(1000/fps)) != -1:\n",
    "        break\n",
    "\n",
    "cap.release()\n",
    "cv2.destroyAllWindows()"
   ]
  }
 ],
 "metadata": {
  "kernelspec": {
   "display_name": "my_cv",
   "language": "python",
   "name": "python3"
  },
  "language_info": {
   "codemirror_mode": {
    "name": "ipython",
    "version": 3
   },
   "file_extension": ".py",
   "mimetype": "text/x-python",
   "name": "python",
   "nbconvert_exporter": "python",
   "pygments_lexer": "ipython3",
   "version": "3.13.0"
  }
 },
 "nbformat": 4,
 "nbformat_minor": 2
}
