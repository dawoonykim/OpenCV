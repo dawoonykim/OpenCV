{
 "cells": [
  {
   "cell_type": "markdown",
   "metadata": {},
   "source": [
    "# 09. 마우스 이벤트"
   ]
  },
  {
   "cell_type": "code",
   "execution_count": 21,
   "metadata": {},
   "outputs": [],
   "source": [
    "import cv2\n",
    "import numpy as np\n",
    "\n",
    "img = cv2.imread(\"../images/poodle_mini1.png\")\n",
    "name = \"mouse event\"\n",
    "cv2.namedWindow(name)\n",
    "\n",
    "\n",
    "def on_mouse(event, x, y, flags, _):\n",
    "    # if event == cv2.EVENT_LBUTTONDOWN: # 왼쪽 버튼 누를 때\n",
    "    #     print(event, cv2.EVENT_LBUTTONDOWN)\n",
    "    # if event == cv2.EVENT_LBUTTONUP: # 왼쪽 버튼 뗄 때\n",
    "    #     print(event, cv2.EVENT_LBUTTONUP)\n",
    "    if event == cv2.EVENT_LBUTTONDOWN:\n",
    "        # print(x, y)\n",
    "        copied = img.copy() # 깊은 복사\n",
    "        cv2.circle(copied, (x, y), 8, (125, 55, 206), cv2.FILLED, cv2.LINE_AA)\n",
    "        cv2.imshow(name, copied)\n",
    "\n",
    "\n",
    "cv2.setMouseCallback(name, on_mouse)\n",
    "\n",
    "cv2.imshow(name, img)\n",
    "cv2.waitKey(0)\n",
    "cv2.destroyAllWindows()"
   ]
  },
  {
   "cell_type": "code",
   "execution_count": null,
   "metadata": {},
   "outputs": [],
   "source": []
  }
 ],
 "metadata": {
  "kernelspec": {
   "display_name": "my_cv",
   "language": "python",
   "name": "python3"
  },
  "language_info": {
   "codemirror_mode": {
    "name": "ipython",
    "version": 3
   },
   "file_extension": ".py",
   "mimetype": "text/x-python",
   "name": "python",
   "nbconvert_exporter": "python",
   "pygments_lexer": "ipython3",
   "version": "3.13.0"
  }
 },
 "nbformat": 4,
 "nbformat_minor": 2
}
