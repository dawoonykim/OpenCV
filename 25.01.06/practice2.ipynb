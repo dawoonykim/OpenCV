{
 "cells": [
  {
   "cell_type": "code",
   "execution_count": 1,
   "metadata": {},
   "outputs": [],
   "source": [
    "import cv2\n",
    "import numpy as np"
   ]
  },
  {
   "cell_type": "code",
   "execution_count": 2,
   "metadata": {},
   "outputs": [],
   "source": [
    "img = cv2.imread(\"../images/poodle_mini1.png\")\n",
    "\n",
    "name = \"mouse event\"\n",
    "cv2.namedWindow(name)\n",
    "\n",
    "\n",
    "def on_mouse(event, x, y, flags, _):\n",
    "    if event == cv2.EVENT_LBUTTONDOWN:\n",
    "        copied = img.copy()\n",
    "        cv2.circle(copied, (x, y), 8, (148, 65, 13), 4, cv2.LINE_AA)\n",
    "        cv2.imshow(name, copied)\n",
    "\n",
    "\n",
    "cv2.setMouseCallback(name, on_mouse)\n",
    "\n",
    "cv2.imshow(name, img)\n",
    "cv2.waitKey(0)\n",
    "cv2.destroyAllWindows()"
   ]
  }
 ],
 "metadata": {
  "kernelspec": {
   "display_name": "my_cv",
   "language": "python",
   "name": "python3"
  },
  "language_info": {
   "codemirror_mode": {
    "name": "ipython",
    "version": 3
   },
   "file_extension": ".py",
   "mimetype": "text/x-python",
   "name": "python",
   "nbconvert_exporter": "python",
   "pygments_lexer": "ipython3",
   "version": "3.13.0"
  }
 },
 "nbformat": 4,
 "nbformat_minor": 2
}
