{
 "cells": [
  {
   "cell_type": "code",
   "execution_count": 2,
   "metadata": {},
   "outputs": [],
   "source": [
    "import cv2"
   ]
  },
  {
   "cell_type": "code",
   "execution_count": 8,
   "metadata": {},
   "outputs": [],
   "source": [
    "cap = cv2.VideoCapture(0)\n",
    "\n",
    "fps = cap.get(cv2.CAP_PROP_FPS)\n",
    "name = \"Canny\"\n",
    "cv2.namedWindow(name)\n",
    "\n",
    "cv2.createTrackbar(\"weak\", name, 50, 255, lambda x: x)\n",
    "cv2.createTrackbar(\"strong\", name, 150, 255, lambda x: x)\n",
    "if not cap.isOpened():\n",
    "    exit()\n",
    "\n",
    "while True:\n",
    "    weak = cv2.getTrackbarPos(\"weak\", name)\n",
    "    strong = cv2.getTrackbarPos(\"strong\", name)\n",
    "\n",
    "    ret, frame = cap.read()\n",
    "\n",
    "    if not ret:\n",
    "        break\n",
    "    \n",
    "    canny = cv2.Canny(frame, week, strong)\n",
    "\n",
    "    cv2.imshow(name, canny)\n",
    "\n",
    "    if cv2.waitKey(int(1000/fps)) == ord(\"q\"):\n",
    "        break\n",
    "    \n",
    "cap.release()\n",
    "cv2.destroyAllWindows()"
   ]
  },
  {
   "cell_type": "markdown",
   "metadata": {},
   "source": [
    "# 좌우 반전"
   ]
  },
  {
   "cell_type": "code",
   "execution_count": 9,
   "metadata": {},
   "outputs": [],
   "source": [
    "cap = cv2.VideoCapture(0)\n",
    "\n",
    "fps = cap.get(cv2.CAP_PROP_FPS)\n",
    "name = \"Canny\"\n",
    "cv2.namedWindow(name)\n",
    "\n",
    "cv2.createTrackbar(\"weak\", name, 50, 255, lambda x: x)\n",
    "cv2.createTrackbar(\"strong\", name, 150, 255, lambda x: x)\n",
    "if not cap.isOpened():\n",
    "    exit()\n",
    "\n",
    "while True:\n",
    "    weak = cv2.getTrackbarPos(\"weak\", name)\n",
    "    strong = cv2.getTrackbarPos(\"strong\", name)\n",
    "\n",
    "    ret, frame = cap.read()\n",
    "\n",
    "    flip_flame = cv2.flip(frame, 1)\n",
    "\n",
    "    if not ret:\n",
    "        break\n",
    "    \n",
    "    canny = cv2.Canny(flip_flame, week, strong)\n",
    "\n",
    "    cv2.imshow(name, canny)\n",
    "\n",
    "    if cv2.waitKey(int(1000/fps)) == ord(\"q\"):\n",
    "        break\n",
    "    \n",
    "cap.release()\n",
    "cv2.destroyAllWindows()"
   ]
  }
 ],
 "metadata": {
  "kernelspec": {
   "display_name": "my_cv",
   "language": "python",
   "name": "python3"
  },
  "language_info": {
   "codemirror_mode": {
    "name": "ipython",
    "version": 3
   },
   "file_extension": ".py",
   "mimetype": "text/x-python",
   "name": "python",
   "nbconvert_exporter": "python",
   "pygments_lexer": "ipython3",
   "version": "3.13.0"
  }
 },
 "nbformat": 4,
 "nbformat_minor": 2
}
