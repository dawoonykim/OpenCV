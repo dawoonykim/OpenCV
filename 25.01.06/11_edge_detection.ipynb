{
 "cells": [
  {
   "cell_type": "markdown",
   "metadata": {},
   "source": [
    "# 11. 경계선 검출 (Canny Edge Detection)\n",
    "- 약한 임계값과 강한 임계값을 사용해 경계선을 검출\n",
    "- 그레이스케일 적용 -> 블러로 노이즈 제거 -> Canny 적용"
   ]
  },
  {
   "cell_type": "code",
   "execution_count": 2,
   "metadata": {},
   "outputs": [],
   "source": [
    "import cv2"
   ]
  },
  {
   "cell_type": "code",
   "execution_count": 2,
   "metadata": {},
   "outputs": [],
   "source": [
    "mountain = \"../images/mountain.jpg\""
   ]
  },
  {
   "cell_type": "markdown",
   "metadata": {},
   "source": [
    "## 11-1. 기본 구현"
   ]
  },
  {
   "cell_type": "code",
   "execution_count": 9,
   "metadata": {},
   "outputs": [],
   "source": [
    "img = cv2.imread(mountain, cv2.COLOR_BGR2BGRA)\n",
    "\n",
    "canny = cv2.Canny(img, 50, 150)\n",
    "\n",
    "cv2.imshow(\"img\", img)\n",
    "cv2.imshow(\"canny\", canny)\n",
    "cv2.waitKey(0)\n",
    "cv2.destroyAllWindows()"
   ]
  },
  {
   "cell_type": "markdown",
   "metadata": {},
   "source": [
    "## 11-2. 트랙바"
   ]
  },
  {
   "cell_type": "code",
   "execution_count": 1,
   "metadata": {},
   "outputs": [],
   "source": [
    "import cv2\n",
    "mountain = \"../images/mountain.jpg\"\n",
    "img = cv2.imread(mountain, cv2.COLOR_BGR2BGRA)\n",
    "name = \"Canny\"\n",
    "cv2.namedWindow(name)\n",
    "cv2.createTrackbar(\"weak\", name, 50, 255, lambda x: x)\n",
    "cv2.createTrackbar(\"strong\", name, 150, 255, lambda x: x)\n",
    "\n",
    "while True:\n",
    "    weak = cv2.getTrackbarPos(\"weak\", name)\n",
    "    strong = cv2.getTrackbarPos(\"strong\", name)\n",
    "\n",
    "    canny = cv2.Canny(img, weak, strong)\n",
    "\n",
    "    cv2.imshow(name, canny)\n",
    "\n",
    "    if cv2.waitKey(1) == ord(\"q\"):\n",
    "        break\n",
    "\n",
    "cv2.destroyAllWindows()"
   ]
  },
  {
   "cell_type": "code",
   "execution_count": 3,
   "metadata": {},
   "outputs": [],
   "source": [
    "img = cv2.imread(\"../images/poodle_mini1.png\", cv2.COLOR_BGR2BGRA)\n",
    "\n",
    "blurred = cv2.GaussianBlur(img, (0, 0), 3)\n",
    "\n",
    "canny_img = cv2.Canny(img, 50, 150)\n",
    "canny_blurred = cv2.Canny(blurred, 50, 150)\n",
    "\n",
    "cv2.imshow(\"canny_img\", canny_img)\n",
    "cv2.imshow(\"canny_blurred\", canny_blurred)\n",
    "\n",
    "cv2.waitKey(0)\n",
    "cv2.destroyAllWindows()"
   ]
  },
  {
   "cell_type": "code",
   "execution_count": 5,
   "metadata": {},
   "outputs": [],
   "source": [
    "# import numpy as np\n",
    "# img = cv2.imread(\"../images/poodle_mini1.png\")\n",
    "# kernel = np.ones((3, 3), dtype=np.uint8)\n",
    "# erode = cv2.erode(img, kernel, iterations=10)\n",
    "# dilate = cv2.dilate(erode, kernel, iterations=10)\n",
    "# cv2.imshow(\"img\", dilate)\n",
    "# cv2.waitKey(0)\n",
    "# cv2.destroyAllWindows()"
   ]
  }
 ],
 "metadata": {
  "kernelspec": {
   "display_name": "my_cv",
   "language": "python",
   "name": "python3"
  },
  "language_info": {
   "codemirror_mode": {
    "name": "ipython",
    "version": 3
   },
   "file_extension": ".py",
   "mimetype": "text/x-python",
   "name": "python",
   "nbconvert_exporter": "python",
   "pygments_lexer": "ipython3",
   "version": "3.13.0"
  }
 },
 "nbformat": 4,
 "nbformat_minor": 2
}
