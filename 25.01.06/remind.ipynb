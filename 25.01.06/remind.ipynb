{
 "cells": [
  {
   "cell_type": "code",
   "execution_count": 2,
   "metadata": {},
   "outputs": [],
   "source": [
    "import cv2\n",
    "import numpy as np"
   ]
  },
  {
   "cell_type": "code",
   "execution_count": 4,
   "metadata": {},
   "outputs": [],
   "source": [
    "img = cv2.imread(\"../images/dilate.png\")\n",
    "\n",
    "kernel = np.ones((3, 3), dtype=np.uint8)\n",
    "\n",
    "dilate_1 = cv2.dilate(img, kernel, iterations=1)\n",
    "dilate_2 = cv2.dilate(img, kernel, iterations=2)\n",
    "dilate_3 = cv2.dilate(img, kernel, iterations=3)\n",
    "erode_3 = cv2.erode(dilate_3, kernel, iterations=3)\n",
    "\n",
    "cv2.imshow(\"img\", img)\n",
    "# cv2.imshow(\"dilate_1\", dilate_1)\n",
    "# cv2.imshow(\"dilate_2\", dilate_2)\n",
    "cv2.imshow(\"dilate_3\", dilate_3)\n",
    "cv2.imshow(\"erode_3\", erode_3)\n",
    "\n",
    "cv2.waitKey(0)\n",
    "cv2.destroyAllWindows()"
   ]
  },
  {
   "cell_type": "code",
   "execution_count": 8,
   "metadata": {},
   "outputs": [],
   "source": [
    "card = cv2.imread(\"../images/card.jpg\")\n",
    "\n",
    "width, height = 600, 350\n",
    "\n",
    "src = np.array(\n",
    "    [[54, 261], [981, 128], [1213, 560], [194, 735]], dtype=np.float32)\n",
    "\n",
    "dst = np.array([[0, 0], [width, 0], [width, height],\n",
    "               [0, height]], dtype=np.float32)\n",
    "\n",
    "mat = cv2.getPerspectiveTransform(src, dst)\n",
    "\n",
    "result = cv2.warpPerspective(card, mat, (width, height))\n",
    "\n",
    "cv2.imshow(\"card\", card)\n",
    "\n",
    "cv2.imshow(\"result\", result)\n",
    "cv2.waitKey(0)\n",
    "cv2.destroyAllWindows()"
   ]
  },
  {
   "cell_type": "code",
   "execution_count": 14,
   "metadata": {},
   "outputs": [],
   "source": [
    "img = cv2.imread(\"../images/book.jpg\", cv2.IMREAD_GRAYSCALE)\n",
    "name = \"change\"\n",
    "cv2.namedWindow(name)\n",
    "trackbar_name = \"blight\"\n",
    "cv2.createTrackbar(trackbar_name, name, 127, 255, lambda x: x)\n",
    "\n",
    "while True:\n",
    "    blight = cv2.getTrackbarPos(trackbar_name, name)\n",
    "\n",
    "    ret, binary = cv2.threshold(img, blight, 255, cv2.THRESH_BINARY)\n",
    "\n",
    "    cv2.imshow(name, binary)\n",
    "\n",
    "    if cv2.waitKey(1) != -1:\n",
    "        break\n",
    "cv2.destroyAllWindows()"
   ]
  },
  {
   "cell_type": "code",
   "execution_count": 15,
   "metadata": {},
   "outputs": [],
   "source": [
    "img = cv2.imread(\"../images/book.jpg\", cv2.IMREAD_GRAYSCALE)\n",
    "name = \"change\"\n",
    "cv2.namedWindow(name)\n",
    "trackbar_name = \"blight\"\n",
    "cv2.createTrackbar(trackbar_name, name, 127, 255, lambda x: x)\n",
    "\n",
    "while True:\n",
    "    blight = cv2.getTrackbarPos(trackbar_name, name)\n",
    "\n",
    "    ret, binary = cv2.threshold(img, blight, 255, cv2.THRESH_BINARY)\n",
    "\n",
    "    cv2.imshow(name, binary)\n",
    "\n",
    "    if cv2.waitKey(1) != -1:\n",
    "        break\n",
    "cv2.destroyAllWindows()"
   ]
  },
  {
   "cell_type": "code",
   "execution_count": 18,
   "metadata": {},
   "outputs": [],
   "source": [
    "img = cv2.imread(\"../images/book.jpg\", cv2.IMREAD_GRAYSCALE)\n",
    "name = \"adaptive\"\n",
    "cv2.namedWindow(name)\n",
    "cv2.createTrackbar(\"block_size\", name, 25, 100, lambda x: x)\n",
    "cv2.createTrackbar(\"C\", name, 0, 10, lambda x: x)\n",
    "\n",
    "while True:\n",
    "    block_size = cv2.getTrackbarPos(\"block_size\", name)\n",
    "    C = cv2.getTrackbarPos(\"C\", name)\n",
    "\n",
    "    if block_size <= 1:\n",
    "        block_size = 3\n",
    "    if block_size % 2 == 0:\n",
    "        block_size += 1\n",
    "    binary = cv2.adaptiveThreshold(\n",
    "        img, 255, cv2.ADAPTIVE_THRESH_MEAN_C, cv2.THRESH_BINARY, block_size, C)\n",
    "\n",
    "    cv2.imshow(name, binary)\n",
    "\n",
    "    if cv2.waitKey(1) != -1:\n",
    "        break\n",
    "cv2.destroyAllWindows()"
   ]
  },
  {
   "cell_type": "code",
   "execution_count": 3,
   "metadata": {},
   "outputs": [
    {
     "ename": "error",
     "evalue": "OpenCV(4.10.0) D:\\a\\opencv-python\\opencv-python\\opencv\\modules\\highgui\\src\\window_w32.cpp:2561: error: (-27:Null pointer) NULL window: 'adaptive' in function 'cvGetTrackbarPos'\n",
     "output_type": "error",
     "traceback": [
      "\u001b[1;31m---------------------------------------------------------------------------\u001b[0m",
      "\u001b[1;31merror\u001b[0m                                     Traceback (most recent call last)",
      "Cell \u001b[1;32mIn[3], line 8\u001b[0m\n\u001b[0;32m      5\u001b[0m cv2\u001b[38;5;241m.\u001b[39mcreateTrackbar(\u001b[38;5;124m\"\u001b[39m\u001b[38;5;124mC\u001b[39m\u001b[38;5;124m\"\u001b[39m, name, \u001b[38;5;241m0\u001b[39m, \u001b[38;5;241m10\u001b[39m, \u001b[38;5;28;01mlambda\u001b[39;00m x: x)\n\u001b[0;32m      7\u001b[0m \u001b[38;5;28;01mwhile\u001b[39;00m \u001b[38;5;28;01mTrue\u001b[39;00m:\n\u001b[1;32m----> 8\u001b[0m     block_size \u001b[38;5;241m=\u001b[39m \u001b[43mcv2\u001b[49m\u001b[38;5;241;43m.\u001b[39;49m\u001b[43mgetTrackbarPos\u001b[49m\u001b[43m(\u001b[49m\u001b[38;5;124;43m\"\u001b[39;49m\u001b[38;5;124;43mblock_size\u001b[39;49m\u001b[38;5;124;43m\"\u001b[39;49m\u001b[43m,\u001b[49m\u001b[43m \u001b[49m\u001b[43mname\u001b[49m\u001b[43m)\u001b[49m\n\u001b[0;32m      9\u001b[0m     C \u001b[38;5;241m=\u001b[39m cv2\u001b[38;5;241m.\u001b[39mgetTrackbarPos(\u001b[38;5;124m\"\u001b[39m\u001b[38;5;124mC\u001b[39m\u001b[38;5;124m\"\u001b[39m, name)\n\u001b[0;32m     11\u001b[0m     \u001b[38;5;28;01mif\u001b[39;00m block_size \u001b[38;5;241m<\u001b[39m\u001b[38;5;241m=\u001b[39m \u001b[38;5;241m1\u001b[39m:\n",
      "\u001b[1;31merror\u001b[0m: OpenCV(4.10.0) D:\\a\\opencv-python\\opencv-python\\opencv\\modules\\highgui\\src\\window_w32.cpp:2561: error: (-27:Null pointer) NULL window: 'adaptive' in function 'cvGetTrackbarPos'\n"
     ]
    }
   ],
   "source": [
    "img = cv2.imread(\"../images/book.jpg\", cv2.COLOR_BGR2BGRA)\n",
    "name = \"adaptive\"\n",
    "cv2.namedWindow(name)\n",
    "cv2.createTrackbar(\"block_size\", name, 25, 100, lambda x: x)\n",
    "cv2.createTrackbar(\"C\", name, 0, 10, lambda x: x)\n",
    "\n",
    "while True:\n",
    "    block_size = cv2.getTrackbarPos(\"block_size\", name)\n",
    "    C = cv2.getTrackbarPos(\"C\", name)\n",
    "\n",
    "    if block_size <= 1:\n",
    "        block_size = 3\n",
    "    if block_size % 2 == 0:\n",
    "        block_size += 1\n",
    "    binary = cv2.adaptiveThreshold(\n",
    "        img, 255, cv2.ADAPTIVE_THRESH_MEAN_C, cv2.THRESH_BINARY, block_size, C)\n",
    "\n",
    "    cv2.imshow(name, binary)\n",
    "\n",
    "    if cv2.waitKey(1) != -1:\n",
    "        break\n",
    "cv2.destroyAllWindows()"
   ]
  }
 ],
 "metadata": {
  "kernelspec": {
   "display_name": "my_cv",
   "language": "python",
   "name": "python3"
  },
  "language_info": {
   "codemirror_mode": {
    "name": "ipython",
    "version": 3
   },
   "file_extension": ".py",
   "mimetype": "text/x-python",
   "name": "python",
   "nbconvert_exporter": "python",
   "pygments_lexer": "ipython3",
   "version": "3.13.0"
  }
 },
 "nbformat": 4,
 "nbformat_minor": 2
}
