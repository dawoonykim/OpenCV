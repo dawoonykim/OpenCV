{
 "cells": [
  {
   "cell_type": "code",
   "execution_count": 1,
   "metadata": {},
   "outputs": [],
   "source": [
    "import cv2\n",
    "import numpy as np"
   ]
  },
  {
   "cell_type": "code",
   "execution_count": 2,
   "metadata": {},
   "outputs": [],
   "source": [
    "dog_path = \"./images/poodle_mini1.png\""
   ]
  },
  {
   "cell_type": "code",
   "execution_count": 6,
   "metadata": {},
   "outputs": [],
   "source": [
    "img = np.zeros((460, 640, 3), dtype=np.uint8)\n",
    "\n",
    "cv2.imshow(\"img\", img)\n",
    "cv2.waitKey(0)\n",
    "cv2.destroyAllWindows()"
   ]
  },
  {
   "cell_type": "code",
   "execution_count": 29,
   "metadata": {},
   "outputs": [],
   "source": [
    "img = np.zeros((460, 640, 3), dtype=np.uint8)\n",
    "\n",
    "img[150:300, 300:450] = (255, 255, 255)  # img[150:300, 300:450] [y1:x1,y2:x2]\n",
    "\n",
    "cv2.imshow(\"img\", img)\n",
    "cv2.waitKey(0)\n",
    "cv2.destroyAllWindows()"
   ]
  },
  {
   "cell_type": "code",
   "execution_count": 16,
   "metadata": {},
   "outputs": [],
   "source": [
    "img = np.zeros((460, 640, 3), dtype=np.uint8)\n",
    "gray = (127, 127, 127)\n",
    "yellow = (0, 255, 255)\n",
    "cyon = (255, 255, 0)\n",
    "cv2.line(img, (50, 100), (200, 150), gray, 5, cv2.LINE_AA)\n",
    "cv2.line(img, (50, 100), (50, 400), yellow, 5, cv2.LINE_4)\n",
    "cv2.line(img, (200, 150), (50, 400), cyon, 5, cv2.LINE_8)\n",
    "\n",
    "cv2.imshow(\"Line\", img)\n",
    "cv2.waitKey(0)\n",
    "cv2.destroyAllWindows()"
   ]
  },
  {
   "cell_type": "code",
   "execution_count": 19,
   "metadata": {},
   "outputs": [],
   "source": [
    "img = np.zeros((460, 640, 3), dtype=np.uint8)\n",
    "\n",
    "cv2.circle(img, (100, 100), 50, (0, 255, 255), 5, cv2.LINE_AA)\n",
    "cv2.imshow(\"circle\", img)\n",
    "cv2.circle(img, (200, 200), 50, (255, 255, 0), cv2.FILLED, cv2.LINE_AA)\n",
    "cv2.imshow(\"circle\", img)\n",
    "cv2.waitKey(0)\n",
    "cv2.destroyAllWindows()"
   ]
  },
  {
   "cell_type": "code",
   "execution_count": 13,
   "metadata": {},
   "outputs": [],
   "source": [
    "img = np.zeros((460, 640, 3), dtype=np.uint8)\n",
    "cv2.ellipse(img, (200, 200), (100, 50), 0, 45,\n",
    "            360, (154, 85, 255), 5, cv2.LINE_AA)\n",
    "cv2.ellipse(img, (200, 200), (100, 50), 45, 90,\n",
    "            315, (154, 85, 255), 5, cv2.LINE_AA)\n",
    "cv2.ellipse(img, (200, 200), (100, 50), 90, 135,\n",
    "            270, (154, 85, 255), 5, cv2.LINE_AA)\n",
    "cv2.ellipse(img, (200, 200), (100, 50), 135, 180,\n",
    "            225, (154, 85, 255), 5, cv2.LINE_AA)\n",
    "cv2.imshow(\"ellipse\", img)\n",
    "cv2.waitKey(0)\n",
    "cv2.destroyAllWindows()"
   ]
  },
  {
   "cell_type": "code",
   "execution_count": 23,
   "metadata": {},
   "outputs": [],
   "source": [
    "img = np.zeros((460, 640, 3), dtype=np.uint8)\n",
    "\n",
    "cv2.rectangle(img, (100, 100), (300, 300), (65, 255, 127), 5, cv2.LINE_AA)\n",
    "cv2.rectangle(img, (200, 300), (300, 400),\n",
    "              (125, 22, 84), cv2.FILLED, cv2.LINE_AA)\n",
    "cv2.imshow(\"rectangle\", img)\n",
    "cv2.waitKey(0)\n",
    "cv2.destroyAllWindows()"
   ]
  },
  {
   "cell_type": "code",
   "execution_count": 27,
   "metadata": {},
   "outputs": [],
   "source": [
    "img = np.zeros((460, 640, 3), dtype=np.uint8)\n",
    "\n",
    "pts = np.array([[[100, 100], [100, 200], [200, 100]]])\n",
    "\n",
    "cv2.polylines(img, pts, True, (214, 124, 142), 5, cv2.LINE_AA)\n",
    "pts2 = np.array([[[300, 300], [200, 300], [300, 200]]])\n",
    "cv2.polylines(img, pts2,\n",
    "              False, (145, 14, 77), 5, cv2.LINE_AA)\n",
    "\n",
    "cv2.imshow(\"polylines\", img)\n",
    "cv2.waitKey(0)\n",
    "cv2.destroyAllWindows()"
   ]
  },
  {
   "cell_type": "code",
   "execution_count": 30,
   "metadata": {},
   "outputs": [],
   "source": [
    "img = np.zeros((460, 640, 3), dtype=np.uint8)\n",
    "pts = np.array([[[100, 100], [100, 200], [200, 100]]])\n",
    "cv2.fillPoly(img, pts, (46, 129, 255), cv2.LINE_8)\n",
    "cv2.imshow(\"fillPoly\", img)\n",
    "cv2.waitKey(0)\n",
    "cv2.destroyAllWindows()"
   ]
  },
  {
   "cell_type": "markdown",
   "metadata": {},
   "source": [
    "# 실습 1"
   ]
  },
  {
   "cell_type": "markdown",
   "metadata": {},
   "source": [
    "\n",
    "### 1. 640*480 사이즈의 빈 화면"
   ]
  },
  {
   "cell_type": "code",
   "execution_count": 31,
   "metadata": {},
   "outputs": [],
   "source": [
    "img = np.zeros((480, 640, 3), dtype=np.uint8)"
   ]
  },
  {
   "cell_type": "markdown",
   "metadata": {},
   "source": [
    "### 2. 선, 원, 타원, 사각형, 다각형(선 / 채우기 각각) 화면에 그리기\n"
   ]
  },
  {
   "cell_type": "code",
   "execution_count": 37,
   "metadata": {},
   "outputs": [],
   "source": [
    "gray = (127, 127, 127)\n",
    "cv2.line(img, (100, 100), (400, 400), gray, 5, cv2.LINE_AA)\n",
    "cv2.circle(img, (200, 200), 50, gray, 5, cv2.LINE_AA)\n",
    "cv2.ellipse(img, (300, 300), (100, 50), 0, 0, 360, gray, 5, cv2.LINE_AA)\n",
    "cv2.rectangle(img, (10, 10), (110, 110), gray, 5, cv2.LINE_AA)\n",
    "pts1 = np.array([[[100, 100], [100, 200], [200, 100]]])\n",
    "cv2.polylines(img, pts1, True, gray, 5, cv2.LINE_AA)\n",
    "pts2 = np.array([[[300, 300], [200, 300], [300, 200]]])\n",
    "cv2.fillPoly(img, pts2, gray, cv2.LINE_AA)\n",
    "cv2.imshow(\"test\", img)\n",
    "cv2.waitKey(0)\n",
    "cv2.destroyAllWindows()"
   ]
  },
  {
   "cell_type": "markdown",
   "metadata": {},
   "source": [
    "### 3. 도형의 색상을 각각 다르게 설정"
   ]
  },
  {
   "cell_type": "code",
   "execution_count": 39,
   "metadata": {},
   "outputs": [],
   "source": [
    "cv2.line(img, (100, 100), (400, 400), (125,48,65), 5, cv2.LINE_AA)\n",
    "cv2.circle(img, (200, 200), 50, (63,125,255), 5, cv2.LINE_AA)\n",
    "cv2.ellipse(img, (300, 300), (100, 50), 0, 0, 360, (255,124,200), 5, cv2.LINE_AA)\n",
    "cv2.rectangle(img, (10, 10), (110, 110), (125,255,255), 5, cv2.LINE_AA)\n",
    "pts1 = np.array([[[100, 100], [100, 200], [200, 100]]])\n",
    "cv2.polylines(img, pts1, True, (120,240,0), 5, cv2.LINE_AA)\n",
    "pts2 = np.array([[[300, 300], [200, 300], [300, 200]]])\n",
    "cv2.fillPoly(img, pts2, (255,255,255), cv2.LINE_AA)\n",
    "cv2.imshow(\"test\", img)\n",
    "cv2.waitKey(0)\n",
    "cv2.destroyAllWindows()"
   ]
  }
 ],
 "metadata": {
  "kernelspec": {
   "display_name": "my_cv",
   "language": "python",
   "name": "python3"
  },
  "language_info": {
   "codemirror_mode": {
    "name": "ipython",
    "version": 3
   },
   "file_extension": ".py",
   "mimetype": "text/x-python",
   "name": "python",
   "nbconvert_exporter": "python",
   "pygments_lexer": "ipython3",
   "version": "3.13.0"
  }
 },
 "nbformat": 4,
 "nbformat_minor": 2
}
