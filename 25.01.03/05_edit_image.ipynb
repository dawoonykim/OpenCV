{
 "cells": [
  {
   "cell_type": "markdown",
   "metadata": {},
   "source": [
    "# 05. 이미지 조정"
   ]
  },
  {
   "cell_type": "code",
   "execution_count": 2,
   "metadata": {},
   "outputs": [],
   "source": [
    "import cv2\n",
    "import numpy as np"
   ]
  },
  {
   "cell_type": "code",
   "execution_count": 3,
   "metadata": {},
   "outputs": [],
   "source": [
    "dog_path=\"./images/poodle_mini1.png\""
   ]
  },
  {
   "cell_type": "markdown",
   "metadata": {},
   "source": [
    "### 5-1. 이미지 복사"
   ]
  },
  {
   "cell_type": "code",
   "execution_count": 20,
   "metadata": {},
   "outputs": [],
   "source": [
    "img = cv2.imread(dog_path)\n",
    "\n",
    "shallow_copy = img\n",
    "deep_copy = img.copy()\n",
    "\n",
    "gray = cv2.cvtColor(shallow_copy, cv2.COLOR_BGR2GRAY)\n",
    "\n",
    "cv2.imshow(\"shallow img\", gray)\n",
    "cv2.imshow(\"original img\", img)\n",
    "\n",
    "cv2.waitKey(0)\n",
    "cv2.destroyAllWindows()"
   ]
  },
  {
   "cell_type": "markdown",
   "metadata": {},
   "source": [
    "### 5-2. 리사이즈"
   ]
  },
  {
   "cell_type": "code",
   "execution_count": 19,
   "metadata": {},
   "outputs": [],
   "source": [
    "img = cv2.imread(dog_path)\n",
    "img.shape\n",
    "# 고정 크기를 입력해서 조정\n",
    "dst1 = cv2.resize(img, (320, 320))\n",
    "cv2.imshow(\"resize1\", dst1)\n",
    "dst2 = cv2.resize(img, (1280, 1280))\n",
    "cv2.imshow(\"resize2\", dst2)\n",
    "\n",
    "# 비율로 조정\n",
    "near = cv2.resize(img, None, fx=0.7, fy=0.7)\n",
    "cv2.imshow(\"resize3\", near)\n",
    "\n",
    "cv2.waitKey(0)\n",
    "cv2.destroyAllWindows()"
   ]
  },
  {
   "cell_type": "markdown",
   "metadata": {},
   "source": [
    "#### 5-2-1. 보간법"
   ]
  },
  {
   "cell_type": "code",
   "execution_count": 24,
   "metadata": {},
   "outputs": [],
   "source": [
    "img = cv2.imread(dog_path)\n",
    "img.shape\n",
    "# 고정 크기를 입력해서 조정\n",
    "# dst1 = cv2.resize(img, (320, 320))\n",
    "# cv2.imshow(\"resize1\", dst1)\n",
    "# dst2 = cv2.resize(img, (1280, 1280))\n",
    "# cv2.imshow(\"resize2\", dst2)\n",
    "\n",
    "# 비율로 조정\n",
    "near = cv2.resize(img, None, fx=3, fy=3, interpolation=cv2.INTER_NEAREST)\n",
    "cubic = cv2.resize(img, None, fx=3, fy=3, interpolation=cv2.INTER_CUBIC)\n",
    "cv2.imshow(\"resize3\", near)\n",
    "cv2.imshow(\"cubic\", cubic)\n",
    "\n",
    "cv2.waitKey(0)\n",
    "cv2.destroyAllWindows()"
   ]
  },
  {
   "cell_type": "markdown",
   "metadata": {},
   "source": [
    "#### 5-2-2. 피라미드"
   ]
  },
  {
   "cell_type": "code",
   "execution_count": 25,
   "metadata": {},
   "outputs": [],
   "source": [
    "img = cv2.imread(dog_path)\n",
    "\n",
    "size_up = cv2.pyrUp(img)\n",
    "size_down = cv2.pyrDown(img)\n",
    "\n",
    "cv2.imshow(\"original\", img)\n",
    "cv2.imshow(\"size up\", size_up)\n",
    "cv2.imshow(\"size down\", size_down)\n",
    "\n",
    "cv2.waitKey(0)\n",
    "cv2.destroyAllWindows()"
   ]
  },
  {
   "cell_type": "markdown",
   "metadata": {},
   "source": [
    "### 5-3. 이미지 자르기\n",
    "- 'flipcode > 0' : 좌우 반전 (y축 반전)\n",
    "- 'flipcode = 0' : 상하 반전 (x축 반전)\n",
    "- 'flipcode < 0' : 상하좌우 반전 (x,y축 반전)"
   ]
  },
  {
   "cell_type": "code",
   "execution_count": 39,
   "metadata": {},
   "outputs": [],
   "source": [
    "img = cv2.imread(dog_path)\n",
    "# print(img.shape)\n",
    "cropped = img[200:300, 400:500]\n",
    "img[100:200, 250:350] = cropped\n",
    "cv2.imshow(\"cropped\", cropped)\n",
    "cv2.imshow(\"original\", img)\n",
    "\n",
    "cv2.waitKey(0)\n",
    "cv2.destroyAllWindows()"
   ]
  },
  {
   "cell_type": "markdown",
   "metadata": {},
   "source": [
    "### 5-4. 이미지 대칭"
   ]
  },
  {
   "cell_type": "code",
   "execution_count": 40,
   "metadata": {},
   "outputs": [],
   "source": [
    "img = cv2.imread(dog_path)\n",
    "\n",
    "flipY = cv2.flip(img, 1)\n",
    "flipX = cv2.flip(img, 0)\n",
    "flipXY = cv2.flip(img, -1)\n",
    "\n",
    "cv2.imshow(\"original\", img)\n",
    "cv2.imshow(\"flipY\", flipY)\n",
    "cv2.imshow(\"flipX\", flipX)\n",
    "cv2.imshow(\"flipXY\", flipXY)\n",
    "\n",
    "cv2.waitKey(0)\n",
    "cv2.destroyAllWindows()"
   ]
  },
  {
   "cell_type": "code",
   "execution_count": 45,
   "metadata": {},
   "outputs": [],
   "source": [
    "img = cv2.imread(\"./images/newjeans.jpg\")\n",
    "\n",
    "blue, green, red = cv2.split(img)\n",
    "\n",
    "# print(f\"blue : {blue}\\ngreen : {green}\\nred : {red}\")\n",
    "\n",
    "cv2.imshow(\"blue\", blue)\n",
    "cv2.imshow(\"green\", green)\n",
    "cv2.imshow(\"red\", red)\n",
    "\n",
    "cv2.waitKey(0)\n",
    "cv2.destroyAllWindows()"
   ]
  },
  {
   "cell_type": "code",
   "execution_count": 44,
   "metadata": {},
   "outputs": [],
   "source": [
    "img = cv2.imread(\"./images/newjeans.jpg\")\n",
    "\n",
    "blue, green, red = cv2.split(img)\n",
    "\n",
    "# print(f\"blue : {blue}\\ngreen : {green}\\nred : {red}\")\n",
    "\n",
    "merged_img = cv2.merge([blue, green, red])\n",
    "\n",
    "cv2.imshow(\"merged_img\", merged_img)\n",
    "\n",
    "cv2.waitKey(0)\n",
    "cv2.destroyAllWindows()"
   ]
  },
  {
   "cell_type": "markdown",
   "metadata": {},
   "source": [
    "### 5-4. 이미지 색상 변경"
   ]
  },
  {
   "cell_type": "code",
   "execution_count": 46,
   "metadata": {},
   "outputs": [],
   "source": [
    "img = cv2.imread(dog_path)\n",
    "gray = cv2.cvtColor(img, cv2.COLOR_BGR2GRAY)\n",
    "rgb = cv2.cvtColor(img, cv2.COLOR_BGR2RGB)\n",
    "cv2.imshow(\"img\", img)\n",
    "cv2.imshow(\"gray\", gray)\n",
    "cv2.imshow(\"rgb\", rgb)\n",
    "\n",
    "cv2.waitKey(0)\n",
    "cv2.destroyAllWindows()"
   ]
  },
  {
   "cell_type": "markdown",
   "metadata": {},
   "source": [
    "### 5-5. 이미지 흐리기 (GaussianBlur)"
   ]
  },
  {
   "cell_type": "markdown",
   "metadata": {},
   "source": [
    "#### 5-5-1. 커널 사용하는 방식"
   ]
  },
  {
   "cell_type": "code",
   "execution_count": null,
   "metadata": {},
   "outputs": [],
   "source": [
    "img = cv2.imread(dog_path)\n",
    "\n",
    "# 커널을 사용하는 방식\n",
    "# (3,3), (5,5), (7,7)을 주로 사용\n",
    "# => 참조하는 픽셀의 수가 커지면 블러 효과가 더 커짐\n",
    "\n",
    "sigma_1 = cv2.GaussianBlur(img, (3, 3), 0)\n",
    "sigma_2 = cv2.GaussianBlur(img, (5, 5), 0)\n",
    "sigma_3 = cv2.GaussianBlur(img, (7, 7), 0)\n",
    "\n",
    "cv2.imshow(\"kernel_3\", sigma_1)\n",
    "cv2.imshow(\"kernel_5\", sigma_2)\n",
    "cv2.imshow(\"kernel_7\", sigma_3)\n",
    "\n",
    "cv2.waitKey(0)\n",
    "cv2.destroyAllWindows()"
   ]
  },
  {
   "cell_type": "markdown",
   "metadata": {},
   "source": [
    "#### 5-5-2. 표준편차 사용하는 방식"
   ]
  },
  {
   "cell_type": "code",
   "execution_count": 49,
   "metadata": {},
   "outputs": [],
   "source": [
    "img = cv2.imread(dog_path)\n",
    "\n",
    "# 커널을 사용하는 방식\n",
    "# (3,3), (5,5), (7,7)을 주로 사용\n",
    "# => 참조하는 픽셀의 수가 커지면 블러 효과가 더 커짐\n",
    "\n",
    "sigma_1 = cv2.GaussianBlur(img, (3, 3), 1)\n",
    "sigma_2 = cv2.GaussianBlur(img, (5, 5), 2)\n",
    "sigma_3 = cv2.GaussianBlur(img, (7, 7), 3)\n",
    "\n",
    "cv2.imshow(\"kernel_3\", sigma_1)\n",
    "cv2.imshow(\"kernel_5\", sigma_2)\n",
    "cv2.imshow(\"kernel_7\", sigma_3)\n",
    "\n",
    "cv2.waitKey(0)\n",
    "cv2.destroyAllWindows()"
   ]
  },
  {
   "cell_type": "markdown",
   "metadata": {},
   "source": [
    "### 5-6. 이미지 회전"
   ]
  },
  {
   "cell_type": "markdown",
   "metadata": {},
   "source": [
    "#### 5-6-1. rotateCode\n",
    "- 'cv2.ROTATE_90_CLOCKWISE' : 시계방향 90도 회전\n",
    "\n",
    "- 'cv2.ROTATE_180' : 180도 회전\n",
    "  \n",
    "- 'cv2.ROTATE_90_COUNTERCLOCKWISE' : 반시계방향 90도 회전"
   ]
  },
  {
   "cell_type": "code",
   "execution_count": 53,
   "metadata": {},
   "outputs": [],
   "source": [
    "img = cv2.imread(dog_path)\n",
    "\n",
    "dst_90 = cv2.rotate(img, cv2.ROTATE_90_CLOCKWISE)\n",
    "dst_180 = cv2.rotate(img, cv2.ROTATE_180)\n",
    "dst_counter_90 = cv2.rotate(img, cv2.ROTATE_90_COUNTERCLOCKWISE)\n",
    "\n",
    "cv2.imshow(\"dst_90\", dst_90)\n",
    "cv2.imshow(\"dst_180\", dst_180)\n",
    "cv2.imshow(\"dst_counter_90\", dst_counter_90)\n",
    "\n",
    "cv2.waitKey(0)\n",
    "cv2.destroyAllWindows()"
   ]
  },
  {
   "cell_type": "markdown",
   "metadata": {},
   "source": [
    "#### 5-6-2-1. affine 변환"
   ]
  },
  {
   "cell_type": "code",
   "execution_count": 57,
   "metadata": {},
   "outputs": [],
   "source": [
    "img = cv2.imread(dog_path)\n",
    "center = (img.shape[1]/2, img.shape[0]/2)\n",
    "affine1 = cv2.getRotationMatrix2D(center, -45, 1)  # 앵글은 반시계 방향으로 적용\n",
    "affine2 = cv2.getRotationMatrix2D(center, 45, 1)\n",
    "# 이미지 사이즈가 가로 세로로 들어감\n",
    "dst1 = cv2.warpAffine(img, affine1, (img.shape[1], img.shape[0]))\n",
    "dst2 = cv2.warpAffine(img, affine2, (img.shape[1], img.shape[0]))\n",
    "cv2.imshow(\"Rotate1\", dst1)\n",
    "cv2.imshow(\"Rotate2\", dst2)\n",
    "cv2.imshow(\"original\", img)\n",
    "cv2.waitKey(0)\n",
    "cv2.destroyAllWindows()"
   ]
  },
  {
   "cell_type": "markdown",
   "metadata": {},
   "source": [
    "#### 5-6-2-1. affine 변환 (공식)"
   ]
  },
  {
   "cell_type": "code",
   "execution_count": 8,
   "metadata": {},
   "outputs": [],
   "source": [
    "import math\n",
    "\n",
    "img = cv2.imread(dog_path)\n",
    "rad = 20*math.pi/180\n",
    "affine = np.array([[math.cos(rad), -math.sin(rad), 0],\n",
    "                  [math.sin(rad), math.cos(rad), 0]], dtype=np.float32)\n",
    "\n",
    "dst = cv2.warpAffine(img, affine, (img.shape[1], img.shape[0]))\n",
    "cv2.imshow(\"ratate\", dst)\n",
    "cv2.waitKey(0)\n",
    "cv2.destroyAllWindows()"
   ]
  }
 ],
 "metadata": {
  "kernelspec": {
   "display_name": "my_cv",
   "language": "python",
   "name": "python3"
  },
  "language_info": {
   "codemirror_mode": {
    "name": "ipython",
    "version": 3
   },
   "file_extension": ".py",
   "mimetype": "text/x-python",
   "name": "python",
   "nbconvert_exporter": "python",
   "pygments_lexer": "ipython3",
   "version": "3.13.0"
  }
 },
 "nbformat": 4,
 "nbformat_minor": 2
}
