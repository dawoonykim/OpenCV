{
 "cells": [
  {
   "cell_type": "markdown",
   "metadata": {},
   "source": [
    "# 실습 1"
   ]
  },
  {
   "cell_type": "code",
   "execution_count": 2,
   "metadata": {},
   "outputs": [],
   "source": [
    "import cv2\n",
    "import numpy as np"
   ]
  },
  {
   "cell_type": "markdown",
   "metadata": {},
   "source": [
    "\n",
    "### 1. 640*480 사이즈의 빈 화면"
   ]
  },
  {
   "cell_type": "code",
   "execution_count": 25,
   "metadata": {},
   "outputs": [],
   "source": [
    "img = np.zeros((460, 640, 3), dtype=np.uint8)"
   ]
  },
  {
   "cell_type": "markdown",
   "metadata": {},
   "source": [
    "### 2. 선, 원, 타원, 사각형, 다각형(선 / 채우기 각각) 화면에 그리기\n"
   ]
  },
  {
   "cell_type": "code",
   "execution_count": 29,
   "metadata": {},
   "outputs": [],
   "source": [
    "color = (255, 255, 255)\n",
    "cv2.line(img, (10, 10), (200, 10), color, 5, cv2.LINE_AA)\n",
    "cv2.circle(img, (100, 100), 50, color, cv2.FILLED, cv2.LINE_AA)\n",
    "cv2.ellipse(img, (200, 200), (100, 50), 0, 0,\n",
    "            360, color, cv2.FILLED, cv2.LINE_AA)\n",
    "cv2.rectangle(img, (300, 300), (400, 400), color, 5, cv2.LINE_AA)\n",
    "pts1 = np.array([[[200, 200], [200, 100], [100, 200]]])\n",
    "cv2.polylines(img, pts1, True, color, 10, cv2.LINE_AA)\n",
    "pts2 = np.array([[[300, 200], [400, 200], [400, 300], [300, 300]]])\n",
    "cv2.fillPoly(img, pts2, color)\n",
    "\n",
    "cv2.imshow(\"test\", img)\n",
    "cv2.waitKey(0)\n",
    "cv2.destroyAllWindows()"
   ]
  },
  {
   "cell_type": "markdown",
   "metadata": {},
   "source": [
    "### 3. 도형의 색상을 각각 다르게 설정"
   ]
  },
  {
   "cell_type": "code",
   "execution_count": 30,
   "metadata": {},
   "outputs": [],
   "source": [
    "cv2.line(img, (10, 10), (200, 10), (255, 0, 0), 5, cv2.LINE_AA)\n",
    "cv2.circle(img, (100, 100), 50, (0, 255, 0), cv2.FILLED, cv2.LINE_AA)\n",
    "cv2.ellipse(img, (200, 200), (100, 50), 0, 0, 360,\n",
    "            (0, 0, 255), cv2.FILLED, cv2.LINE_AA)\n",
    "cv2.rectangle(img, (300, 300), (400, 400), (85, 214, 368), 5, cv2.LINE_AA)\n",
    "pts1 = np.array([[[200, 200], [200, 100], [100, 200]]])\n",
    "cv2.polylines(img, pts1, True, (255, 255, 0), 10, cv2.LINE_AA)\n",
    "pts2 = np.array([[[300, 200], [400, 200], [400, 300], [300, 300]]])\n",
    "cv2.fillPoly(img, pts2, (127, 127, 127))\n",
    "\n",
    "cv2.imshow(\"test\", img)\n",
    "cv2.waitKey(0)\n",
    "cv2.destroyAllWindows()"
   ]
  },
  {
   "cell_type": "markdown",
   "metadata": {},
   "source": []
  }
 ],
 "metadata": {
  "kernelspec": {
   "display_name": "my_cv",
   "language": "python",
   "name": "python3"
  },
  "language_info": {
   "codemirror_mode": {
    "name": "ipython",
    "version": 3
   },
   "file_extension": ".py",
   "mimetype": "text/x-python",
   "name": "python",
   "nbconvert_exporter": "python",
   "pygments_lexer": "ipython3",
   "version": "3.13.0"
  }
 },
 "nbformat": 4,
 "nbformat_minor": 2
}
