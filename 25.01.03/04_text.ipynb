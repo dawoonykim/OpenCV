{
 "cells": [
  {
   "cell_type": "markdown",
   "metadata": {},
   "source": [
    "# 04. 텍스트"
   ]
  },
  {
   "cell_type": "markdown",
   "metadata": {},
   "source": [
    "### 4-1. 텍스트 기본(영어) 입력\n",
    "- 한글 입력 지원 안됨"
   ]
  },
  {
   "cell_type": "code",
   "execution_count": 2,
   "metadata": {},
   "outputs": [],
   "source": [
    "import cv2\n",
    "import numpy as np"
   ]
  },
  {
   "cell_type": "code",
   "execution_count": 31,
   "metadata": {},
   "outputs": [],
   "source": [
    "img = np.zeros((640, 480, 3), dtype=np.uint8)\n",
    "SCALE = 1\n",
    "font_color = (255, 255, 255)\n",
    "thickness = 2\n",
    "cv2.putText(img, \"hello world\", (100, 100),\n",
    "            cv2.FONT_HERSHEY_COMPLEX, SCALE, font_color, thickness)  # 텍스트 입력 함수\n",
    "cv2.putText(img, \"hello world\", (100, 200),\n",
    "            cv2.FONT_HERSHEY_DUPLEX, SCALE, font_color, thickness)  # 텍스트 입력 함수\n",
    "cv2.putText(img, \"hello world\", (100, 300),\n",
    "            cv2.FONT_HERSHEY_PLAIN, SCALE, font_color, thickness)  # 텍스트 입력 함수\n",
    "cv2.putText(img, \"hello world\", (100, 400), cv2.FONT_HERSHEY_PLAIN | cv2.FONT_ITALIC,\n",
    "            SCALE, font_color, thickness, cv2.LINE_AA, False, )\n",
    "cv2.imshow(\"text\", img)\n",
    "cv2.waitKey(0)\n",
    "cv2.destroyAllWindows()"
   ]
  },
  {
   "cell_type": "markdown",
   "metadata": {},
   "source": [
    "### 4-2. 한국 텍스트 입력"
   ]
  },
  {
   "cell_type": "code",
   "execution_count": null,
   "metadata": {},
   "outputs": [],
   "source": [
    "%pip install pillow"
   ]
  },
  {
   "cell_type": "code",
   "execution_count": 23,
   "metadata": {},
   "outputs": [],
   "source": [
    "from PIL import Image, ImageDraw, ImageFont"
   ]
  },
  {
   "cell_type": "code",
   "execution_count": 39,
   "metadata": {},
   "outputs": [],
   "source": [
    "img = np.zeros((640, 480, 3), dtype=np.uint8)"
   ]
  },
  {
   "cell_type": "code",
   "execution_count": 40,
   "metadata": {},
   "outputs": [],
   "source": [
    "def putKorText(img, text, pos, font_size, font_color):\n",
    "    img_pil = Image.fromarray(img)\n",
    "    draw = ImageDraw.Draw(img_pil)\n",
    "    font = ImageFont.truetype(\"fonts/gulim.ttc\", font_size)\n",
    "    draw.text(pos, text, font=font, fill=font_color)\n",
    "\n",
    "    return np.array(img_pil)"
   ]
  },
  {
   "cell_type": "code",
   "execution_count": 41,
   "metadata": {},
   "outputs": [],
   "source": [
    "text = putKorText(img, \"스팩 7기 화이팅\", (100, 100), 30, (255, 255, 255))\n",
    "cv2.imshow(\"text\", text)\n",
    "cv2.waitKey(0)\n",
    "cv2.destroyAllWindows()"
   ]
  }
 ],
 "metadata": {
  "kernelspec": {
   "display_name": "my_cv",
   "language": "python",
   "name": "python3"
  },
  "language_info": {
   "codemirror_mode": {
    "name": "ipython",
    "version": 3
   },
   "file_extension": ".py",
   "mimetype": "text/x-python",
   "name": "python",
   "nbconvert_exporter": "python",
   "pygments_lexer": "ipython3",
   "version": "3.13.0"
  }
 },
 "nbformat": 4,
 "nbformat_minor": 2
}
