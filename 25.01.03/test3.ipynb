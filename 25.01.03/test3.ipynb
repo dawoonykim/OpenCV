{
 "cells": [
  {
   "cell_type": "markdown",
   "metadata": {},
   "source": [
    "# 실습3"
   ]
  },
  {
   "cell_type": "code",
   "execution_count": 49,
   "metadata": {},
   "outputs": [],
   "source": [
    "import cv2"
   ]
  },
  {
   "cell_type": "markdown",
   "metadata": {},
   "source": [
    "### 1. 원본 이미지를 가로 세로 1/2로 축소"
   ]
  },
  {
   "cell_type": "code",
   "execution_count": 50,
   "metadata": {},
   "outputs": [],
   "source": [
    "img = cv2.imread(\"./images/newjeans.jpg\")\n",
    "img1 = cv2.imread(\"./images/newjeans.jpg\")\n",
    "img2 = cv2.imread(\"./images/newjeans.jpg\")\n",
    "img3 = cv2.imread(\"./images/newjeans.jpg\")\n",
    "\n",
    "flip = cv2.resize(img, None, fx=0.5, fy=0.5)"
   ]
  },
  {
   "cell_type": "markdown",
   "metadata": {},
   "source": [
    "### 2. 1번의 이미지를 좌우 반전"
   ]
  },
  {
   "cell_type": "code",
   "execution_count": 56,
   "metadata": {},
   "outputs": [],
   "source": [
    "flip_resize = cv2.flip(flip, 1)"
   ]
  },
  {
   "cell_type": "markdown",
   "metadata": {},
   "source": [
    "### 3. 2번 이미지를 원본과 동일한 크기의 복사 이미지의 우하단에 배치"
   ]
  },
  {
   "cell_type": "code",
   "execution_count": 52,
   "metadata": {},
   "outputs": [
    {
     "name": "stdout",
     "output_type": "stream",
     "text": [
      "(832, 555, 3)\n",
      "(416, 278, 3)\n",
      "277 416\n"
     ]
    }
   ],
   "source": [
    "print(img.shape)\n",
    "print(flip_resize.shape)\n",
    "\n",
    "# 이미지의 height와 width를 추출\n",
    "h1, w1, _ = img.shape\n",
    "h2, w2, _ = flip_resize.shape\n",
    "\n",
    "# offset 위치를 설정\n",
    "x_offset = w1 - w2\n",
    "y_offset = h1 - h2\n",
    "print(x_offset, y_offset)\n",
    "img[y_offset:h1, x_offset:w1] = flip_resize\n",
    "\n",
    "cv2.imshow(\"minji\", img)\n",
    "cv2.waitKey(0)\n",
    "cv2.destroyAllWindows()"
   ]
  },
  {
   "cell_type": "code",
   "execution_count": 53,
   "metadata": {},
   "outputs": [
    {
     "name": "stdout",
     "output_type": "stream",
     "text": [
      "(832, 555, 3)\n",
      "(416, 278, 3)\n"
     ]
    }
   ],
   "source": [
    "print(img.shape)\n",
    "print(flip_resize.shape)\n",
    "\n",
    "# 이미지의 height와 width를 추출\n",
    "h1, w1, _ = img.shape\n",
    "h2, w2, _ = flip_resize.shape\n",
    "\n",
    "# offset 위치를 설정\n",
    "x_offset = w1 - w2\n",
    "y_offset = h1 - h2\n",
    "# 왼쪽 상단\n",
    "img1[0:h2,0:w2] = flip_resize\n",
    "\n",
    "cv2.imshow(\"minji\", img1)\n",
    "cv2.waitKey(0)\n",
    "cv2.destroyAllWindows()"
   ]
  },
  {
   "cell_type": "code",
   "execution_count": 54,
   "metadata": {},
   "outputs": [
    {
     "name": "stdout",
     "output_type": "stream",
     "text": [
      "(832, 555, 3)\n",
      "(416, 278, 3)\n"
     ]
    }
   ],
   "source": [
    "print(img.shape)\n",
    "print(flip_resize.shape)\n",
    "\n",
    "# 이미지의 height와 width를 추출\n",
    "h1, w1, _ = img.shape\n",
    "h2, w2, _ = flip_resize.shape\n",
    "\n",
    "# offset 위치를 설정\n",
    "x_offset = w1 - w2\n",
    "y_offset = h1 - h2\n",
    "# 왼쪽 상단\n",
    "img2[0:h2,x_offset:w1] = flip_resize\n",
    "\n",
    "cv2.imshow(\"minji\", img2)\n",
    "cv2.waitKey(0)\n",
    "cv2.destroyAllWindows()"
   ]
  },
  {
   "cell_type": "code",
   "execution_count": 55,
   "metadata": {},
   "outputs": [
    {
     "name": "stdout",
     "output_type": "stream",
     "text": [
      "(832, 555, 3)\n",
      "(416, 278, 3)\n"
     ]
    }
   ],
   "source": [
    "print(img.shape)\n",
    "print(flip_resize.shape)\n",
    "\n",
    "# 이미지의 height와 width를 추출\n",
    "h1, w1, _ = img.shape\n",
    "h2, w2, _ = flip_resize.shape\n",
    "\n",
    "# offset 위치를 설정\n",
    "x_offset = w1 - w2\n",
    "y_offset = h1 - h2\n",
    "# 왼쪽 상단\n",
    "img3[y_offset:h1,0:w2] = flip_resize\n",
    "\n",
    "cv2.imshow(\"minji\", img3)\n",
    "cv2.waitKey(0)\n",
    "cv2.destroyAllWindows()"
   ]
  }
 ],
 "metadata": {
  "kernelspec": {
   "display_name": "my_cv",
   "language": "python",
   "name": "python3"
  },
  "language_info": {
   "codemirror_mode": {
    "name": "ipython",
    "version": 3
   },
   "file_extension": ".py",
   "mimetype": "text/x-python",
   "name": "python",
   "nbconvert_exporter": "python",
   "pygments_lexer": "ipython3",
   "version": "3.13.0"
  }
 },
 "nbformat": 4,
 "nbformat_minor": 2
}
