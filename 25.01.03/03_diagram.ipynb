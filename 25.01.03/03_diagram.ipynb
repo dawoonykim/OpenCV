{
 "cells": [
  {
   "cell_type": "markdown",
   "metadata": {},
   "source": [
    "# 03. 도형 그리기"
   ]
  },
  {
   "cell_type": "code",
   "execution_count": 61,
   "metadata": {},
   "outputs": [],
   "source": [
    "import cv2\n",
    "import numpy as np"
   ]
  },
  {
   "cell_type": "markdown",
   "metadata": {},
   "source": [
    "### 3-1. 빈화면 만들기"
   ]
  },
  {
   "cell_type": "code",
   "execution_count": 62,
   "metadata": {},
   "outputs": [],
   "source": [
    "img = np.zeros((460, 640, 3), dtype=np.uint8)\n",
    "# int vs uint8\n",
    "# int : 음수 값 포함, uint : 양수 값만\n",
    "# int8 : -128~127\n",
    "# uint8 : 0~255\n",
    "# BGR순임을 항상 기억하자\n",
    "# img[:] = (255, 255, 255)\n",
    "cv2.imshow(\"blank\", img)\n",
    "cv2.waitKey(0)\n",
    "cv2.destroyAllWindows()"
   ]
  },
  {
   "cell_type": "markdown",
   "metadata": {},
   "source": [
    "### 3-2. 일부 영역 색칠"
   ]
  },
  {
   "cell_type": "code",
   "execution_count": 63,
   "metadata": {},
   "outputs": [],
   "source": [
    "img = np.zeros((460, 640, 3), dtype=np.uint8)\n",
    "img[150:300, 300:450] = (255, 255, 255)\n",
    "\n",
    "cv2.imshow(\"blank\", img)\n",
    "cv2.waitKey(0)\n",
    "cv2.destroyAllWindows()"
   ]
  },
  {
   "cell_type": "markdown",
   "metadata": {},
   "source": [
    "### 3-3. 선 그리기"
   ]
  },
  {
   "cell_type": "code",
   "execution_count": 64,
   "metadata": {},
   "outputs": [],
   "source": [
    "img = np.zeros((460, 640, 3), dtype=np.uint8)\n",
    "\n",
    "cv2.line(img, (50, 100), (400, 50), (127, 127, 127), 5, cv2.LINE_4)  # gray\n",
    "cv2.line(img, (200, 300), (400, 50), (255, 255, 0), 5, cv2.LINE_8)  # cyon\n",
    "cv2.line(img, (50, 100), (150, 300), (0, 255, 255), 5, cv2.LINE_AA)  # yellow\n",
    "cv2.imshow(\"Line\", img)\n",
    "cv2.waitKey(0)\n",
    "cv2.destroyAllWindows()"
   ]
  },
  {
   "cell_type": "code",
   "execution_count": 65,
   "metadata": {},
   "outputs": [],
   "source": [
    "color_g = (127, 127, 127)\n",
    "color_c=(255, 255, 0)\n",
    "color_y=(0, 255, 255)\n",
    "thickness = 5"
   ]
  },
  {
   "cell_type": "code",
   "execution_count": 66,
   "metadata": {},
   "outputs": [],
   "source": [
    "img = np.zeros((460, 640, 3), dtype=np.uint8)\n",
    "\n",
    "cv2.line(img, (50, 100), (400, 50), color_g, thickness, cv2.LINE_4)  # gray\n",
    "cv2.line(img, (200, 300), (400, 50), color_c, thickness, cv2.LINE_8)  # cyon\n",
    "cv2.line(img, (50, 100), (150, 300), color_y, thickness, cv2.LINE_AA)  # yellow\n",
    "cv2.imshow(\"Line\", img)\n",
    "cv2.waitKey(0)\n",
    "cv2.destroyAllWindows()"
   ]
  },
  {
   "cell_type": "markdown",
   "metadata": {},
   "source": [
    "### 3-4. 원 그리기"
   ]
  },
  {
   "cell_type": "code",
   "execution_count": 67,
   "metadata": {},
   "outputs": [],
   "source": [
    "img = np.zeros((460, 640, 3), dtype=np.uint8)\n",
    "\n",
    "cv2.circle(img, (200, 300), 50, (0, 255, 0), 10, cv2.LINE_AA)\n",
    "cv2.imshow(\"circle\", img)\n",
    "cv2.waitKey(0)\n",
    "cv2.destroyAllWindows()"
   ]
  },
  {
   "cell_type": "code",
   "execution_count": 68,
   "metadata": {},
   "outputs": [],
   "source": [
    "color = (0, 255, 0)\n",
    "radius = 50\n",
    "thickness = 10\n",
    "img = np.zeros((460, 640, 3), dtype=np.uint8)\n",
    "\n",
    "# 속이 빈 원\n",
    "cv2.circle(img, (200, 300), radius, color, thickness, cv2.LINE_AA)\n",
    "\n",
    "# 속이 찬 원\n",
    "cv2.circle(img, (400, 300), radius, color, cv2.FILLED, cv2.LINE_AA)\n",
    "\n",
    "cv2.imshow(\"circle\", img)\n",
    "cv2.waitKey(0)\n",
    "cv2.destroyAllWindows()"
   ]
  },
  {
   "cell_type": "markdown",
   "metadata": {},
   "source": [
    "### 3-5. 타원 그리기"
   ]
  },
  {
   "cell_type": "code",
   "execution_count": 69,
   "metadata": {},
   "outputs": [],
   "source": [
    "img = np.zeros((460, 640, 3), dtype=np.uint8)\n",
    "\n",
    "cv2.ellipse(img, (300, 200), (100, 50), 0, 0, 360, (0, 0, 255), 5, cv2.LINE_AA)\n",
    "cv2.imshow(\"ellipse\", img)\n",
    "cv2.waitKey(0)\n",
    "cv2.destroyAllWindows()"
   ]
  },
  {
   "cell_type": "markdown",
   "metadata": {},
   "source": [
    "#### 3-5-1. 각도 돌리기"
   ]
  },
  {
   "cell_type": "code",
   "execution_count": 70,
   "metadata": {},
   "outputs": [],
   "source": [
    "img = np.zeros((460, 640, 3), dtype=np.uint8)\n",
    "\n",
    "cv2.ellipse(img, (300, 200), (100, 50), 45, 0, 360, (0, 0, 255), 5, cv2.LINE_AA)\n",
    "cv2.imshow(\"ellipse\", img)\n",
    "cv2.waitKey(0)\n",
    "cv2.destroyAllWindows()"
   ]
  },
  {
   "cell_type": "code",
   "execution_count": 71,
   "metadata": {},
   "outputs": [],
   "source": [
    "img = np.zeros((460, 640, 3), dtype=np.uint8)\n",
    "\n",
    "cv2.ellipse(img, (300, 200), (100, 50), 0, 0, 180, (0, 0, 255), 5, cv2.LINE_AA)\n",
    "cv2.imshow(\"ellipse\", img)\n",
    "cv2.waitKey(0)\n",
    "cv2.destroyAllWindows()"
   ]
  },
  {
   "cell_type": "code",
   "execution_count": 72,
   "metadata": {},
   "outputs": [],
   "source": [
    "img = np.zeros((460, 640, 3), dtype=np.uint8)\n",
    "\n",
    "cv2.ellipse(img, (300, 200), (100, 50), 30, 0, 270, (0, 0, 255), 5, cv2.LINE_AA)\n",
    "cv2.imshow(\"ellipse\", img)\n",
    "cv2.waitKey(0)\n",
    "cv2.destroyAllWindows()"
   ]
  },
  {
   "cell_type": "markdown",
   "metadata": {},
   "source": [
    "### 3-6. 사각형 그리기"
   ]
  },
  {
   "cell_type": "code",
   "execution_count": 73,
   "metadata": {},
   "outputs": [],
   "source": [
    "img = np.zeros((460, 640, 3), dtype=np.uint8)\n",
    "\n",
    "cv2.rectangle(img, (50, 50), (250, 250), (255, 255, 0), 10, cv2.LINE_AA)\n",
    "cv2.rectangle(img, (260, 50), (460, 250), (0, 255, 255), cv2.FILLED, cv2.LINE_AA)\n",
    "cv2.imshow(\"rectangle\", img)\n",
    "cv2.waitKey(0)\n",
    "cv2.destroyAllWindows()"
   ]
  },
  {
   "cell_type": "markdown",
   "metadata": {},
   "source": [
    "### 3-7. 다각형 그리기"
   ]
  },
  {
   "cell_type": "markdown",
   "metadata": {},
   "source": [
    "#### 3-7-1. 다각형(선) 그리기"
   ]
  },
  {
   "cell_type": "code",
   "execution_count": 74,
   "metadata": {},
   "outputs": [],
   "source": [
    "img = np.zeros((460, 640, 3), dtype=np.uint8)\n",
    "\n",
    "pts = np.array([[100, 100], [200, 100], [100, 200]])\n",
    "\n",
    "cv2.polylines(img, [pts], True, (255, 0, 255), 5)\n",
    "cv2.imshow(\"polylines\", img)\n",
    "cv2.waitKey(0)\n",
    "cv2.destroyAllWindows()"
   ]
  },
  {
   "cell_type": "code",
   "execution_count": 75,
   "metadata": {},
   "outputs": [],
   "source": [
    "img = np.zeros((460, 640, 3), dtype=np.uint8)\n",
    "\n",
    "pts = np.array([[[100, 100], [200, 100], [100, 200]]])  # 배열은 3중으로 넣어야 함\n",
    "\n",
    "cv2.polylines(img, pts, False, (255, 0, 255), 5)\n",
    "cv2.imshow(\"polylines\", img)\n",
    "cv2.waitKey(0)\n",
    "cv2.destroyAllWindows()"
   ]
  },
  {
   "cell_type": "markdown",
   "metadata": {},
   "source": [
    "#### 3-7-2. 다각형(채우기) 그리기\n",
    "- 닫을 여부 필요 없음\n",
    "- 두께 필요 없음"
   ]
  },
  {
   "cell_type": "code",
   "execution_count": 76,
   "metadata": {},
   "outputs": [],
   "source": [
    "img = np.zeros((460, 640, 3), dtype=np.uint8)\n",
    "\n",
    "pts = np.array([[[100, 100], [200, 100], [100, 200]]])  # 배열은 3중으로 넣어야 함\n",
    "\n",
    "cv2.fillPoly(img, pts, (255, 0, 255))\n",
    "cv2.imshow(\"polylines\", img)\n",
    "cv2.waitKey(0)\n",
    "cv2.destroyAllWindows()"
   ]
  }
 ],
 "metadata": {
  "kernelspec": {
   "display_name": "my_cv",
   "language": "python",
   "name": "python3"
  },
  "language_info": {
   "codemirror_mode": {
    "name": "ipython",
    "version": 3
   },
   "file_extension": ".py",
   "mimetype": "text/x-python",
   "name": "python",
   "nbconvert_exporter": "python",
   "pygments_lexer": "ipython3",
   "version": "3.13.0"
  }
 },
 "nbformat": 4,
 "nbformat_minor": 2
}
