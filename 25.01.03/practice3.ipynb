{
 "cells": [
  {
   "cell_type": "code",
   "execution_count": 1,
   "metadata": {},
   "outputs": [],
   "source": [
    "import cv2\n",
    "import numpy as np"
   ]
  },
  {
   "cell_type": "code",
   "execution_count": 55,
   "metadata": {},
   "outputs": [],
   "source": [
    "dog_path = \"./images/poodle_mini1.png\""
   ]
  },
  {
   "cell_type": "code",
   "execution_count": 45,
   "metadata": {},
   "outputs": [],
   "source": [
    "img = cv2.imread(dog_path)\n",
    "\n",
    "shallow_copy = img\n",
    "deep_copy = img.copy()\n",
    "\n",
    "gray = cv2.cvtColor(shallow_copy, cv2.COLOR_BGR2GRAY)\n",
    "cv2.imshow(\"shallow img\", gray)\n",
    "cv2.imshow(\"original img\", img)\n",
    "\n",
    "cv2.waitKey(0)\n",
    "cv2.destroyAllWindows()"
   ]
  },
  {
   "cell_type": "code",
   "execution_count": 46,
   "metadata": {},
   "outputs": [],
   "source": [
    "img = cv2.imread(dog_path)\n",
    "img.shape\n",
    "\n",
    "# 고정 크기를 입력해서 조정\n",
    "dst1 = cv2.resize(img, (320, 320))\n",
    "dst2 = cv2.resize(img, (1280, 1280))\n",
    "cv2.imshow(\"dst1\", dst1)\n",
    "cv2.imshow(\"dst2\", dst2)\n",
    "\n",
    "# 비율로 조정\n",
    "near = cv2.resize(img, None, fx=0.5, fy=0.5)\n",
    "cv2.imshow(\"near img\", near)\n",
    "\n",
    "cv2.imshow(\"original img\", img)\n",
    "cv2.waitKey(0)\n",
    "cv2.destroyAllWindows()"
   ]
  },
  {
   "cell_type": "code",
   "execution_count": 47,
   "metadata": {},
   "outputs": [],
   "source": [
    "img = cv2.imread(dog_path)\n",
    "img.shape\n",
    "\n",
    "near = cv2.resize(img, None, fx=3, fy=3, interpolation=cv2.INTER_NEAREST)\n",
    "cubic = cv2.resize(img, None, fx=3, fy=3, interpolation=cv2.INTER_CUBIC)\n",
    "\n",
    "cv2.imshow(\"near img\", near)\n",
    "cv2.imshow(\"cubic img\", cubic)\n",
    "\n",
    "cv2.waitKey(0)\n",
    "cv2.destroyAllWindows()"
   ]
  },
  {
   "cell_type": "code",
   "execution_count": 48,
   "metadata": {},
   "outputs": [],
   "source": [
    "img = cv2.imread(dog_path)\n",
    "\n",
    "size_up = cv2.pyrUp(img)\n",
    "size_down = cv2.pyrDown(img)\n",
    "\n",
    "cv2.imshow(\"size up\", size_up)\n",
    "cv2.imshow(\"size down\", size_down)\n",
    "cv2.imshow(\"original img\", img)\n",
    "\n",
    "cv2.waitKey(0)\n",
    "cv2.destroyAllWindows()"
   ]
  },
  {
   "cell_type": "code",
   "execution_count": 49,
   "metadata": {},
   "outputs": [],
   "source": [
    "\n",
    "img1 = cv2.imread(dog_path)\n",
    "cropped = img1[160:480, 160:480]\n",
    "resize = cv2.resize(cropped, None, fx=0.5, fy=0.5)\n",
    "\n",
    "height1, width1, _ = img.shape\n",
    "# print(height1, width1)\n",
    "height2, width2, _ = resize.shape\n",
    "# print(height2, width2)\n",
    "\n",
    "offsetx = width1-width2\n",
    "# print(offsetx)\n",
    "offsety = height1-height2\n",
    "# print(offsety)\n",
    "img1[offsety: height1, offsetx:width1] = resize\n",
    "cv2.imshow(\"cropped\", img1)\n",
    "\n",
    "cv2.waitKey(0)\n",
    "cv2.destroyAllWindows()"
   ]
  },
  {
   "cell_type": "code",
   "execution_count": 50,
   "metadata": {},
   "outputs": [],
   "source": [
    "flipY = cv2.flip(img, 1)\n",
    "flipX = cv2.flip(img, 0)\n",
    "flipXY = cv2.flip(img, -1)\n",
    "\n",
    "cv2.imshow(\"flipY\", flipY)\n",
    "cv2.imshow(\"flipX\", flipX)\n",
    "cv2.imshow(\"flipXY\", flipXY)\n",
    "\n",
    "cv2.waitKey(0)\n",
    "cv2.destroyAllWindows()"
   ]
  },
  {
   "cell_type": "code",
   "execution_count": 51,
   "metadata": {},
   "outputs": [],
   "source": [
    "blue, green, red = cv2.split(img)\n",
    "\n",
    "cv2.imshow(\"blue\", blue)\n",
    "cv2.imshow(\"green\", green)\n",
    "cv2.imshow(\"red\", red)\n",
    "\n",
    "cv2.waitKey(0)\n",
    "cv2.destroyAllWindows()"
   ]
  },
  {
   "cell_type": "code",
   "execution_count": 57,
   "metadata": {},
   "outputs": [],
   "source": [
    "blue, green, red = cv2.split(img)\n",
    "\n",
    "merged_img = cv2.merge([blue, green, red])\n",
    "\n",
    "cv2.imshow(\"merged img\", merged_img)\n",
    "\n",
    "cv2.waitKey(0)\n",
    "cv2.destroyAllWindows()"
   ]
  },
  {
   "cell_type": "code",
   "execution_count": 58,
   "metadata": {},
   "outputs": [],
   "source": [
    "gray = cv2.cvtColor(img, cv2.COLOR_BGR2GRAY)\n",
    "rgb = cv2.cvtColor(img, cv2.COLOR_BGR2RGB)\n",
    "\n",
    "cv2.imshow(\"gray\", gray)\n",
    "cv2.imshow(\"rgb\", rgb)\n",
    "\n",
    "cv2.waitKey(0)\n",
    "cv2.destroyAllWindows()"
   ]
  },
  {
   "cell_type": "code",
   "execution_count": 62,
   "metadata": {},
   "outputs": [],
   "source": [
    "sigma1 = cv2.GaussianBlur(img, (3, 3), 0)\n",
    "sigma2 = cv2.GaussianBlur(img, (5, 5), 0)\n",
    "sigma3 = cv2.GaussianBlur(img, (7, 7), 0)\n",
    "\n",
    "cv2.imshow(\"sigma1\", sigma1)\n",
    "cv2.imshow(\"sigma2\", sigma2)\n",
    "cv2.imshow(\"sigma3\", sigma3)\n",
    "\n",
    "cv2.waitKey(0)\n",
    "cv2.destroyAllWindows()"
   ]
  },
  {
   "cell_type": "code",
   "execution_count": 63,
   "metadata": {},
   "outputs": [],
   "source": [
    "sigma1 = cv2.GaussianBlur(img, (3, 3), 1)\n",
    "sigma2 = cv2.GaussianBlur(img, (5, 5), 2)\n",
    "sigma3 = cv2.GaussianBlur(img, (7, 7), 3)\n",
    "\n",
    "cv2.imshow(\"kernel_3\", sigma1)\n",
    "cv2.imshow(\"kernel_5\", sigma2)\n",
    "cv2.imshow(\"kernel_7\", sigma3)\n",
    "\n",
    "cv2.waitKey(0)\n",
    "cv2.destroyAllWindows()"
   ]
  },
  {
   "cell_type": "code",
   "execution_count": 65,
   "metadata": {},
   "outputs": [],
   "source": [
    "dst_clock_90 = cv2.rotate(img, cv2.ROTATE_90_CLOCKWISE)\n",
    "dst_180 = cv2.rotate(img, cv2.ROTATE_180)\n",
    "dst_counterclock_90 = cv2.rotate(img, cv2.ROTATE_90_COUNTERCLOCKWISE)\n",
    "\n",
    "cv2.imshow(\"rotate clockwise_90\", dst_clock_90)\n",
    "cv2.imshow(\"rotate 180\", dst_180)\n",
    "cv2.imshow(\"rotate_counterclock_90\", dst_counterclock_90)\n",
    "\n",
    "cv2.waitKey(0)\n",
    "cv2.destroyAllWindows()"
   ]
  },
  {
   "cell_type": "code",
   "execution_count": 69,
   "metadata": {},
   "outputs": [],
   "source": [
    "height, width, _ = img.shape\n",
    "center = (height/2, width/2)\n",
    "affine1 = cv2.getRotationMatrix2D(center, -45, 1)\n",
    "affine2 = cv2.getRotationMatrix2D(center, 45, 1)\n",
    "\n",
    "# print(f\"{affine1}\\n{affine2}\")\n",
    "\n",
    "dst1 = cv2.warpAffine(img, affine1, (width, height))\n",
    "dst2 = cv2.warpAffine(img, affine2, (width, height))\n",
    "\n",
    "cv2.imshow(\"rotate1\", dst1)\n",
    "cv2.imshow(\"rotate2\", dst2)\n",
    "cv2.imshow(\"original\", img)\n",
    "\n",
    "cv2.waitKey(0)\n",
    "cv2.destroyAllWindows()"
   ]
  },
  {
   "cell_type": "code",
   "execution_count": 74,
   "metadata": {},
   "outputs": [],
   "source": [
    "import math\n",
    "height, width, _ = img.shape\n",
    "\n",
    "rad = 30*math.pi/180\n",
    "\n",
    "affine = np.array([[math.cos(rad), -math.sin(rad), 0],\n",
    "                  [math.sin(rad), math.cos(rad), 0]], dtype=np.float32)\n",
    "\n",
    "dst = cv2.warpAffine(img, affine, (width, height))\n",
    "\n",
    "cv2.imshow(\"rotate\", dst)\n",
    "\n",
    "cv2.waitKey(0)\n",
    "cv2.destroyAllWindows()"
   ]
  },
  {
   "cell_type": "code",
   "execution_count": 3,
   "metadata": {},
   "outputs": [],
   "source": [
    "cap = cv2.VideoCapture(\"./videos/poodle.mp4\")\n",
    "fps = cap.get(cv2.CAP_PROP_FPS)\n",
    "while cap.isOpened():\n",
    "    ret, frame = cap.read()\n",
    "\n",
    "    if not ret:\n",
    "        break\n",
    "\n",
    "    resize = cv2.resize(frame, None, fx=1.5, fy=1.5)\n",
    "\n",
    "    if cv2.waitKey(int(1000/fps)) == ord(\"q\"):\n",
    "        break\n",
    "\n",
    "    cv2.imshow(\"resize\", resize)\n",
    "    cv2.imshow(\"original\", frame)\n",
    "\n",
    "cap.release()\n",
    "cv2.destroyAllWindows()"
   ]
  },
  {
   "cell_type": "code",
   "execution_count": 4,
   "metadata": {},
   "outputs": [],
   "source": [
    "img = cv2.imread(\"./images/newjeans.jpg\")\n",
    "img1 = cv2.imread(\"./images/newjeans.jpg\")\n",
    "\n",
    "resize = cv2.resize(img1, None, fx=0.5, fy=0.5)\n",
    "resize_flipY = cv2.flip(resize, 1)\n",
    "\n",
    "height_i, width_i, _ = img.shape\n",
    "height_r, width_r, _ = resize_flipY.shape\n",
    "\n",
    "offsetx = width_i-width_r\n",
    "offsety = height_i-height_r\n",
    "\n",
    "img[offsety:height_i, offsetx:width_i] = resize_flipY\n",
    "\n",
    "cv2.imshow(\"img\", img)\n",
    "\n",
    "cv2.waitKey(0)\n",
    "cv2.destroyAllWindows()"
   ]
  },
  {
   "cell_type": "code",
   "execution_count": 5,
   "metadata": {},
   "outputs": [],
   "source": [
    "img = cv2.imread(\"./images/poodle_mini1.png\")\n",
    "\n",
    "gray = cv2.cvtColor(img, cv2.COLOR_BGR2GRAY)\n",
    "\n",
    "invert_img = 255-gray\n",
    "\n",
    "cv2.imshow(\"invert_img\", invert_img)\n",
    "cv2.waitKey(0)\n",
    "cv2.destroyAllWindows()"
   ]
  }
 ],
 "metadata": {
  "kernelspec": {
   "display_name": "my_cv",
   "language": "python",
   "name": "python3"
  },
  "language_info": {
   "codemirror_mode": {
    "name": "ipython",
    "version": 3
   },
   "file_extension": ".py",
   "mimetype": "text/x-python",
   "name": "python",
   "nbconvert_exporter": "python",
   "pygments_lexer": "ipython3",
   "version": "3.13.0"
  }
 },
 "nbformat": 4,
 "nbformat_minor": 2
}
