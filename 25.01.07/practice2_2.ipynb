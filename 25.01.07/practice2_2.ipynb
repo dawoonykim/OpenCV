{
 "cells": [
  {
   "cell_type": "code",
   "execution_count": 3,
   "metadata": {},
   "outputs": [],
   "source": [
    "import cv2\n",
    "\n",
    "minji = \"../images/newjeans.jpg\"\n",
    "\n",
    "face_cascade=cv2.CascadeClassifier(\"../cascade/haarcascade_frontalface_default.xml\")\n",
    "eye_cascade=cv2.CascadeClassifier(\"../cascade/haarcascade_eye.xml\")"
   ]
  },
  {
   "cell_type": "code",
   "execution_count": 5,
   "metadata": {},
   "outputs": [],
   "source": [
    "img = cv2.imread(minji)\n",
    "gray = cv2.cvtColor(img, cv2.COLOR_BGR2GRAY)\n",
    "\n",
    "faces = face_cascade.detectMultiScale(\n",
    "    gray, scaleFactor=1.1, minNeighbors=5, minSize=(20, 20))\n",
    "eyes = eye_cascade.detectMultiScale(\n",
    "    gray, scaleFactor=1.1, minNeighbors=5, minSize=(20, 20))\n",
    "\n",
    "\n",
    "for face in faces:\n",
    "    x, y, width, height = face\n",
    "    cv2.rectangle(img, (x, y), (x+width, y+height),\n",
    "                  (55, 127, 99), 2, cv2.LINE_AA)\n",
    "\n",
    "for eye in eyes:\n",
    "    x, y, width, height = eye\n",
    "    cv2.rectangle(img, (x, y), (x+width, y+height),\n",
    "                  (125, 48, 214), 2, cv2.LINE_AA)\n",
    "\n",
    "cv2.imshow(\"img\", img)\n",
    "cv2.waitKey(0)\n",
    "cv2.destroyAllWindows()"
   ]
  },
  {
   "cell_type": "code",
   "execution_count": 8,
   "metadata": {},
   "outputs": [],
   "source": [
    "img = cv2.imread(minji)\n",
    "resize_img=cv2.resize(img,None,fx=0.8,fy=0.8)\n",
    "gray = cv2.cvtColor(resize_img, cv2.COLOR_BGR2GRAY)\n",
    "\n",
    "faces = face_cascade.detectMultiScale(\n",
    "    gray, scaleFactor=1.1, minNeighbors=5, minSize=(20, 20))\n",
    "eyes = eye_cascade.detectMultiScale(\n",
    "    gray, scaleFactor=1.1, minNeighbors=5, minSize=(20, 20),maxSize=(40,40))\n",
    "\n",
    "\n",
    "for face in faces:\n",
    "    x, y, width, height = face\n",
    "    cv2.rectangle(resize_img, (x, y), (x+width, y+height),\n",
    "                  (55, 127, 99), 2, cv2.LINE_AA)\n",
    "\n",
    "for eye in eyes:\n",
    "    x, y, width, height = eye\n",
    "    cv2.rectangle(resize_img, (x, y), (x+width, y+height),\n",
    "                  (125, 48, 214), 2, cv2.LINE_AA)\n",
    "\n",
    "cv2.imshow(\"img\", resize_img)\n",
    "cv2.waitKey(0)\n",
    "cv2.destroyAllWindows()"
   ]
  }
 ],
 "metadata": {
  "kernelspec": {
   "display_name": "my_cv",
   "language": "python",
   "name": "python3"
  },
  "language_info": {
   "codemirror_mode": {
    "name": "ipython",
    "version": 3
   },
   "file_extension": ".py",
   "mimetype": "text/x-python",
   "name": "python",
   "nbconvert_exporter": "python",
   "pygments_lexer": "ipython3",
   "version": "3.13.0"
  }
 },
 "nbformat": 4,
 "nbformat_minor": 2
}
