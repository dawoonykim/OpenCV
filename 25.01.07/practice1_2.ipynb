{
 "cells": [
  {
   "cell_type": "code",
   "execution_count": 4,
   "metadata": {},
   "outputs": [],
   "source": [
    "import cv2\n",
    "\n",
    "path=\"../images/vehicles.png\""
   ]
  },
  {
   "cell_type": "code",
   "execution_count": 9,
   "metadata": {},
   "outputs": [],
   "source": [
    "img = cv2.imread(path)\n",
    "\n",
    "# 이미지 복사 => 원본에 영향을 주기 때문\n",
    "coppied = img.copy()\n",
    "# GRAYSCALE\n",
    "gray = cv2.cvtColor(coppied, cv2.COLOR_BGR2GRAY)\n",
    "ret, binary = cv2.threshold(gray, -1, 255, cv2.THRESH_BINARY | cv2.THRESH_OTSU)\n",
    "# 각 경계선 검출\n",
    "contours, hierachy = cv2.findContours(\n",
    "    binary, cv2.RETR_EXTERNAL, cv2.CHAIN_APPROX_NONE)\n",
    "\n",
    "# 각 사각형 출력\n",
    "for contour in contours:\n",
    "    x, y, width, height = cv2.boundingRect(contour)\n",
    "    cv2.rectangle(coppied, (x, y), (x+width, y+height),\n",
    "                  (125, 45, 168), 2, cv2.LINE_AA)\n",
    "cv2.imshow(\"img\", coppied)\n",
    "cv2.waitKey(0)\n",
    "cv2.destroyAllWindows()"
   ]
  },
  {
   "cell_type": "code",
   "execution_count": null,
   "metadata": {},
   "outputs": [],
   "source": [
    "img = cv2.imread(path)\n",
    "name = \"Contour\"\n",
    "cv2.namedWindow(name)\n",
    "\n",
    "# 이미지 복사 => 원본에 영향을 주기 때문\n",
    "coppied = img.copy()\n",
    "# GRAYSCALE\n",
    "gray = cv2.cvtColor(coppied, cv2.COLOR_BGR2GRAY)\n",
    "ret, binary = cv2.threshold(gray, -1, 255, cv2.THRESH_BINARY | cv2.THRESH_OTSU)\n",
    "# 각 경계선 검출\n",
    "contours, hierachy = cv2.findContours(\n",
    "    binary, cv2.RETR_EXTERNAL, cv2.CHAIN_APPROX_NONE)\n",
    "\n",
    "# 트랙바 생성\n",
    "cv2.createTrackbar(\"index\", name, 0, len(contours), lambda x: x)\n",
    "while True:\n",
    "    # 이미지 갱신\n",
    "    coppied = img.copy()\n",
    "    # 트랙바 인덱스\n",
    "    index = cv2.getTrackbarPos(\"index\", name)\n",
    "    # 윈도우 이름 변경\n",
    "    cv2.imshow(name, coppied)\n",
    "    if cv2.waitKey(1) != -1:\n",
    "        break\n",
    "# 각 사각형 출력\n",
    "# for contour in contours:\n",
    "#     x, y, width, height = cv2.boundingRect(contour)\n",
    "#     cv2.rectangle(coppied, (x, y), (x+width, y+height),\n",
    "#                   (125, 45, 168), 2, cv2.LINE_AA)\n",
    "\n",
    "cv2.destroyAllWindows()"
   ]
  },
  {
   "cell_type": "code",
   "execution_count": 12,
   "metadata": {},
   "outputs": [],
   "source": [
    "img = cv2.imread(path)\n",
    "name = \"Contour\"\n",
    "cv2.namedWindow(name)\n",
    "\n",
    "# 이미지 복사 => 원본에 영향을 주기 때문\n",
    "coppied = img.copy()\n",
    "# GRAYSCALE\n",
    "gray = cv2.cvtColor(coppied, cv2.COLOR_BGR2GRAY)\n",
    "ret, binary = cv2.threshold(gray, -1, 255, cv2.THRESH_BINARY | cv2.THRESH_OTSU)\n",
    "# 각 경계선 검출\n",
    "contours, hierachy = cv2.findContours(\n",
    "    binary, cv2.RETR_EXTERNAL, cv2.CHAIN_APPROX_NONE)\n",
    "\n",
    "# 트랙바 생성\n",
    "cv2.createTrackbar(\"index\", name, 0, len(contours)-1, lambda x: x)\n",
    "while True:\n",
    "    # 이미지 갱신\n",
    "    coppied = img.copy()\n",
    "    # 트랙바 인덱스\n",
    "    index = cv2.getTrackbarPos(\"index\", name)\n",
    "    # 각 사각형 출력\n",
    "    x, y, width, height = cv2.boundingRect(contours[index])\n",
    "    cv2.rectangle(coppied, (x, y), (x+width, y+height),\n",
    "                  (125, 45, 168), 2, cv2.LINE_AA)\n",
    "    # 윈도우 이름 변경\n",
    "    cv2.imshow(name, coppied)\n",
    "    if cv2.waitKey(1) != -1:\n",
    "        break\n",
    "\n",
    "cv2.destroyAllWindows()"
   ]
  }
 ],
 "metadata": {
  "kernelspec": {
   "display_name": "my_cv",
   "language": "python",
   "name": "python3"
  },
  "language_info": {
   "codemirror_mode": {
    "name": "ipython",
    "version": 3
   },
   "file_extension": ".py",
   "mimetype": "text/x-python",
   "name": "python",
   "nbconvert_exporter": "python",
   "pygments_lexer": "ipython3",
   "version": "3.13.0"
  }
 },
 "nbformat": 4,
 "nbformat_minor": 2
}
