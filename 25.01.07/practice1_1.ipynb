{
 "cells": [
  {
   "cell_type": "code",
   "execution_count": 1,
   "metadata": {},
   "outputs": [],
   "source": [
    "import cv2"
   ]
  },
  {
   "cell_type": "code",
   "execution_count": 3,
   "metadata": {},
   "outputs": [],
   "source": [
    "path = \"../images/horse.png\""
   ]
  },
  {
   "cell_type": "code",
   "execution_count": 11,
   "metadata": {},
   "outputs": [],
   "source": [
    "img = cv2.imread(path)\n",
    "\n",
    "resize_img = cv2.resize(img, None, fx=0.8, fy=0.8)\n",
    "\n",
    "coppied = resize_img.copy()\n",
    "combine = resize_img.copy()\n",
    "\n",
    "gray = cv2.cvtColor(coppied, cv2.COLOR_BGR2GRAY)\n",
    "gray1 = cv2.cvtColor(combine, cv2.COLOR_BGR2GRAY)\n",
    "\n",
    "ret, binary = cv2.threshold(gray, -1, 255, cv2.THRESH_BINARY | cv2.THRESH_OTSU)\n",
    "ret1, binary1 = cv2.threshold(\n",
    "    gray1, -1, 255, cv2.THRESH_BINARY | cv2.THRESH_OTSU)\n",
    "ret2, binary2 = cv2.threshold(\n",
    "    gray1, -1, 255, cv2.THRESH_BINARY | cv2.THRESH_OTSU)\n",
    "\n",
    "contours, hierachy = cv2.findContours(\n",
    "    binary, cv2.RETR_LIST, cv2.CHAIN_APPROX_NONE)\n",
    "contours1, hierachy1 = cv2.findContours(\n",
    "    binary1, cv2.RETR_LIST, cv2.CHAIN_APPROX_NONE)\n",
    "contours2, hierachy2 = cv2.findContours(\n",
    "    binary2, cv2.RETR_EXTERNAL, cv2.CHAIN_APPROX_NONE)\n",
    "\n",
    "cv2.drawContours(coppied, contours, -1, (255, 255, 255), 2)\n",
    "cv2.drawContours(combine, contours1, -1, (255, 255, 255), 2)\n",
    "cv2.drawContours(combine, contours2, -1, (148, 34, 128), 2)\n",
    "\n",
    "cv2.imshow(\"contour\", coppied)\n",
    "cv2.imshow(\"combine\", combine)\n",
    "\n",
    "cv2.waitKey(0)\n",
    "cv2.destroyAllWindows()"
   ]
  },
  {
   "cell_type": "code",
   "execution_count": 17,
   "metadata": {},
   "outputs": [],
   "source": [
    "img = cv2.imread(path)\n",
    "\n",
    "resize_img = cv2.resize(img, None, fx=0.8, fy=0.8)\n",
    "coppied = resize_img.copy()\n",
    "\n",
    "gray = cv2.cvtColor(coppied, cv2.COLOR_BGR2GRAY)\n",
    "\n",
    "ret, binary = cv2.threshold(gray, -1, 255, cv2.THRESH_BINARY, cv2.THRESH_OTSU)\n",
    "\n",
    "cv2.findContours(binary, cv2.RETR_LIST, cv2.CHAIN_APPROX_NONE)\n",
    "\n",
    "for contour in contours:\n",
    "    x, y, width, height = cv2.boundingRect(contour)\n",
    "    cv2.rectangle(coppied, (x, y), (x+width, y+height),\n",
    "                  (12, 127, 65), 2, cv2.LINE_AA)\n",
    "\n",
    "cv2.imshow(\"contour\", coppied)\n",
    "cv2.waitKey(0)\n",
    "cv2.destroyAllWindows()"
   ]
  },
  {
   "cell_type": "code",
   "execution_count": 39,
   "metadata": {},
   "outputs": [],
   "source": [
    "import cv2\n",
    "# img = cv2.imread(\"../images/vehicles.png\")\n",
    "img = cv2.imread(path)\n",
    "name = \"Contour\"\n",
    "cv2.namedWindow(name)\n",
    "resize_img = cv2.resize(img, None, fx=0.7, fy=0.7)\n",
    "coppied = img.copy()\n",
    "gray = cv2.cvtColor(coppied, cv2.COLOR_BGR2GRAY)\n",
    "\n",
    "ret, binary = cv2.threshold(gray, -1, 255, cv2.THRESH_BINARY | cv2.THRESH_OTSU)\n",
    "\n",
    "contours, hierachy = cv2.findContours(\n",
    "    binary, cv2.RETR_EXTERNAL, cv2.CHAIN_APPROX_NONE)\n",
    "MIN_AREA = 1000\n",
    "# MAX_AREA = 20000\n",
    "filtered_list = []\n",
    "for contour in contours:\n",
    "    # print(cv2.contourArea(contour))\n",
    "    if cv2.contourArea(contour) > MIN_AREA:\n",
    "        filtered_list.append(contour)\n",
    "\n",
    "cv2.createTrackbar(\"index\", name, 0, len(filtered_list)-1, lambda x: x)\n",
    "\n",
    "while True:\n",
    "    index = cv2.getTrackbarPos(\"index\", name)\n",
    "    coppied = img.copy()\n",
    "\n",
    "    x, y, width, height = cv2.boundingRect(filtered_list[index])\n",
    "\n",
    "    cv2.rectangle(coppied, (x, y), (x+width, y+height),\n",
    "                  (15, 45, 145), 2, cv2.LINE_AA)\n",
    "\n",
    "    cv2.imshow(name, coppied)\n",
    "\n",
    "    if cv2.waitKey(1) != -1:\n",
    "        break\n",
    "\n",
    "\n",
    "cv2.destroyAllWindows()"
   ]
  }
 ],
 "metadata": {
  "kernelspec": {
   "display_name": "my_cv",
   "language": "python",
   "name": "python3"
  },
  "language_info": {
   "codemirror_mode": {
    "name": "ipython",
    "version": 3
   },
   "file_extension": ".py",
   "mimetype": "text/x-python",
   "name": "python",
   "nbconvert_exporter": "python",
   "pygments_lexer": "ipython3",
   "version": "3.13.0"
  }
 },
 "nbformat": 4,
 "nbformat_minor": 2
}
