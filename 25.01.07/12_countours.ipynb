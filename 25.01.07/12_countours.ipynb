{
 "cells": [
  {
   "cell_type": "markdown",
   "metadata": {},
   "source": [
    "# 12. 윤곽선 검출\n",
    "- 경계선을 연결한 선\n",
    "- 흑백 이미지 -> 이진화 -> 윤곽선 찾기(findCountours) -> 윤곽선 그리기(drawCountours)\n",
    "- 윤곽선을 자동으로 찾아주는 기능\n",
    "- 윤곽선(Contour): 같은 색상 또는 강도를 가진 영역의 경계선을 따라 그려진 곡선"
   ]
  },
  {
   "cell_type": "markdown",
   "metadata": {},
   "source": [
    "## 윤곽선 그리는 방법\n",
    "- 이미지에서 엣지를 찾는다(threshold 또는 canny이용)\n",
    "- 윤곽선을 찾아서 데이터로 저장(findContours)\n",
    "- 이미지 위에 윤곽선을 그림(drawContours)"
   ]
  },
  {
   "cell_type": "markdown",
   "metadata": {},
   "source": [
    "### cv2.findContours(image, mode, method, contours[,hierarchy[,offset]]]) -> contours, hierarchy\n",
    "- image : 윤곽선을 검출할 이미지,\n",
    "- mode : 윤곽 검출 모드\n",
    "- method : 윤곽 근사 모드\n",
    "- contours : 검출된 윤곽정보\n",
    "- hierarchy : 이미지 위상에 대한 정보를 포함하는 벡터\n",
    "- offset : (optional) 윤곽 이동 offset, 이미지 ROI 에서 윤곽선을 추출 후에 전체 이미지 컨텍스트에서 분석해야 하는 경우 유용"
   ]
  },
  {
   "cell_type": "markdown",
   "metadata": {},
   "source": [
    "# "
   ]
  },
  {
   "cell_type": "markdown",
   "metadata": {},
   "source": [
    "#### 윤곽선 찾기 모드 Contour Retrieval Mode\n",
    "1. cv2.RETR_EXTERNAL\n",
    "  - 가장 바깥쪽 윤곽선만 가져옴\n",
    "2. cv2.RETR_LIST\n",
    "  - 모든 윤곽선을 가져오지만, 계층 구조 정보는 무시함\n",
    "3. cv2.RETR_TREE\n",
    "  - 모든 윤곽선을 가져오며, 계층 구조도 포함\n",
    "4. cv2.RETR_CCOMP\n",
    "  - 모든 윤곽선을 2단계 계층 구조로 나눕\n"
   ]
  },
  {
   "cell_type": "code",
   "execution_count": 2,
   "metadata": {},
   "outputs": [],
   "source": [
    "import cv2\n",
    "horse = \"../images/horse.png\""
   ]
  },
  {
   "cell_type": "markdown",
   "metadata": {},
   "source": [
    "## 12-1. 윤곽선 검출 기본"
   ]
  },
  {
   "cell_type": "code",
   "execution_count": 34,
   "metadata": {},
   "outputs": [],
   "source": [
    "img = cv2.imread(horse)\n",
    "resize_img = cv2.resize(img, None, fx=0.8, fy=0.8)\n",
    "coppied1 = resize_img.copy()\n",
    "coppied2 = resize_img.copy()\n",
    "combined = resize_img.copy()\n",
    "\n",
    "# 그레이 스케일로 변환\n",
    "gray1 = cv2.cvtColor(coppied1, cv2.COLOR_BGR2GRAY)\n",
    "gray2 = cv2.cvtColor(coppied2, cv2.COLOR_BGR2GRAY)\n",
    "\n",
    "# 이진화\n",
    "ret1, binary1 = cv2.threshold(\n",
    "    gray1, -1, 255, cv2.THRESH_BINARY | cv2.THRESH_OTSU)\n",
    "ret2, binary2 = cv2.threshold(\n",
    "    gray2, -1, 255, cv2.THRESH_BINARY | cv2.THRESH_OTSU)\n",
    "\n",
    "# 윤곽선 찾기\n",
    "contours1, hierachy1 = cv2.findContours(\n",
    "    binary1, cv2.RETR_LIST, cv2.CHAIN_APPROX_NONE)  # 윤곽선과 계층구조가 나옴\n",
    "countours2, hierachy2 = cv2.findContours(\n",
    "    binary2, cv2.RETR_EXTERNAL, cv2.CHAIN_APPROX_NONE)  # 윤곽선과 계층구조가 나옴\n",
    "\n",
    "# 윤곽선 그리기\n",
    "cv2.drawContours(coppied1, contours1, -1, (128, 255, 150), 2)\n",
    "cv2.drawContours(coppied2, countours2, -1, (37, 255, 210), 2)\n",
    "\n",
    "cv2.drawContours(combined, contours1, -1, (255, 255, 255), 2)\n",
    "cv2.drawContours(combined, countours2, -1, (37, 255, 210), 2)\n",
    "\n",
    "cv2.imshow(\"img\", combined)\n",
    "cv2.imshow(\"contours1\", coppied1)\n",
    "cv2.imshow(\"contours2\", coppied2)\n",
    "cv2.waitKey(0)\n",
    "cv2.destroyAllWindows()"
   ]
  },
  {
   "cell_type": "markdown",
   "metadata": {},
   "source": [
    "## 12-2. BoundingRect\n",
    "- 윤곽선 경계 사각형"
   ]
  },
  {
   "cell_type": "code",
   "execution_count": 40,
   "metadata": {},
   "outputs": [],
   "source": [
    "img = cv2.imread(horse)\n",
    "resize_img = cv2.resize(img, None, fx=0.8, fy=0.8)\n",
    "coppied1 = resize_img.copy()\n",
    "\n",
    "\n",
    "# 그레이 스케일로 변환\n",
    "gray1 = cv2.cvtColor(coppied1, cv2.COLOR_BGR2GRAY)\n",
    "\n",
    "# 이진화\n",
    "ret1, binary1 = cv2.threshold(\n",
    "    gray1, -1, 255, cv2.THRESH_BINARY | cv2.THRESH_OTSU)\n",
    "\n",
    "# 윤곽선 찾기\n",
    "contours1, hierachy1 = cv2.findContours(\n",
    "    binary1, cv2.RETR_LIST, cv2.CHAIN_APPROX_NONE)  # 윤곽선과 계층구조가 나옴\n",
    "\n",
    "for contour in contours1:\n",
    "    x, y, width, height = cv2.boundingRect(contour)\n",
    "    cv2.rectangle(coppied1, (x, y), (x+width, y+height),\n",
    "                  (32, 54, 146), 2, cv2.LINE_AA)\n",
    "\n",
    "\n",
    "cv2.imshow(\"img\", resize_img)\n",
    "cv2.imshow(\"contours1\", coppied1)\n",
    "cv2.waitKey(0)\n",
    "cv2.destroyAllWindows()"
   ]
  },
  {
   "cell_type": "markdown",
   "metadata": {},
   "source": [
    "## 12-3. contourArea\n",
    "- 윤곽선의 면적을 계산"
   ]
  },
  {
   "cell_type": "code",
   "execution_count": 8,
   "metadata": {},
   "outputs": [],
   "source": [
    "import cv2\n",
    "\n",
    "img = cv2.imread(\"../images/vehicles.png\")\n",
    "coppied = img.copy()\n",
    "name = \"Contour\"\n",
    "cv2.namedWindow(name)\n",
    "\n",
    "# 윤곽선을 찾고 : grayscale -> 이진화 -> findContours\n",
    "gray = cv2.cvtColor(coppied, cv2.COLOR_BGR2GRAY)\n",
    "\n",
    "ret, binary = cv2.threshold(gray, -1, 255, cv2.THRESH_BINARY | cv2.THRESH_OTSU)\n",
    "contours, hierachy = cv2.findContours(\n",
    "    binary, cv2.RETR_EXTERNAL, cv2.CHAIN_APPROX_NONE)\n",
    "\n",
    "# 윤곽선의 면적이 특정 크기 이상인 윤곽선을 새로운 리스트에 저장\n",
    "filtered_contours = []\n",
    "MIN_AREA = 1000\n",
    "for contour in contours:\n",
    "    if cv2.contourArea(contour) > MIN_AREA:\n",
    "        filtered_contours.append(contour)\n",
    "\n",
    "# 윤곽선의 인덱스를 선택해서 : 트랙바를 이용 -> while\n",
    "cv2.createTrackbar(\"index\", name, 0, len(filtered_contours)-1, lambda x: x)\n",
    "\n",
    "\n",
    "while True:\n",
    "    coppied = img.copy()\n",
    "    index = cv2.getTrackbarPos(\"index\", name)\n",
    "    # print(f\"area : {cv2.contourArea(contours[index])}\")\n",
    "\n",
    "    # 해당 인덱스의 bounding rect를 추출하고 : cv2.boundingRect\n",
    "    x, y, width, height = cv2.boundingRect(filtered_contours[index])\n",
    "\n",
    "    # contours[i] -> rect\n",
    "    # 화면에 사격형을 그린다 : cv2.rectangle\n",
    "    cv2.rectangle(coppied, (x, y), (x+width, y+height),\n",
    "                  (124, 62, 148), 2, cv2.LINE_AA)\n",
    "    cv2.imshow(name, coppied)\n",
    "\n",
    "    if cv2.waitKey(1) != -1:\n",
    "        break\n",
    "cv2.destroyAllWindows()"
   ]
  },
  {
   "cell_type": "code",
   "execution_count": null,
   "metadata": {},
   "outputs": [],
   "source": []
  },
  {
   "cell_type": "code",
   "execution_count": null,
   "metadata": {},
   "outputs": [],
   "source": [
    "# img = cv2.imread(horse)\n",
    "# resize_img = cv2.resize(img, None, fx=0.8, fy=0.8)\n",
    "# coppied1 = resize_img.copy()\n",
    "# coppied2 = resize_img.copy()\n",
    "# combined = resize_img.copy()\n",
    "# coppied3 = resize_img.copy()\n",
    "# coppied4 = resize_img.copy()\n",
    "# # 그레이 스케일로 변환\n",
    "# gray1 = cv2.cvtColor(coppied1, cv2.COLOR_BGR2GRAY)\n",
    "# gray2 = cv2.cvtColor(coppied2, cv2.COLOR_BGR2GRAY)\n",
    "# gray3 = cv2.cvtColor(coppied3, cv2.COLOR_BGR2BGRA)\n",
    "# gray4 = cv2.cvtColor(coppied4, cv2.COLOR_BGR2BGRA)\n",
    "# # 이진화\n",
    "# ret1, binary1 = cv2.threshold(\n",
    "#     gray1, -1, 255, cv2.THRESH_BINARY | cv2.THRESH_OTSU)\n",
    "# ret2, binary2 = cv2.threshold(\n",
    "#     gray2, -1, 255, cv2.THRESH_BINARY | cv2.THRESH_OTSU)\n",
    "# ret3, binary3 = cv2.threshold(\n",
    "#     gray3, -1, 255, cv2.THRESH_BINARY | cv2.THRESH_OTSU)\n",
    "# ret4, binary4 = cv2.threshold(\n",
    "#     gray4, -1, 255, cv2.THRESH_BINARY | cv2.THRESH_OTSU)\n",
    "\n",
    "# # 윤곽선 찾기\n",
    "# countours1, hierachy1 = cv2.findContours(\n",
    "#     binary1, cv2.RETR_LIST, cv2.CHAIN_APPROX_NONE)  # 윤곽선과 계층구조가 나옴\n",
    "# countours2, hierachy2 = cv2.findContours(\n",
    "#     binary2, cv2.RETR_EXTERNAL, cv2.CHAIN_APPROX_NONE)  # 윤곽선과 계층구조가 나옴\n",
    "\n",
    "# countours3, hierachy3 = cv2.findContours(\n",
    "#     binary3, cv2.RETR_LIST, cv2.CHAIN_APPROX_NONE)  # 윤곽선과 계층구조가 나옴\n",
    "# countours4, hierachy5 = cv2.findContours(\n",
    "#     binary4, cv2.RETR_EXTERNAL, cv2.CHAIN_APPROX_NONE)  # 윤곽선과 계층구조가 나옴\n",
    "\n",
    "# # 윤곽선 그리기\n",
    "# cv2.drawContours(coppied1, countours1, -1, (128, 255, 150), 2)\n",
    "# cv2.drawContours(coppied2, countours2, -1, (37, 255, 210), 2)\n",
    "\n",
    "# cv2.drawContours(combined, countours1, -1, (255, 255, 255), 2)\n",
    "# cv2.drawContours(combined, countours2, -1, (37, 255, 210), 2)\n",
    "\n",
    "# cv2.drawContours(coppied3, countours3, -1, (255, 255, 255), 2)\n",
    "# cv2.drawContours(coppied4, countours4, -1, (37, 255, 210), 2)\n",
    "\n",
    "# cv2.imshow(\"img\", combined)\n",
    "# cv2.imshow(\"contours1\", coppied1)\n",
    "# cv2.imshow(\"contours2\", coppied2)\n",
    "# cv2.imshow(\"contours3\", coppied3)\n",
    "# cv2.imshow(\"countours4\", coppied4)\n",
    "# cv2.waitKey(0)\n",
    "# cv2.destroyAllWindows()"
   ]
  }
 ],
 "metadata": {
  "kernelspec": {
   "display_name": "my_cv",
   "language": "python",
   "name": "python3"
  },
  "language_info": {
   "codemirror_mode": {
    "name": "ipython",
    "version": 3
   },
   "file_extension": ".py",
   "mimetype": "text/x-python",
   "name": "python",
   "nbconvert_exporter": "python",
   "pygments_lexer": "ipython3",
   "version": "3.13.0"
  }
 },
 "nbformat": 4,
 "nbformat_minor": 2
}
