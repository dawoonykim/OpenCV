{
 "cells": [
  {
   "cell_type": "code",
   "execution_count": 1,
   "metadata": {},
   "outputs": [],
   "source": [
    "import cv2"
   ]
  },
  {
   "cell_type": "markdown",
   "metadata": {},
   "source": [
    "# 오츠 알고리즘\n",
    "* 최적의 임계값을 찾아주는 알고리즘"
   ]
  },
  {
   "cell_type": "code",
   "execution_count": 2,
   "metadata": {},
   "outputs": [],
   "source": [
    "img = cv2.imread(\"../images/poodle_mini1.png\", cv2.COLOR_BGR2BGRA)\n",
    "\n",
    "ret, binary = cv2.threshold(img, -1, 255, cv2.THRESH_BINARY | cv2.THRESH_OTSU)\n",
    "# ret, binary = cv2.threshold(img, -1, 255, cv2.THRESH_BINARY + cv2.THRESH_OTSU)\n",
    "ret\n",
    "\n",
    "cv2.imshow(\"img\", img)\n",
    "cv2.waitKey(0)\n",
    "cv2.destroyAllWindows()"
   ]
  },
  {
   "cell_type": "markdown",
   "metadata": {},
   "source": [
    "# 경계선 검출(Canny Edge Detection)\n",
    "- 약한 임계값과 강한 임계값의 값으로 경계선을 검출하는 방식"
   ]
  },
  {
   "cell_type": "code",
   "execution_count": 6,
   "metadata": {},
   "outputs": [],
   "source": [
    "img = cv2.imread(\"../images/horse.png\", cv2.COLOR_BGR2BGRA)\n",
    "resize_img = cv2.resize(img, None, fx=0.8, fy=0.8)\n",
    "\n",
    "canny = cv2.Canny(resize_img, 50, 150)\n",
    "cv2.imshow(\"img\", resize_img)\n",
    "cv2.imshow(\"canny\", canny)\n",
    "cv2.waitKey(0)\n",
    "cv2.destroyAllWindows()"
   ]
  }
 ],
 "metadata": {
  "kernelspec": {
   "display_name": "my_cv",
   "language": "python",
   "name": "python3"
  },
  "language_info": {
   "codemirror_mode": {
    "name": "ipython",
    "version": 3
   },
   "file_extension": ".py",
   "mimetype": "text/x-python",
   "name": "python",
   "nbconvert_exporter": "python",
   "pygments_lexer": "ipython3",
   "version": "3.13.0"
  }
 },
 "nbformat": 4,
 "nbformat_minor": 2
}
