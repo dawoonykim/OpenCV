{
 "cells": [
  {
   "cell_type": "markdown",
   "metadata": {},
   "source": [
    "# 실습 3. 순서대로 박스 표시"
   ]
  },
  {
   "cell_type": "markdown",
   "metadata": {},
   "source": [
    "## 1. 인덱스 트랙바를 만들고"
   ]
  },
  {
   "cell_type": "markdown",
   "metadata": {},
   "source": [
    "## 2. 트랙바의 인덱스 값을 변경하면"
   ]
  },
  {
   "cell_type": "markdown",
   "metadata": {},
   "source": [
    "## 3. 생성된 박스가 순서대로 화면에 띄워지도록 구현하기"
   ]
  },
  {
   "cell_type": "code",
   "execution_count": 2,
   "metadata": {},
   "outputs": [],
   "source": [
    "import cv2\n",
    "\n",
    "path = \"../images/vehicles.png\""
   ]
  },
  {
   "cell_type": "markdown",
   "metadata": {},
   "source": [
    "## 트랙바 동작"
   ]
  },
  {
   "cell_type": "code",
   "execution_count": 43,
   "metadata": {},
   "outputs": [],
   "source": [
    "import cv2\n",
    "\n",
    "path = \"../images/vehicles.png\"\n",
    "\n",
    "img = cv2.imread(path)\n",
    "\n",
    "name = \"Contour\"\n",
    "cv2.namedWindow(name)\n",
    "cv2.createTrackbar(\"index\", name, 0, 255, lambda x: x)\n",
    "\n",
    "while True:\n",
    "    coppied = img.copy()\n",
    "    gray = cv2.cvtColor(coppied, cv2.COLOR_BGR2GRAY)\n",
    "    index = cv2.getTrackbarPos(\"index\", name)\n",
    "    ret, binary = cv2.threshold(\n",
    "        gray, -1, index, cv2.THRESH_BINARY | cv2.THRESH_OTSU)\n",
    "\n",
    "    contours, hierach = cv2.findContours(\n",
    "        binary, cv2.RETR_EXTERNAL, cv2.CHAIN_APPROX_NONE)\n",
    "\n",
    "    for contour in contours:\n",
    "        x, y, width, height = cv2.boundingRect(contour)\n",
    "        cv2.rectangle(coppied, (x, y), (x+width, y+height),\n",
    "                      (0, 0, 255), 2, cv2.LINE_AA)\n",
    "\n",
    "    cv2.imshow(name, coppied)\n",
    "    if cv2.waitKey(1) != -1:\n",
    "        break\n",
    "cv2.destroyAllWindows()"
   ]
  },
  {
   "cell_type": "markdown",
   "metadata": {},
   "source": [
    "## 트랙바로 순서대로 출력"
   ]
  },
  {
   "cell_type": "code",
   "execution_count": 7,
   "metadata": {},
   "outputs": [],
   "source": [
    "import cv2\n",
    "\n",
    "path = \"../images/vehicles.png\"\n",
    "\n",
    "img = cv2.imread(path)\n",
    "coppied = img.copy()\n",
    "\n",
    "name = \"Contour\"\n",
    "cv2.namedWindow(name)\n",
    "\n",
    "gray = cv2.cvtColor(coppied, cv2.COLOR_BGR2GRAY)\n",
    "ret, binary = cv2.threshold(\n",
    "    gray, -1, 255, cv2.THRESH_BINARY | cv2.THRESH_OTSU)\n",
    "\n",
    "contours, hierach = cv2.findContours(\n",
    "    binary, cv2.RETR_EXTERNAL, cv2.CHAIN_APPROX_NONE)\n",
    "\n",
    "cv2.createTrackbar(\"index\", name, 0, len(contours)-1, lambda x: x)\n",
    "\n",
    "while True:\n",
    "    target = img.copy()\n",
    "    index = cv2.getTrackbarPos(\"index\", name)\n",
    "\n",
    "    # if 0 <= index < len(contours):\n",
    "    cv2.drawContours(coppied, contours, index, (0, 0, 255), 2, cv2.LINE_AA)\n",
    "    x, y, width, height = cv2.boundingRect(contours[index])\n",
    "    cv2.rectangle(target, (x, y), (x+width, y+height),\n",
    "                  (32, 54, 146), 2, cv2.LINE_AA)\n",
    "\n",
    "    cv2.imshow(name, target)\n",
    "    if cv2.waitKey(1) != -1:\n",
    "        break\n",
    "cv2.destroyAllWindows()"
   ]
  },
  {
   "cell_type": "markdown",
   "metadata": {},
   "source": [
    "## 의사코드 사용\n",
    "* 코드 구분 및 순서 확인하며 코드 작성"
   ]
  },
  {
   "cell_type": "code",
   "execution_count": 8,
   "metadata": {},
   "outputs": [],
   "source": [
    "import cv2\n",
    "\n",
    "img = cv2.imread(\"../images/vehicles.png\")\n",
    "coppied = img.copy()\n",
    "name = \"Contour\"\n",
    "cv2.namedWindow(name)\n",
    "\n",
    "# 윤곽선을 찾고 : grayscale -> 이진화 -> findContours\n",
    "gray = cv2.cvtColor(coppied, cv2.COLOR_BGR2GRAY)\n",
    "\n",
    "ret, binary = cv2.threshold(gray, -1, 255, cv2.THRESH_BINARY | cv2.THRESH_OTSU)\n",
    "contours, hierachy = cv2.findContours(\n",
    "    binary, cv2.RETR_EXTERNAL, cv2.CHAIN_APPROX_NONE)\n",
    "\n",
    "# 윤곽선의 인덱스를 선택해서 : 트랙바를 이용 -> while\n",
    "cv2.createTrackbar(\"index\", name, 0, len(contours)-1, lambda x: x)\n",
    "\n",
    "while True:\n",
    "    coppied = img.copy()\n",
    "    index = cv2.getTrackbarPos(\"index\", name)\n",
    "\n",
    "    # 해당 인덱스의 bounding rect를 추출하고 : cv2.boundingRect\n",
    "    x, y, width, height = cv2.boundingRect(contours[index])\n",
    "\n",
    "    # contours[i] -> rect\n",
    "    # 화면에 사격형을 그린다 : cv2.rectangle\n",
    "    cv2.rectangle(coppied, (x, y), (x+width, y+height),\n",
    "                  (124, 62, 148), 2, cv2.LINE_AA)\n",
    "    cv2.imshow(name, coppied)\n",
    "\n",
    "    if cv2.waitKey(1) != -1:\n",
    "        break\n",
    "cv2.destroyAllWindows()"
   ]
  }
 ],
 "metadata": {
  "kernelspec": {
   "display_name": "my_cv",
   "language": "python",
   "name": "python3"
  },
  "language_info": {
   "codemirror_mode": {
    "name": "ipython",
    "version": 3
   },
   "file_extension": ".py",
   "mimetype": "text/x-python",
   "name": "python",
   "nbconvert_exporter": "python",
   "pygments_lexer": "ipython3",
   "version": "3.13.0"
  }
 },
 "nbformat": 4,
 "nbformat_minor": 2
}
