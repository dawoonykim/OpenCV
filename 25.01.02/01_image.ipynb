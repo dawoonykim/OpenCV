{
 "cells": [
  {
   "cell_type": "markdown",
   "metadata": {},
   "source": [
    "# 01. 이미지 입출력"
   ]
  },
  {
   "cell_type": "code",
   "execution_count": 1,
   "metadata": {},
   "outputs": [],
   "source": [
    "\n",
    "import cv2\n",
    "dog_path = \"images/poodle_mini.jpg\"\n",
    "dog_path_png = \"images/poodle_mini.png\"\n",
    "dog_path_png1 = \"images/poodle_mini1.png\"\n",
    "horse_path=\"./images/horse.png\""
   ]
  },
  {
   "cell_type": "code",
   "execution_count": 2,
   "metadata": {},
   "outputs": [
    {
     "name": "stdout",
     "output_type": "stream",
     "text": [
      "-1\n"
     ]
    }
   ],
   "source": [
    "# img = cv2.imread(\"./images/poodle.jpg\"[,flags=\"IMREAD_ANYCOLOR\"])\n",
    "# img = cv2.imread(\"./images/poodle_mini.jpg\")\n",
    "img=cv2.imread(dog_path)\n",
    "\n",
    "# print(img)\n",
    "cv2.imshow(\"Image\", img)\n",
    "key = cv2.waitKey(5000)  # 무한 대기\n",
    "print(key) # 키 입력 없으면 -1을 반환\n",
    "cv2.destroyAllWindows()"
   ]
  },
  {
   "cell_type": "markdown",
   "metadata": {},
   "source": [
    "## 1-2. 이미지 불러오기 옵션\n",
    "\n",
    "#### 'cv2.IMREAD_COLOR' : 이미지를 컬러로, 기본 옵션, 투명 배경 무시\n",
    "#### 'cv2.IMREAD_GRAYSCALE' : 이미지를 흑백으로\n",
    "#### 'cv2.IMREAD_UNCHANGED' : 이미지 컬로, 투명배경 인식\n",
    "- 이미지를 불러올 때, alpha 값을 같이 불러옴"
   ]
  },
  {
   "cell_type": "code",
   "execution_count": 55,
   "metadata": {},
   "outputs": [],
   "source": [
    "img_default = cv2.imread(dog_path, cv2.IMREAD_COLOR)\n",
    "img_gray = cv2.imread(dog_path, cv2.IMREAD_GRAYSCALE)\n",
    "img_unchanged = cv2.imread(dog_path, cv2.IMREAD_UNCHANGED)\n",
    "\n",
    "cv2.imshow(\"Image default\", img_default)\n",
    "cv2.imshow(\"Image gray\", img_gray)\n",
    "cv2.imshow(\"Image unchanged\", img_unchanged)\n",
    "\n",
    "cv2.waitKey(0)\n",
    "cv2.destroyAllWindows()"
   ]
  },
  {
   "cell_type": "code",
   "execution_count": null,
   "metadata": {},
   "outputs": [
    {
     "name": "stdout",
     "output_type": "stream",
     "text": [
      "640 640 3\n"
     ]
    }
   ],
   "source": [
    "img_default = cv2.imread(dog_path_png, cv2.IMREAD_COLOR)\n",
    "img_gray = cv2.imread(dog_path_png, cv2.IMREAD_GRAYSCALE)\n",
    "img_unchanged = cv2.imread(dog_path_png, cv2.IMREAD_UNCHANGED)\n",
    "\n",
    "height, width, channel = img_unchanged.shape\n",
    "# unchanged는 RGB + AlphaRkwl 4개의 채널을 불러옴 \n",
    "print(height, width, channel)\n",
    "\n",
    "cv2.imshow(\"Image default\", img_default)\n",
    "cv2.imshow(\"Image gray\", img_gray)\n",
    "cv2.imshow(\"Image unchanged\", img_unchanged)\n",
    "\n",
    "cv2.waitKey(0)\n",
    "cv2.destroyAllWindows()"
   ]
  },
  {
   "cell_type": "code",
   "execution_count": null,
   "metadata": {},
   "outputs": [
    {
     "name": "stdout",
     "output_type": "stream",
     "text": [
      "640 640 4\n"
     ]
    }
   ],
   "source": [
    "img_default = cv2.imread(dog_path_png1, cv2.IMREAD_COLOR)\n",
    "img_gray = cv2.imread(dog_path_png1, cv2.IMREAD_GRAYSCALE)\n",
    "img_unchanged = cv2.imread(dog_path_png1, cv2.IMREAD_UNCHANGED)\n",
    "\n",
    "height, width, channel = img_unchanged.shape\n",
    "print(height, width, channel)\n",
    "\n",
    "cv2.imshow(\"Image default\", img_default)\n",
    "cv2.imshow(\"Image gray\", img_gray)\n",
    "cv2.imshow(\"Image unchanged\", img_unchanged)\n",
    "\n",
    "cv2.waitKey(0)\n",
    "cv2.destroyAllWindows()"
   ]
  },
  {
   "cell_type": "code",
   "execution_count": 58,
   "metadata": {},
   "outputs": [
    {
     "name": "stdout",
     "output_type": "stream",
     "text": [
      "963 640 3\n",
      "963 640\n"
     ]
    }
   ],
   "source": [
    "img_default = cv2.imread(horse_path, cv2.IMREAD_COLOR)\n",
    "img_gray = cv2.imread(horse_path, cv2.IMREAD_GRAYSCALE)\n",
    "img_unchanged = cv2.imread(horse_path, cv2.IMREAD_UNCHANGED)\n",
    "\n",
    "height, width, channel = img_default.shape\n",
    "print(height, width, channel)\n",
    "\n",
    "\n",
    "height, width = img_gray.shape\n",
    "print(height, width)\n",
    "\n",
    "cv2.imshow(\"Image default\", img_default)\n",
    "cv2.imshow(\"Image gray\", img_gray)\n",
    "cv2.imshow(\"Image unchanged\", img_unchanged)\n",
    "\n",
    "cv2.waitKey(0)\n",
    "cv2.destroyAllWindows()"
   ]
  },
  {
   "cell_type": "code",
   "execution_count": 2,
   "metadata": {},
   "outputs": [],
   "source": [
    "img = cv2.imread(dog_path)\n",
    "cv2.imshow(\"Image\", img)\n",
    "key = cv2.waitKey(0)\n",
    "if key == ord(\"q\"):\n",
    "    cv2.destroyAllWindows()"
   ]
  },
  {
   "cell_type": "markdown",
   "metadata": {},
   "source": [
    "### 1-4. 이미지 쓰기\n",
    "- 불러온 이미지를 파일로 생성"
   ]
  },
  {
   "cell_type": "code",
   "execution_count": 7,
   "metadata": {},
   "outputs": [
    {
     "data": {
      "text/plain": [
       "True"
      ]
     },
     "execution_count": 7,
     "metadata": {},
     "output_type": "execute_result"
    }
   ],
   "source": [
    "img = cv2.imread(dog_path)\n",
    "cv2.imwrite(\"output/new_dog.jpg\", img)"
   ]
  },
  {
   "cell_type": "code",
   "execution_count": 8,
   "metadata": {},
   "outputs": [
    {
     "data": {
      "text/plain": [
       "True"
      ]
     },
     "execution_count": 8,
     "metadata": {},
     "output_type": "execute_result"
    }
   ],
   "source": [
    "img = cv2.imread(dog_path,cv2.IMREAD_GRAYSCALE)\n",
    "cv2.imwrite(\"output/new_dog_grayscale.jpg\", img)"
   ]
  }
 ],
 "metadata": {
  "kernelspec": {
   "display_name": "my_cv",
   "language": "python",
   "name": "python3"
  },
  "language_info": {
   "codemirror_mode": {
    "name": "ipython",
    "version": 3
   },
   "file_extension": ".py",
   "mimetype": "text/x-python",
   "name": "python",
   "nbconvert_exporter": "python",
   "pygments_lexer": "ipython3",
   "version": "3.13.0"
  }
 },
 "nbformat": 4,
 "nbformat_minor": 2
}
