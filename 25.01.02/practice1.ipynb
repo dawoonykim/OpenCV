{
 "cells": [
  {
   "cell_type": "code",
   "execution_count": 2,
   "metadata": {},
   "outputs": [],
   "source": [
    "import cv2"
   ]
  },
  {
   "cell_type": "code",
   "execution_count": 3,
   "metadata": {},
   "outputs": [],
   "source": [
    "dog_path = \"images/poodle_mini.jpg\"\n",
    "dog_path_png = \"images/poodle_mini.png\"\n",
    "dog_path_png1 = \"images/poodle_mini1.png\"\n",
    "horse_path=\"./images/horse.png\""
   ]
  },
  {
   "cell_type": "code",
   "execution_count": 4,
   "metadata": {},
   "outputs": [
    {
     "name": "stdout",
     "output_type": "stream",
     "text": [
      "97\n"
     ]
    }
   ],
   "source": [
    "img = cv2.imread(dog_path_png)\n",
    "# print(img)\n",
    "cv2.imshow(\"image\", img)\n",
    "key = cv2.waitKey(5000)\n",
    "print(key)\n",
    "cv2.destroyAllWindows()"
   ]
  },
  {
   "cell_type": "code",
   "execution_count": 5,
   "metadata": {},
   "outputs": [],
   "source": [
    "img_default = cv2.imread(dog_path_png1, cv2.IMREAD_COLOR)\n",
    "img_gray = cv2.imread(dog_path_png1, cv2.IMREAD_GRAYSCALE)\n",
    "img_unchanged = cv2.imread(dog_path_png1, cv2.IMREAD_UNCHANGED)\n",
    "\n",
    "cv2.imshow(\"image default\", img_default)\n",
    "cv2.imshow(\"image gray\", img_gray)\n",
    "cv2.imshow(\"image unchanged\", img_unchanged)\n",
    "\n",
    "cv2.waitKey(0)\n",
    "cv2.destroyAllWindows()"
   ]
  },
  {
   "cell_type": "code",
   "execution_count": 9,
   "metadata": {},
   "outputs": [
    {
     "name": "stdout",
     "output_type": "stream",
     "text": [
      "default\n",
      "height : 640\n",
      "width : 640\n",
      "channel : 3\n",
      "gray\n",
      "height : 640\n",
      "width : 640\n",
      "unchanged\n",
      "height : 640\n",
      "width : 640\n",
      "channel : 4\n"
     ]
    }
   ],
   "source": [
    "img_default = cv2.imread(dog_path_png1, cv2.IMREAD_COLOR)\n",
    "img_gray = cv2.imread(dog_path_png1, cv2.IMREAD_GRAYSCALE)\n",
    "img_unchanged = cv2.imread(dog_path_png1, cv2.IMREAD_UNCHANGED)\n",
    "\n",
    "height, width, channel = img_default.shape\n",
    "print(f\"default\\nheight : {height}\\nwidth : {width}\\nchannel : {channel}\")\n",
    "height_g, width_g = img_gray.shape\n",
    "print(f\"gray\\nheight : {height_g}\\nwidth : {width_g}\")\n",
    "height_u, width_u, channel_u = img_unchanged.shape\n",
    "print(f\"unchanged\\nheight : {height_u}\\nwidth : {\n",
    "      width_u}\\nchannel : {channel_u}\")\n",
    "cv2.imshow(\"image default\", img_default)\n",
    "cv2.imshow(\"image gray\", img_gray)\n",
    "cv2.imshow(\"image unchanged\", img_unchanged)\n",
    "\n",
    "cv2.waitKey(0)\n",
    "cv2.destroyAllWindows()"
   ]
  },
  {
   "cell_type": "code",
   "execution_count": 10,
   "metadata": {},
   "outputs": [],
   "source": [
    "img = cv2.imread(dog_path_png1)\n",
    "cv2.imshow(\"image\", img)\n",
    "key = cv2.waitKey(0)\n",
    "if key == ord(\"q\"):\n",
    "    cv2.destroyAllWindows()"
   ]
  },
  {
   "cell_type": "code",
   "execution_count": 11,
   "metadata": {},
   "outputs": [
    {
     "data": {
      "text/plain": [
       "True"
      ]
     },
     "execution_count": 11,
     "metadata": {},
     "output_type": "execute_result"
    }
   ],
   "source": [
    "img = cv2.imread(dog_path_png1)\n",
    "cv2.imwrite(\"./output/practice.jpg\", img)"
   ]
  },
  {
   "cell_type": "code",
   "execution_count": 14,
   "metadata": {},
   "outputs": [
    {
     "data": {
      "text/plain": [
       "True"
      ]
     },
     "execution_count": 14,
     "metadata": {},
     "output_type": "execute_result"
    }
   ],
   "source": [
    "img = cv2.imread(dog_path_png1, cv2.IMREAD_GRAYSCALE)\n",
    "cv2.imwrite(\"./output/practice_gray.jpg\", img)"
   ]
  }
 ],
 "metadata": {
  "kernelspec": {
   "display_name": "my_cv",
   "language": "python",
   "name": "python3"
  },
  "language_info": {
   "codemirror_mode": {
    "name": "ipython",
    "version": 3
   },
   "file_extension": ".py",
   "mimetype": "text/x-python",
   "name": "python",
   "nbconvert_exporter": "python",
   "pygments_lexer": "ipython3",
   "version": "3.13.0"
  }
 },
 "nbformat": 4,
 "nbformat_minor": 2
}
