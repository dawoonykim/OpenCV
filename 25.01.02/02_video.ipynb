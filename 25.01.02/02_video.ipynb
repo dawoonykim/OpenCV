{
 "cells": [
  {
   "cell_type": "markdown",
   "metadata": {},
   "source": [
    "# 02. 비디오 입출력\n",
    "- 비디오의 재생 : 연속된 이미지를 재생하는 것\n",
    "- 프레임 : 연속된 이미지의 중 한 장\n",
    "- 비디오를 재생하기 위해서는 프레임을 연속적으로 재생해야 함"
   ]
  },
  {
   "cell_type": "code",
   "execution_count": 1,
   "metadata": {},
   "outputs": [],
   "source": [
    "import cv2"
   ]
  },
  {
   "cell_type": "markdown",
   "metadata": {},
   "source": [
    "### 2-1. 비디오 파일 입출력\n",
    "- 'cv2.videoCapture(\"파일경로\")' : 경로의 파일을 불러옴\n",
    "- 'VideoCapture.isOpened()' : 파일이 열렸는지 확인\n",
    "- 'VideoCapture.read()' : 파일을 읽어서 frame을 반환\n",
    "- 'ret' : 프레임이 있는지 체크 => true or false로 반환\n",
    "- 'frame' : 불러온 이미지\n",
    "- 'VideoCapture.release()' : 영상 객체를 해제"
   ]
  },
  {
   "cell_type": "code",
   "execution_count": 12,
   "metadata": {},
   "outputs": [],
   "source": [
    "dog_video_path = \"videos/poodle.mp4\""
   ]
  },
  {
   "cell_type": "code",
   "execution_count": 27,
   "metadata": {},
   "outputs": [],
   "source": [
    "cap = cv2.VideoCapture(dog_video_path)\n",
    "\n",
    "# print(cap)\n",
    "# print(cap.isOpened())\n",
    "\n",
    "while cap.isOpened():\n",
    "    ret, frame = cap.read()\n",
    "\n",
    "    if not ret:\n",
    "        break\n",
    "\n",
    "    cv2.imshow(\"Video\", frame)\n",
    "\n",
    "    if cv2.waitKey(10) == ord(\"q\"):\n",
    "        break\n",
    "cap.release()  # 사용한 영상 자원을 해제제\n",
    "cv2.destroyAllWindows()"
   ]
  },
  {
   "cell_type": "markdown",
   "metadata": {},
   "source": [
    "### 2-2. 영상의 프레임 불러오기\n",
    "- 'VideoCapture.get(cv2.CAP_PROP_FPS)' : "
   ]
  },
  {
   "cell_type": "code",
   "execution_count": 28,
   "metadata": {},
   "outputs": [],
   "source": [
    "cap = cv2.VideoCapture(dog_video_path)\n",
    "fps = cap.get(cv2.CAP_PROP_FPS)\n",
    "# print(fps)\n",
    "# print(cap.isOpened())\n",
    "while cap.isOpened():\n",
    "    ret, frame = cap.read()\n",
    "    # print(ret, frame)\n",
    "    if not ret:\n",
    "        break\n",
    "    cv2.imshow(\"video\", frame)\n",
    "\n",
    "    if cv2.waitKey(int(1000/fps)) == ord(\"q\"):\n",
    "        break\n",
    "\n",
    "cap.release()\n",
    "cv2.destroyAllWindows()"
   ]
  },
  {
   "cell_type": "markdown",
   "metadata": {},
   "source": [
    "### 2-3. 카메라 입출력"
   ]
  },
  {
   "cell_type": "code",
   "execution_count": 43,
   "metadata": {},
   "outputs": [],
   "source": [
    "cap = cv2.VideoCapture(0)\n",
    "# print(cap)\n",
    "# print(cap.isOpened())\n",
    "\n",
    "if not cap.isOpened():\n",
    "    exit()\n",
    "\n",
    "while True:\n",
    "    ret, frame = cap.read()\n",
    "\n",
    "    if not ret:\n",
    "        break\n",
    "\n",
    "    cv2.imshow(\"Camera\", frame)\n",
    "\n",
    "    if cv2.waitKey(1) == ord(\"q\"):\n",
    "        break\n",
    "\n",
    "cap.release()\n",
    "cv2.destroyAllWindows()"
   ]
  },
  {
   "cell_type": "markdown",
   "metadata": {},
   "source": [
    "### 2-4. 비디오 쓰기\n",
    "- 'cv2.VideoWriter(\"파일경로\",fourcc,)' : 영상을 쓰기"
   ]
  },
  {
   "cell_type": "code",
   "execution_count": 42,
   "metadata": {},
   "outputs": [],
   "source": [
    "cap = cv2.VideoCapture(dog_video_path)\n",
    "\n",
    "# VideoWriter 생성\n",
    "fourcc = cv2.VideoWriter.fourcc(*\"DIVX\")\n",
    "# fourcc = cv2.VideoWriter.fourcc(*\"H264\")\n",
    "fps = cap.get(cv2.CAP_PROP_FPS)\n",
    "width = round(cap.get(cv2.CAP_PROP_FRAME_WIDTH))\n",
    "\n",
    "height = round(cap.get(cv2.CAP_PROP_FRAME_HEIGHT))\n",
    "out = cv2.VideoWriter(\"output/dog.mp4\", fourcc, fps, (width, height))\n",
    "\n",
    "while cap.isOpened():\n",
    "    ret, frame = cap.read()\n",
    "\n",
    "    if not ret:\n",
    "        break\n",
    "\n",
    "    out.write(frame)  # 소리 정보 들어가지 않음\n",
    "    cv2.imshow(\"Video\", frame)\n",
    "\n",
    "    if cv2.waitKey(int(1000/fps)) == ord(\"q\"):\n",
    "        break\n",
    "\n",
    "out.release()\n",
    "cap.release()\n",
    "cv2.destroyAllWindows()"
   ]
  },
  {
   "cell_type": "code",
   "execution_count": 34,
   "metadata": {},
   "outputs": [],
   "source": [
    "# print(*\"DIVX\")"
   ]
  }
 ],
 "metadata": {
  "kernelspec": {
   "display_name": "my_cv",
   "language": "python",
   "name": "python3"
  },
  "language_info": {
   "codemirror_mode": {
    "name": "ipython",
    "version": 3
   },
   "file_extension": ".py",
   "mimetype": "text/x-python",
   "name": "python",
   "nbconvert_exporter": "python",
   "pygments_lexer": "ipython3",
   "version": "3.13.0"
  }
 },
 "nbformat": 4,
 "nbformat_minor": 2
}
