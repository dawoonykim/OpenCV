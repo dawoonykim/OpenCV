{
 "cells": [
  {
   "cell_type": "markdown",
   "metadata": {},
   "source": [
    "# 15. Tesseract - ORC"
   ]
  },
  {
   "cell_type": "markdown",
   "metadata": {},
   "source": [
    "## OCR\n",
    "- 광학 문자 인식\n",
    "- 이미지 분석하여 그 안에 포함된 문자나 텍스트틀 디지털 데이터로 변환하는 기술"
   ]
  },
  {
   "cell_type": "code",
   "execution_count": 2,
   "metadata": {},
   "outputs": [],
   "source": [
    "import cv2\n",
    "from pytesseract import pytesseract as pyt"
   ]
  },
  {
   "cell_type": "code",
   "execution_count": null,
   "metadata": {},
   "outputs": [],
   "source": [
    "pyt.tesseract_cmd = r\"C:\\Program Files\\Tesseract-OCR\\tesseract.exe\"\n",
    "pyt.tesseract_cmd = r\"C:\\Program Files\\Tesseract-OCR\\tesseract.exe\"\n",
    "img = cv2.imread(\"../images/ocr_test.png\", cv2.IMREAD_GRAYSCALE)\n",
    "\n",
    "text = pyt.image_to_string(img, lang=\"kor\")\n",
    "print(text)"
   ]
  },
  {
   "cell_type": "code",
   "execution_count": null,
   "metadata": {},
   "outputs": [],
   "source": [
    "pyt.tesseract_cmd = r\"C:\\Program Files\\Tesseract-OCR\\tesseract.exe\"\n",
    "\n",
    "img = cv2.imread(\"../images/ocr_test.png\")\n",
    "\n",
    "gray = cv2.cvtColor(img, cv2.COLOR_BGR2BGRA)\n",
    "\n",
    "text = pyt.image_to_string(gray, lang=\"kor\")\n",
    "text1 = pyt.image_to_string(img, lang=\"kor\")\n",
    "print(text)\n",
    "print(text1)"
   ]
  },
  {
   "cell_type": "code",
   "execution_count": 16,
   "metadata": {},
   "outputs": [
    {
     "name": "stdout",
     "output_type": "stream",
     "text": [
      "를        글\n",
      "음식물반입금지\n",
      "0 60109 0 000009\n",
      "\n",
      "\n",
      "트        글\n",
      "음식물 반입금지\n",
      "\"0 60109 01 000009\n",
      "\n",
      "\n",
      "ry        글\n",
      "음식물 반입금지\n",
      "No eating or drinking\n",
      "\n",
      "\n",
      "물        글\n",
      "ase te\n",
      "No eating or drinking\n",
      "\n",
      "\n"
     ]
    }
   ],
   "source": [
    "pyt.tesseract_cmd = r\"C:\\Program Files\\Tesseract-OCR\\tesseract.exe\"\n",
    "\n",
    "img = cv2.imread(\"../images/alert.jpg\",cv2.COLOR_BGR2BGRA)\n",
    "\n",
    "# gray = cv2.cvtColor(img, cv2.COLOR_BGR2GRAY)\n",
    "ret, binary = cv2.threshold(\n",
    "    img, -1, 255, cv2.THRESH_BINARY | cv2.THRESH_OTSU)\n",
    "\n",
    "text = pyt.image_to_string(gray, lang=\"kor\")\n",
    "text1 = pyt.image_to_string(img, lang=\"kor\")\n",
    "text2 = pyt.image_to_string(img, lang=\"kor+eng\")\n",
    "text3 = pyt.image_to_string(binary, lang=\"kor+eng\")\n",
    "print(text)\n",
    "print(text1)\n",
    "print(text2)\n",
    "print(text3)"
   ]
  },
  {
   "cell_type": "code",
   "execution_count": null,
   "metadata": {},
   "outputs": [],
   "source": [
    "pyt.tesseract_cmd = r\"C:\\Program Files\\Tesseract-OCR\\tesseract.exe\"\n",
    "\n",
    "img = cv2.imread(\"../images/alert.jpg\")\n",
    "\n",
    "gray = cv2.cvtColor(img, cv2.COLOR_BGR2GRAY)\n",
    "ret, binary = cv2.threshold(\n",
    "    gray, -1, 255, cv2.THRESH_BINARY | cv2.THRESH_OTSU)\n",
    "\n",
    "text = pyt.image_to_string(gray, lang=\"kor\")\n",
    "text1 = pyt.image_to_string(img, lang=\"kor\")\n",
    "text2 = pyt.image_to_string(img, lang=\"kor+eng\")\n",
    "text3 = pyt.image_to_string(binary, lang=\"kor+eng\")\n",
    "print(text)\n",
    "print(text1)\n",
    "print(text2)\n",
    "print(text3)"
   ]
  }
 ],
 "metadata": {
  "kernelspec": {
   "display_name": "yolo",
   "language": "python",
   "name": "python3"
  },
  "language_info": {
   "codemirror_mode": {
    "name": "ipython",
    "version": 3
   },
   "file_extension": ".py",
   "mimetype": "text/x-python",
   "name": "python",
   "nbconvert_exporter": "python",
   "pygments_lexer": "ipython3",
   "version": "3.12.0"
  }
 },
 "nbformat": 4,
 "nbformat_minor": 2
}
